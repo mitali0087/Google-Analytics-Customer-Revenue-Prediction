{
 "cells": [
  {
   "cell_type": "code",
   "execution_count": 2,
   "id": "42e97e5e",
   "metadata": {},
   "outputs": [],
   "source": [
    "import pandas as pd \n",
    "import numpy as np"
   ]
  },
  {
   "cell_type": "code",
   "execution_count": 3,
   "id": "f72a5c4a",
   "metadata": {},
   "outputs": [
    {
     "data": {
      "text/html": [
       "<div>\n",
       "<style scoped>\n",
       "    .dataframe tbody tr th:only-of-type {\n",
       "        vertical-align: middle;\n",
       "    }\n",
       "\n",
       "    .dataframe tbody tr th {\n",
       "        vertical-align: top;\n",
       "    }\n",
       "\n",
       "    .dataframe thead th {\n",
       "        text-align: right;\n",
       "    }\n",
       "</style>\n",
       "<table border=\"1\" class=\"dataframe\">\n",
       "  <thead>\n",
       "    <tr style=\"text-align: right;\">\n",
       "      <th></th>\n",
       "      <th>channelGrouping</th>\n",
       "      <th>visitNumber</th>\n",
       "      <th>visitStartTime</th>\n",
       "      <th>browser</th>\n",
       "      <th>operatingSystem</th>\n",
       "      <th>isMobile</th>\n",
       "      <th>deviceCategory</th>\n",
       "      <th>continent</th>\n",
       "      <th>subContinent</th>\n",
       "      <th>country</th>\n",
       "      <th>...</th>\n",
       "      <th>networkDomain</th>\n",
       "      <th>hits</th>\n",
       "      <th>pageviews</th>\n",
       "      <th>campaign</th>\n",
       "      <th>source</th>\n",
       "      <th>medium</th>\n",
       "      <th>year</th>\n",
       "      <th>month</th>\n",
       "      <th>day</th>\n",
       "      <th>transactionRevenue</th>\n",
       "    </tr>\n",
       "  </thead>\n",
       "  <tbody>\n",
       "    <tr>\n",
       "      <th>0</th>\n",
       "      <td>Organic Search</td>\n",
       "      <td>1</td>\n",
       "      <td>1472830385</td>\n",
       "      <td>Chrome</td>\n",
       "      <td>Windows</td>\n",
       "      <td>False</td>\n",
       "      <td>desktop</td>\n",
       "      <td>Asia</td>\n",
       "      <td>Western Asia</td>\n",
       "      <td>Turkey</td>\n",
       "      <td>...</td>\n",
       "      <td>ttnet.com.tr</td>\n",
       "      <td>1</td>\n",
       "      <td>1.0</td>\n",
       "      <td>(not set)</td>\n",
       "      <td>google</td>\n",
       "      <td>organic</td>\n",
       "      <td>2016</td>\n",
       "      <td>9</td>\n",
       "      <td>2</td>\n",
       "      <td>NaN</td>\n",
       "    </tr>\n",
       "    <tr>\n",
       "      <th>1</th>\n",
       "      <td>Organic Search</td>\n",
       "      <td>1</td>\n",
       "      <td>1472880147</td>\n",
       "      <td>Firefox</td>\n",
       "      <td>Macintosh</td>\n",
       "      <td>False</td>\n",
       "      <td>desktop</td>\n",
       "      <td>Oceania</td>\n",
       "      <td>Australasia</td>\n",
       "      <td>Australia</td>\n",
       "      <td>...</td>\n",
       "      <td>dodo.net.au</td>\n",
       "      <td>1</td>\n",
       "      <td>1.0</td>\n",
       "      <td>(not set)</td>\n",
       "      <td>google</td>\n",
       "      <td>organic</td>\n",
       "      <td>2016</td>\n",
       "      <td>9</td>\n",
       "      <td>2</td>\n",
       "      <td>NaN</td>\n",
       "    </tr>\n",
       "    <tr>\n",
       "      <th>2</th>\n",
       "      <td>Organic Search</td>\n",
       "      <td>1</td>\n",
       "      <td>1472865386</td>\n",
       "      <td>Chrome</td>\n",
       "      <td>Windows</td>\n",
       "      <td>False</td>\n",
       "      <td>desktop</td>\n",
       "      <td>Europe</td>\n",
       "      <td>Southern Europe</td>\n",
       "      <td>Spain</td>\n",
       "      <td>...</td>\n",
       "      <td>unknown.unknown</td>\n",
       "      <td>1</td>\n",
       "      <td>1.0</td>\n",
       "      <td>(not set)</td>\n",
       "      <td>google</td>\n",
       "      <td>organic</td>\n",
       "      <td>2016</td>\n",
       "      <td>9</td>\n",
       "      <td>2</td>\n",
       "      <td>NaN</td>\n",
       "    </tr>\n",
       "    <tr>\n",
       "      <th>3</th>\n",
       "      <td>Organic Search</td>\n",
       "      <td>1</td>\n",
       "      <td>1472881213</td>\n",
       "      <td>UC Browser</td>\n",
       "      <td>Linux</td>\n",
       "      <td>False</td>\n",
       "      <td>desktop</td>\n",
       "      <td>Asia</td>\n",
       "      <td>Southeast Asia</td>\n",
       "      <td>Indonesia</td>\n",
       "      <td>...</td>\n",
       "      <td>unknown.unknown</td>\n",
       "      <td>1</td>\n",
       "      <td>1.0</td>\n",
       "      <td>(not set)</td>\n",
       "      <td>google</td>\n",
       "      <td>organic</td>\n",
       "      <td>2016</td>\n",
       "      <td>9</td>\n",
       "      <td>2</td>\n",
       "      <td>NaN</td>\n",
       "    </tr>\n",
       "    <tr>\n",
       "      <th>4</th>\n",
       "      <td>Organic Search</td>\n",
       "      <td>2</td>\n",
       "      <td>1472822600</td>\n",
       "      <td>Chrome</td>\n",
       "      <td>Android</td>\n",
       "      <td>True</td>\n",
       "      <td>mobile</td>\n",
       "      <td>Europe</td>\n",
       "      <td>Northern Europe</td>\n",
       "      <td>United Kingdom</td>\n",
       "      <td>...</td>\n",
       "      <td>unknown.unknown</td>\n",
       "      <td>1</td>\n",
       "      <td>1.0</td>\n",
       "      <td>(not set)</td>\n",
       "      <td>google</td>\n",
       "      <td>organic</td>\n",
       "      <td>2016</td>\n",
       "      <td>9</td>\n",
       "      <td>2</td>\n",
       "      <td>NaN</td>\n",
       "    </tr>\n",
       "    <tr>\n",
       "      <th>...</th>\n",
       "      <td>...</td>\n",
       "      <td>...</td>\n",
       "      <td>...</td>\n",
       "      <td>...</td>\n",
       "      <td>...</td>\n",
       "      <td>...</td>\n",
       "      <td>...</td>\n",
       "      <td>...</td>\n",
       "      <td>...</td>\n",
       "      <td>...</td>\n",
       "      <td>...</td>\n",
       "      <td>...</td>\n",
       "      <td>...</td>\n",
       "      <td>...</td>\n",
       "      <td>...</td>\n",
       "      <td>...</td>\n",
       "      <td>...</td>\n",
       "      <td>...</td>\n",
       "      <td>...</td>\n",
       "      <td>...</td>\n",
       "      <td>...</td>\n",
       "    </tr>\n",
       "    <tr>\n",
       "      <th>903648</th>\n",
       "      <td>Social</td>\n",
       "      <td>1</td>\n",
       "      <td>1483554750</td>\n",
       "      <td>Chrome</td>\n",
       "      <td>Windows</td>\n",
       "      <td>False</td>\n",
       "      <td>desktop</td>\n",
       "      <td>Americas</td>\n",
       "      <td>Caribbean</td>\n",
       "      <td>Puerto Rico</td>\n",
       "      <td>...</td>\n",
       "      <td>prtc.net</td>\n",
       "      <td>17</td>\n",
       "      <td>15.0</td>\n",
       "      <td>(not set)</td>\n",
       "      <td>youtube.com</td>\n",
       "      <td>referral</td>\n",
       "      <td>2017</td>\n",
       "      <td>1</td>\n",
       "      <td>4</td>\n",
       "      <td>NaN</td>\n",
       "    </tr>\n",
       "    <tr>\n",
       "      <th>903649</th>\n",
       "      <td>Social</td>\n",
       "      <td>1</td>\n",
       "      <td>1483543798</td>\n",
       "      <td>Chrome</td>\n",
       "      <td>Android</td>\n",
       "      <td>True</td>\n",
       "      <td>mobile</td>\n",
       "      <td>Asia</td>\n",
       "      <td>Southern Asia</td>\n",
       "      <td>Sri Lanka</td>\n",
       "      <td>...</td>\n",
       "      <td>unknown.unknown</td>\n",
       "      <td>18</td>\n",
       "      <td>13.0</td>\n",
       "      <td>(not set)</td>\n",
       "      <td>youtube.com</td>\n",
       "      <td>referral</td>\n",
       "      <td>2017</td>\n",
       "      <td>1</td>\n",
       "      <td>4</td>\n",
       "      <td>NaN</td>\n",
       "    </tr>\n",
       "    <tr>\n",
       "      <th>903650</th>\n",
       "      <td>Social</td>\n",
       "      <td>1</td>\n",
       "      <td>1483526434</td>\n",
       "      <td>Android Webview</td>\n",
       "      <td>Android</td>\n",
       "      <td>True</td>\n",
       "      <td>mobile</td>\n",
       "      <td>Asia</td>\n",
       "      <td>Eastern Asia</td>\n",
       "      <td>South Korea</td>\n",
       "      <td>...</td>\n",
       "      <td>unknown.unknown</td>\n",
       "      <td>24</td>\n",
       "      <td>21.0</td>\n",
       "      <td>(not set)</td>\n",
       "      <td>youtube.com</td>\n",
       "      <td>referral</td>\n",
       "      <td>2017</td>\n",
       "      <td>1</td>\n",
       "      <td>4</td>\n",
       "      <td>NaN</td>\n",
       "    </tr>\n",
       "    <tr>\n",
       "      <th>903651</th>\n",
       "      <td>Social</td>\n",
       "      <td>1</td>\n",
       "      <td>1483592864</td>\n",
       "      <td>Chrome</td>\n",
       "      <td>Windows</td>\n",
       "      <td>False</td>\n",
       "      <td>desktop</td>\n",
       "      <td>Asia</td>\n",
       "      <td>Southeast Asia</td>\n",
       "      <td>Indonesia</td>\n",
       "      <td>...</td>\n",
       "      <td>unknown.unknown</td>\n",
       "      <td>24</td>\n",
       "      <td>22.0</td>\n",
       "      <td>(not set)</td>\n",
       "      <td>facebook.com</td>\n",
       "      <td>referral</td>\n",
       "      <td>2017</td>\n",
       "      <td>1</td>\n",
       "      <td>4</td>\n",
       "      <td>NaN</td>\n",
       "    </tr>\n",
       "    <tr>\n",
       "      <th>903652</th>\n",
       "      <td>Social</td>\n",
       "      <td>1</td>\n",
       "      <td>1483574474</td>\n",
       "      <td>Chrome</td>\n",
       "      <td>Android</td>\n",
       "      <td>True</td>\n",
       "      <td>mobile</td>\n",
       "      <td>Americas</td>\n",
       "      <td>Central America</td>\n",
       "      <td>Mexico</td>\n",
       "      <td>...</td>\n",
       "      <td>cybercable.net.mx</td>\n",
       "      <td>31</td>\n",
       "      <td>31.0</td>\n",
       "      <td>(not set)</td>\n",
       "      <td>youtube.com</td>\n",
       "      <td>referral</td>\n",
       "      <td>2017</td>\n",
       "      <td>1</td>\n",
       "      <td>4</td>\n",
       "      <td>NaN</td>\n",
       "    </tr>\n",
       "  </tbody>\n",
       "</table>\n",
       "<p>903653 rows × 23 columns</p>\n",
       "</div>"
      ],
      "text/plain": [
       "       channelGrouping  visitNumber  visitStartTime          browser  \\\n",
       "0       Organic Search            1      1472830385           Chrome   \n",
       "1       Organic Search            1      1472880147          Firefox   \n",
       "2       Organic Search            1      1472865386           Chrome   \n",
       "3       Organic Search            1      1472881213       UC Browser   \n",
       "4       Organic Search            2      1472822600           Chrome   \n",
       "...                ...          ...             ...              ...   \n",
       "903648          Social            1      1483554750           Chrome   \n",
       "903649          Social            1      1483543798           Chrome   \n",
       "903650          Social            1      1483526434  Android Webview   \n",
       "903651          Social            1      1483592864           Chrome   \n",
       "903652          Social            1      1483574474           Chrome   \n",
       "\n",
       "       operatingSystem  isMobile deviceCategory continent     subContinent  \\\n",
       "0              Windows     False        desktop      Asia     Western Asia   \n",
       "1            Macintosh     False        desktop   Oceania      Australasia   \n",
       "2              Windows     False        desktop    Europe  Southern Europe   \n",
       "3                Linux     False        desktop      Asia   Southeast Asia   \n",
       "4              Android      True         mobile    Europe  Northern Europe   \n",
       "...                ...       ...            ...       ...              ...   \n",
       "903648         Windows     False        desktop  Americas        Caribbean   \n",
       "903649         Android      True         mobile      Asia    Southern Asia   \n",
       "903650         Android      True         mobile      Asia     Eastern Asia   \n",
       "903651         Windows     False        desktop      Asia   Southeast Asia   \n",
       "903652         Android      True         mobile  Americas  Central America   \n",
       "\n",
       "               country  ...      networkDomain hits pageviews   campaign  \\\n",
       "0               Turkey  ...       ttnet.com.tr    1       1.0  (not set)   \n",
       "1            Australia  ...        dodo.net.au    1       1.0  (not set)   \n",
       "2                Spain  ...    unknown.unknown    1       1.0  (not set)   \n",
       "3            Indonesia  ...    unknown.unknown    1       1.0  (not set)   \n",
       "4       United Kingdom  ...    unknown.unknown    1       1.0  (not set)   \n",
       "...                ...  ...                ...  ...       ...        ...   \n",
       "903648     Puerto Rico  ...           prtc.net   17      15.0  (not set)   \n",
       "903649       Sri Lanka  ...    unknown.unknown   18      13.0  (not set)   \n",
       "903650     South Korea  ...    unknown.unknown   24      21.0  (not set)   \n",
       "903651       Indonesia  ...    unknown.unknown   24      22.0  (not set)   \n",
       "903652          Mexico  ...  cybercable.net.mx   31      31.0  (not set)   \n",
       "\n",
       "              source    medium  year month day  transactionRevenue  \n",
       "0             google   organic  2016     9   2                 NaN  \n",
       "1             google   organic  2016     9   2                 NaN  \n",
       "2             google   organic  2016     9   2                 NaN  \n",
       "3             google   organic  2016     9   2                 NaN  \n",
       "4             google   organic  2016     9   2                 NaN  \n",
       "...              ...       ...   ...   ...  ..                 ...  \n",
       "903648   youtube.com  referral  2017     1   4                 NaN  \n",
       "903649   youtube.com  referral  2017     1   4                 NaN  \n",
       "903650   youtube.com  referral  2017     1   4                 NaN  \n",
       "903651  facebook.com  referral  2017     1   4                 NaN  \n",
       "903652   youtube.com  referral  2017     1   4                 NaN  \n",
       "\n",
       "[903653 rows x 23 columns]"
      ]
     },
     "execution_count": 3,
     "metadata": {},
     "output_type": "execute_result"
    }
   ],
   "source": [
    "df = pd.read_csv(\"cleaned_data.csv\") \n",
    "df"
   ]
  },
  {
   "cell_type": "code",
   "execution_count": 4,
   "id": "c55779b2",
   "metadata": {},
   "outputs": [
    {
     "name": "stdout",
     "output_type": "stream",
     "text": [
      "<class 'pandas.core.frame.DataFrame'>\n",
      "RangeIndex: 903653 entries, 0 to 903652\n",
      "Data columns (total 23 columns):\n",
      " #   Column              Non-Null Count   Dtype  \n",
      "---  ------              --------------   -----  \n",
      " 0   channelGrouping     903653 non-null  object \n",
      " 1   visitNumber         903653 non-null  int64  \n",
      " 2   visitStartTime      903653 non-null  int64  \n",
      " 3   browser             903653 non-null  object \n",
      " 4   operatingSystem     903653 non-null  object \n",
      " 5   isMobile            903653 non-null  bool   \n",
      " 6   deviceCategory      903653 non-null  object \n",
      " 7   continent           903653 non-null  object \n",
      " 8   subContinent        903653 non-null  object \n",
      " 9   country             903653 non-null  object \n",
      " 10  region              903653 non-null  object \n",
      " 11  metro               903653 non-null  object \n",
      " 12  city                903653 non-null  object \n",
      " 13  networkDomain       903653 non-null  object \n",
      " 14  hits                903653 non-null  int64  \n",
      " 15  pageviews           903553 non-null  float64\n",
      " 16  campaign            903653 non-null  object \n",
      " 17  source              903653 non-null  object \n",
      " 18  medium              903653 non-null  object \n",
      " 19  year                903653 non-null  int64  \n",
      " 20  month               903653 non-null  int64  \n",
      " 21  day                 903653 non-null  int64  \n",
      " 22  transactionRevenue  11515 non-null   float64\n",
      "dtypes: bool(1), float64(2), int64(6), object(14)\n",
      "memory usage: 152.5+ MB\n"
     ]
    }
   ],
   "source": [
    "df.info()"
   ]
  },
  {
   "cell_type": "code",
   "execution_count": 19,
   "id": "bb0a512e",
   "metadata": {},
   "outputs": [
    {
     "data": {
      "text/html": [
       "        <script type=\"text/javascript\">\n",
       "        window.PlotlyConfig = {MathJaxConfig: 'local'};\n",
       "        if (window.MathJax) {MathJax.Hub.Config({SVG: {font: \"STIX-Web\"}});}\n",
       "        if (typeof require !== 'undefined') {\n",
       "        require.undef(\"plotly\");\n",
       "        requirejs.config({\n",
       "            paths: {\n",
       "                'plotly': ['https://cdn.plot.ly/plotly-latest.min']\n",
       "            }\n",
       "        });\n",
       "        require(['plotly'], function(Plotly) {\n",
       "            window._Plotly = Plotly;\n",
       "        });\n",
       "        }\n",
       "        </script>\n",
       "        "
      ]
     },
     "metadata": {},
     "output_type": "display_data"
    },
    {
     "name": "stderr",
     "output_type": "stream",
     "text": [
      "/opt/conda/lib/python3.7/site-packages/seaborn/distributions.py:2557: FutureWarning:\n",
      "\n",
      "`distplot` is a deprecated function and will be removed in a future version. Please adapt your code to use either `displot` (a figure-level function with similar flexibility) or `histplot` (an axes-level function for histograms).\n",
      "\n"
     ]
    },
    {
     "data": {
      "image/png": "[encoded data removed]",
      "text/plain": [
       "<Figure size 1440x360 with 2 Axes>"
      ]
     },
     "metadata": {},
     "output_type": "display_data"
    }
   ],
   "source": [
    "import matplotlib.pyplot as plt \n",
    "import seaborn as sns \n",
    "\n",
    "# Importing librarys to use on interactive graphs\n",
    "import plotly.offline as plty\n",
    "from plotly import tools\n",
    "import plotly.express as px\n",
    "from plotly.offline import init_notebook_mode, iplot, plot \n",
    "import plotly.graph_objs as go \n",
    "\n",
    "# to set a style to all graphs\n",
    "plt.style.use('fivethirtyeight')\n",
    "init_notebook_mode(connected=True)\n",
    "sns.set_style(\"whitegrid\")\n",
    "sns.set_context(\"paper\")\n",
    "\n",
    "# Explore revenue\n",
    "fig = plt.figure(figsize=(20,5))\n",
    "plt.suptitle('Distribution of Revenue', fontsize=30)\n",
    "\n",
    "ax1 = fig.add_subplot(121)\n",
    "_ = sns.distplot(np.log(df[df['transactionRevenue'] > 0][\"transactionRevenue\"]), bins=40,color='#e56b6f', ax=ax1)\n",
    "_ = ax1.set_ylabel('Distribution', fontsize=20)\n",
    "_ = ax1.set_xlabel('Transaction Revenue Log', fontsize=20)\n",
    "\n",
    "\n",
    "ax2 = fig.add_subplot(122)\n",
    "_ = plt.scatter(range(df.shape[0]), np.sort(df['transactionRevenue'].values), color='#2a9d8f')\n",
    "_ = ax2.set_ylabel('Distribution', fontsize=20)\n",
    "_ = ax2.set_xlabel('Revenue', fontsize=20)\n"
   ]
  },
  {
   "cell_type": "code",
   "execution_count": 6,
   "id": "49059525",
   "metadata": {},
   "outputs": [],
   "source": [
    "def make_bar_chart(cnt_srs, color):\n",
    "    trace = go.Bar(\n",
    "        y=cnt_srs.index[::-1],\n",
    "        x=cnt_srs.values[::-1],\n",
    "        showlegend=False,\n",
    "        orientation = 'h',\n",
    "        marker=dict(\n",
    "            color=color,\n",
    "        ),\n",
    "    )\n",
    "    return trace"
   ]
  },
  {
   "cell_type": "code",
   "execution_count": 18,
   "id": "fb146584",
   "metadata": {},
   "outputs": [
    {
     "name": "stderr",
     "output_type": "stream",
     "text": [
      "/opt/conda/lib/python3.7/site-packages/plotly/tools.py:465: DeprecationWarning:\n",
      "\n",
      "plotly.tools.make_subplots is deprecated, please use plotly.subplots.make_subplots instead\n",
      "\n"
     ]
    },
    {
     "data": {
      "application/vnd.plotly.v1+json": {
       "config": {
        "linkText": "Export to plot.ly",
        "plotlyServerURL": "https://plot.ly",
        "showLink": false
       },
       "data": [
        {
         "marker": {
          "color": "#073b4c"
         },
         "orientation": "h",
         "showlegend": false,
         "type": "bar",
         "x": [
          1,
          184,
          9,
          7865,
          2,
          553,
          561,
          1,
          7,
          8
         ],
         "xaxis": "x",
         "y": [
          "CSM Click",
          "BlackBerry",
          "Apple-iPhone7C2",
          "Android Webview",
          "Android Runtime",
          "Android Browser",
          "Amazon Silk",
          "ADM",
          "0",
          "(not set)"
         ],
         "yaxis": "y"
        },
        {
         "marker": {
          "color": "#073b4c"
         },
         "orientation": "h",
         "showlegend": false,
         "type": "bar",
         "x": [
          0,
          0,
          0,
          114850000,
          0,
          0,
          29990000,
          0,
          0,
          0
         ],
         "xaxis": "x2",
         "y": [
          "CSM Click",
          "BlackBerry",
          "Apple-iPhone7C2",
          "Android Webview",
          "Android Runtime",
          "Android Browser",
          "Amazon Silk",
          "ADM",
          "0",
          "(not set)"
         ],
         "yaxis": "y2"
        },
        {
         "marker": {
          "color": "#073b4c"
         },
         "orientation": "h",
         "showlegend": false,
         "type": "bar",
         "x": [
          null,
          null,
          null,
          19141666.666666668,
          null,
          null,
          29990000,
          null,
          null,
          null
         ],
         "xaxis": "x3",
         "y": [
          "CSM Click",
          "BlackBerry",
          "Apple-iPhone7C2",
          "Android Webview",
          "Android Runtime",
          "Android Browser",
          "Amazon Silk",
          "ADM",
          "0",
          "(not set)"
         ],
         "yaxis": "y3"
        }
       ],
       "layout": {
        "annotations": [
         {
          "font": {
           "size": 16
          },
          "showarrow": false,
          "text": "Device Browser - Count",
          "x": 0.14444444444444446,
          "xanchor": "center",
          "xref": "paper",
          "y": 1,
          "yanchor": "bottom",
          "yref": "paper"
         },
         {
          "font": {
           "size": 16
          },
          "showarrow": false,
          "text": "Device Browser - Total Revenue",
          "x": 0.5,
          "xanchor": "center",
          "xref": "paper",
          "y": 1,
          "yanchor": "bottom",
          "yref": "paper"
         },
         {
          "font": {
           "size": 16
          },
          "showarrow": false,
          "text": "Device Browser - Mean Revenue",
          "x": 0.8555555555555556,
          "xanchor": "center",
          "xref": "paper",
          "y": 1,
          "yanchor": "bottom",
          "yref": "paper"
         }
        ],
        "height": 600,
        "paper_bgcolor": "#ffffff",
        "template": {
         "data": {
          "bar": [
           {
            "error_x": {
             "color": "#2a3f5f"
            },
            "error_y": {
             "color": "#2a3f5f"
            },
            "marker": {
             "line": {
              "color": "white",
              "width": 0.5
             }
            },
            "type": "bar"
           }
          ],
          "barpolar": [
           {
            "marker": {
             "line": {
              "color": "white",
              "width": 0.5
             }
            },
            "type": "barpolar"
           }
          ],
          "carpet": [
           {
            "aaxis": {
             "endlinecolor": "#2a3f5f",
             "gridcolor": "#C8D4E3",
             "linecolor": "#C8D4E3",
             "minorgridcolor": "#C8D4E3",
             "startlinecolor": "#2a3f5f"
            },
            "baxis": {
             "endlinecolor": "#2a3f5f",
             "gridcolor": "#C8D4E3",
             "linecolor": "#C8D4E3",
             "minorgridcolor": "#C8D4E3",
             "startlinecolor": "#2a3f5f"
            },
            "type": "carpet"
           }
          ],
          "choropleth": [
           {
            "colorbar": {
             "outlinewidth": 0,
             "ticks": ""
            },
            "type": "choropleth"
           }
          ],
          "contour": [
           {
            "colorbar": {
             "outlinewidth": 0,
             "ticks": ""
            },
            "colorscale": [
             [
              0,
              "#0d0887"
             ],
             [
              0.1111111111111111,
              "#46039f"
             ],
             [
              0.2222222222222222,
              "#7201a8"
             ],
             [
              0.3333333333333333,
              "#9c179e"
             ],
             [
              0.4444444444444444,
              "#bd3786"
             ],
             [
              0.5555555555555556,
              "#d8576b"
             ],
             [
              0.6666666666666666,
              "#ed7953"
             ],
             [
              0.7777777777777778,
              "#fb9f3a"
             ],
             [
              0.8888888888888888,
              "#fdca26"
             ],
             [
              1,
              "#f0f921"
             ]
            ],
            "type": "contour"
           }
          ],
          "contourcarpet": [
           {
            "colorbar": {
             "outlinewidth": 0,
             "ticks": ""
            },
            "type": "contourcarpet"
           }
          ],
          "heatmap": [
           {
            "colorbar": {
             "outlinewidth": 0,
             "ticks": ""
            },
            "colorscale": [
             [
              0,
              "#0d0887"
             ],
             [
              0.1111111111111111,
              "#46039f"
             ],
             [
              0.2222222222222222,
              "#7201a8"
             ],
             [
              0.3333333333333333,
              "#9c179e"
             ],
             [
              0.4444444444444444,
              "#bd3786"
             ],
             [
              0.5555555555555556,
              "#d8576b"
             ],
             [
              0.6666666666666666,
              "#ed7953"
             ],
             [
              0.7777777777777778,
              "#fb9f3a"
             ],
             [
              0.8888888888888888,
              "#fdca26"
             ],
             [
              1,
              "#f0f921"
             ]
            ],
            "type": "heatmap"
           }
          ],
          "heatmapgl": [
           {
            "colorbar": {
             "outlinewidth": 0,
             "ticks": ""
            },
            "colorscale": [
             [
              0,
              "#0d0887"
             ],
             [
              0.1111111111111111,
              "#46039f"
             ],
             [
              0.2222222222222222,
              "#7201a8"
             ],
             [
              0.3333333333333333,
              "#9c179e"
             ],
             [
              0.4444444444444444,
              "#bd3786"
             ],
             [
              0.5555555555555556,
              "#d8576b"
             ],
             [
              0.6666666666666666,
              "#ed7953"
             ],
             [
              0.7777777777777778,
              "#fb9f3a"
             ],
             [
              0.8888888888888888,
              "#fdca26"
             ],
             [
              1,
              "#f0f921"
             ]
            ],
            "type": "heatmapgl"
           }
          ],
          "histogram": [
           {
            "marker": {
             "colorbar": {
              "outlinewidth": 0,
              "ticks": ""
             }
            },
            "type": "histogram"
           }
          ],
          "histogram2d": [
           {
            "colorbar": {
             "outlinewidth": 0,
             "ticks": ""
            },
            "colorscale": [
             [
              0,
              "#0d0887"
             ],
             [
              0.1111111111111111,
              "#46039f"
             ],
             [
              0.2222222222222222,
              "#7201a8"
             ],
             [
              0.3333333333333333,
              "#9c179e"
             ],
             [
              0.4444444444444444,
              "#bd3786"
             ],
             [
              0.5555555555555556,
              "#d8576b"
             ],
             [
              0.6666666666666666,
              "#ed7953"
             ],
             [
              0.7777777777777778,
              "#fb9f3a"
             ],
             [
              0.8888888888888888,
              "#fdca26"
             ],
             [
              1,
              "#f0f921"
             ]
            ],
            "type": "histogram2d"
           }
          ],
          "histogram2dcontour": [
           {
            "colorbar": {
             "outlinewidth": 0,
             "ticks": ""
            },
            "colorscale": [
             [
              0,
              "#0d0887"
             ],
             [
              0.1111111111111111,
              "#46039f"
             ],
             [
              0.2222222222222222,
              "#7201a8"
             ],
             [
              0.3333333333333333,
              "#9c179e"
             ],
             [
              0.4444444444444444,
              "#bd3786"
             ],
             [
              0.5555555555555556,
              "#d8576b"
             ],
             [
              0.6666666666666666,
              "#ed7953"
             ],
             [
              0.7777777777777778,
              "#fb9f3a"
             ],
             [
              0.8888888888888888,
              "#fdca26"
             ],
             [
              1,
              "#f0f921"
             ]
            ],
            "type": "histogram2dcontour"
           }
          ],
          "mesh3d": [
           {
            "colorbar": {
             "outlinewidth": 0,
             "ticks": ""
            },
            "type": "mesh3d"
           }
          ],
          "parcoords": [
           {
            "line": {
             "colorbar": {
              "outlinewidth": 0,
              "ticks": ""
             }
            },
            "type": "parcoords"
           }
          ],
          "pie": [
           {
            "automargin": true,
            "type": "pie"
           }
          ],
          "scatter": [
           {
            "marker": {
             "colorbar": {
              "outlinewidth": 0,
              "ticks": ""
             }
            },
            "type": "scatter"
           }
          ],
          "scatter3d": [
           {
            "line": {
             "colorbar": {
              "outlinewidth": 0,
              "ticks": ""
             }
            },
            "marker": {
             "colorbar": {
              "outlinewidth": 0,
              "ticks": ""
             }
            },
            "type": "scatter3d"
           }
          ],
          "scattercarpet": [
           {
            "marker": {
             "colorbar": {
              "outlinewidth": 0,
              "ticks": ""
             }
            },
            "type": "scattercarpet"
           }
          ],
          "scattergeo": [
           {
            "marker": {
             "colorbar": {
              "outlinewidth": 0,
              "ticks": ""
             }
            },
            "type": "scattergeo"
           }
          ],
          "scattergl": [
           {
            "marker": {
             "colorbar": {
              "outlinewidth": 0,
              "ticks": ""
             }
            },
            "type": "scattergl"
           }
          ],
          "scattermapbox": [
           {
            "marker": {
             "colorbar": {
              "outlinewidth": 0,
              "ticks": ""
             }
            },
            "type": "scattermapbox"
           }
          ],
          "scatterpolar": [
           {
            "marker": {
             "colorbar": {
              "outlinewidth": 0,
              "ticks": ""
             }
            },
            "type": "scatterpolar"
           }
          ],
          "scatterpolargl": [
           {
            "marker": {
             "colorbar": {
              "outlinewidth": 0,
              "ticks": ""
             }
            },
            "type": "scatterpolargl"
           }
          ],
          "scatterternary": [
           {
            "marker": {
             "colorbar": {
              "outlinewidth": 0,
              "ticks": ""
             }
            },
            "type": "scatterternary"
           }
          ],
          "surface": [
           {
            "colorbar": {
             "outlinewidth": 0,
             "ticks": ""
            },
            "colorscale": [
             [
              0,
              "#0d0887"
             ],
             [
              0.1111111111111111,
              "#46039f"
             ],
             [
              0.2222222222222222,
              "#7201a8"
             ],
             [
              0.3333333333333333,
              "#9c179e"
             ],
             [
              0.4444444444444444,
              "#bd3786"
             ],
             [
              0.5555555555555556,
              "#d8576b"
             ],
             [
              0.6666666666666666,
              "#ed7953"
             ],
             [
              0.7777777777777778,
              "#fb9f3a"
             ],
             [
              0.8888888888888888,
              "#fdca26"
             ],
             [
              1,
              "#f0f921"
             ]
            ],
            "type": "surface"
           }
          ],
          "table": [
           {
            "cells": {
             "fill": {
              "color": "#EBF0F8"
             },
             "line": {
              "color": "white"
             }
            },
            "header": {
             "fill": {
              "color": "#C8D4E3"
             },
             "line": {
              "color": "white"
             }
            },
            "type": "table"
           }
          ]
         },
         "layout": {
          "annotationdefaults": {
           "arrowcolor": "#2a3f5f",
           "arrowhead": 0,
           "arrowwidth": 1
          },
          "autotypenumbers": "strict",
          "coloraxis": {
           "colorbar": {
            "outlinewidth": 0,
            "ticks": ""
           }
          },
          "colorscale": {
           "diverging": [
            [
             0,
             "#8e0152"
            ],
            [
             0.1,
             "#c51b7d"
            ],
            [
             0.2,
             "#de77ae"
            ],
            [
             0.3,
             "#f1b6da"
            ],
            [
             0.4,
             "#fde0ef"
            ],
            [
             0.5,
             "#f7f7f7"
            ],
            [
             0.6,
             "#e6f5d0"
            ],
            [
             0.7,
             "#b8e186"
            ],
            [
             0.8,
             "#7fbc41"
            ],
            [
             0.9,
             "#4d9221"
            ],
            [
             1,
             "#276419"
            ]
           ],
           "sequential": [
            [
             0,
             "#0d0887"
            ],
            [
             0.1111111111111111,
             "#46039f"
            ],
            [
             0.2222222222222222,
             "#7201a8"
            ],
            [
             0.3333333333333333,
             "#9c179e"
            ],
            [
             0.4444444444444444,
             "#bd3786"
            ],
            [
             0.5555555555555556,
             "#d8576b"
            ],
            [
             0.6666666666666666,
             "#ed7953"
            ],
            [
             0.7777777777777778,
             "#fb9f3a"
            ],
            [
             0.8888888888888888,
             "#fdca26"
            ],
            [
             1,
             "#f0f921"
            ]
           ],
           "sequentialminus": [
            [
             0,
             "#0d0887"
            ],
            [
             0.1111111111111111,
             "#46039f"
            ],
            [
             0.2222222222222222,
             "#7201a8"
            ],
            [
             0.3333333333333333,
             "#9c179e"
            ],
            [
             0.4444444444444444,
             "#bd3786"
            ],
            [
             0.5555555555555556,
             "#d8576b"
            ],
            [
             0.6666666666666666,
             "#ed7953"
            ],
            [
             0.7777777777777778,
             "#fb9f3a"
            ],
            [
             0.8888888888888888,
             "#fdca26"
            ],
            [
             1,
             "#f0f921"
            ]
           ]
          },
          "colorway": [
           "#636efa",
           "#EF553B",
           "#00cc96",
           "#ab63fa",
           "#FFA15A",
           "#19d3f3",
           "#FF6692",
           "#B6E880",
           "#FF97FF",
           "#FECB52"
          ],
          "font": {
           "color": "#2a3f5f"
          },
          "geo": {
           "bgcolor": "white",
           "lakecolor": "white",
           "landcolor": "white",
           "showlakes": true,
           "showland": true,
           "subunitcolor": "#C8D4E3"
          },
          "hoverlabel": {
           "align": "left"
          },
          "hovermode": "closest",
          "mapbox": {
           "style": "light"
          },
          "paper_bgcolor": "white",
          "plot_bgcolor": "white",
          "polar": {
           "angularaxis": {
            "gridcolor": "#EBF0F8",
            "linecolor": "#EBF0F8",
            "ticks": ""
           },
           "bgcolor": "white",
           "radialaxis": {
            "gridcolor": "#EBF0F8",
            "linecolor": "#EBF0F8",
            "ticks": ""
           }
          },
          "scene": {
           "xaxis": {
            "backgroundcolor": "white",
            "gridcolor": "#DFE8F3",
            "gridwidth": 2,
            "linecolor": "#EBF0F8",
            "showbackground": true,
            "ticks": "",
            "zerolinecolor": "#EBF0F8"
           },
           "yaxis": {
            "backgroundcolor": "white",
            "gridcolor": "#DFE8F3",
            "gridwidth": 2,
            "linecolor": "#EBF0F8",
            "showbackground": true,
            "ticks": "",
            "zerolinecolor": "#EBF0F8"
           },
           "zaxis": {
            "backgroundcolor": "white",
            "gridcolor": "#DFE8F3",
            "gridwidth": 2,
            "linecolor": "#EBF0F8",
            "showbackground": true,
            "ticks": "",
            "zerolinecolor": "#EBF0F8"
           }
          },
          "shapedefaults": {
           "line": {
            "color": "#2a3f5f"
           }
          },
          "ternary": {
           "aaxis": {
            "gridcolor": "#DFE8F3",
            "linecolor": "#A2B1C6",
            "ticks": ""
           },
           "baxis": {
            "gridcolor": "#DFE8F3",
            "linecolor": "#A2B1C6",
            "ticks": ""
           },
           "bgcolor": "white",
           "caxis": {
            "gridcolor": "#DFE8F3",
            "linecolor": "#A2B1C6",
            "ticks": ""
           }
          },
          "title": {
           "x": 0.05
          },
          "xaxis": {
           "automargin": true,
           "gridcolor": "#EBF0F8",
           "linecolor": "#EBF0F8",
           "ticks": "",
           "title": {
            "standoff": 15
           },
           "zerolinecolor": "#EBF0F8",
           "zerolinewidth": 2
          },
          "yaxis": {
           "automargin": true,
           "gridcolor": "#EBF0F8",
           "linecolor": "#EBF0F8",
           "ticks": "",
           "title": {
            "standoff": 15
           },
           "zerolinecolor": "#EBF0F8",
           "zerolinewidth": 2
          }
         }
        },
        "title": {
         "text": "Device Browser"
        },
        "width": 1500,
        "xaxis": {
         "anchor": "y",
         "autorange": true,
         "domain": [
          0,
          0.2888888888888889
         ],
         "range": [
          0,
          8278.947368421053
         ],
         "type": "linear"
        },
        "xaxis2": {
         "anchor": "y2",
         "autorange": true,
         "domain": [
          0.35555555555555557,
          0.6444444444444445
         ],
         "range": [
          0,
          120894736.84210527
         ],
         "type": "linear"
        },
        "xaxis3": {
         "anchor": "y3",
         "autorange": true,
         "domain": [
          0.7111111111111111,
          1
         ],
         "range": [
          0,
          31568421.05263158
         ],
         "type": "linear"
        },
        "xaxis4": {
         "anchor": "y4",
         "domain": [
          0,
          0.2888888888888889
         ]
        },
        "xaxis5": {
         "anchor": "y5",
         "domain": [
          0.35555555555555557,
          0.6444444444444445
         ]
        },
        "xaxis6": {
         "anchor": "y6",
         "domain": [
          0.7111111111111111,
          1
         ]
        },
        "xaxis7": {
         "anchor": "y7",
         "domain": [
          0,
          0.2888888888888889
         ]
        },
        "xaxis8": {
         "anchor": "y8",
         "domain": [
          0.35555555555555557,
          0.6444444444444445
         ]
        },
        "xaxis9": {
         "anchor": "y9",
         "domain": [
          0.7111111111111111,
          1
         ]
        },
        "yaxis": {
         "anchor": "x",
         "autorange": true,
         "domain": [
          0.6933333333333334,
          1
         ],
         "range": [
          -0.5,
          9.5
         ],
         "type": "category"
        },
        "yaxis2": {
         "anchor": "x2",
         "autorange": true,
         "domain": [
          0.6933333333333334,
          1
         ],
         "range": [
          -0.5,
          9.5
         ],
         "type": "category"
        },
        "yaxis3": {
         "anchor": "x3",
         "autorange": true,
         "domain": [
          0.6933333333333334,
          1
         ],
         "range": [
          -0.5,
          9.5
         ],
         "type": "category"
        },
        "yaxis4": {
         "anchor": "x4",
         "domain": [
          0.3466666666666667,
          0.6533333333333333
         ]
        },
        "yaxis5": {
         "anchor": "x5",
         "domain": [
          0.3466666666666667,
          0.6533333333333333
         ]
        },
        "yaxis6": {
         "anchor": "x6",
         "domain": [
          0.3466666666666667,
          0.6533333333333333
         ]
        },
        "yaxis7": {
         "anchor": "x7",
         "domain": [
          0,
          0.3066666666666667
         ]
        },
        "yaxis8": {
         "anchor": "x8",
         "domain": [
          0,
          0.3066666666666667
         ]
        },
        "yaxis9": {
         "anchor": "x9",
         "domain": [
          0,
          0.3066666666666667
         ]
        }
       }
      },
      "image/png": "[encoded data removed]",
      "text/html": [
       "<div>                            <div id=\"d89300b1-98d6-483c-871c-c7cb1a44d8d0\" class=\"plotly-graph-div\" style=\"height:600px; width:1500px;\"></div>            <script type=\"text/javascript\">                require([\"plotly\"], function(Plotly) {                    window.PLOTLYENV=window.PLOTLYENV || {};                                    if (document.getElementById(\"d89300b1-98d6-483c-871c-c7cb1a44d8d0\")) {                    Plotly.newPlot(                        \"d89300b1-98d6-483c-871c-c7cb1a44d8d0\",                        [{\"marker\": {\"color\": \"#073b4c\"}, \"orientation\": \"h\", \"showlegend\": false, \"type\": \"bar\", \"x\": [1, 184, 9, 7865, 2, 553, 561, 1, 7, 8], \"xaxis\": \"x\", \"y\": [\"CSM Click\", \"BlackBerry\", \"Apple-iPhone7C2\", \"Android Webview\", \"Android Runtime\", \"Android Browser\", \"Amazon Silk\", \"ADM\", \"0\", \"(not set)\"], \"yaxis\": \"y\"}, {\"marker\": {\"color\": \"#073b4c\"}, \"orientation\": \"h\", \"showlegend\": false, \"type\": \"bar\", \"x\": [0.0, 0.0, 0.0, 114850000.0, 0.0, 0.0, 29990000.0, 0.0, 0.0, 0.0], \"xaxis\": \"x2\", \"y\": [\"CSM Click\", \"BlackBerry\", \"Apple-iPhone7C2\", \"Android Webview\", \"Android Runtime\", \"Android Browser\", \"Amazon Silk\", \"ADM\", \"0\", \"(not set)\"], \"yaxis\": \"y2\"}, {\"marker\": {\"color\": \"#073b4c\"}, \"orientation\": \"h\", \"showlegend\": false, \"type\": \"bar\", \"x\": [null, null, null, 19141666.666666668, null, null, 29990000.0, null, null, null], \"xaxis\": \"x3\", \"y\": [\"CSM Click\", \"BlackBerry\", \"Apple-iPhone7C2\", \"Android Webview\", \"Android Runtime\", \"Android Browser\", \"Amazon Silk\", \"ADM\", \"0\", \"(not set)\"], \"yaxis\": \"y3\"}],                        {\"annotations\": [{\"font\": {\"size\": 16}, \"showarrow\": false, \"text\": \"Device Browser - Count\", \"x\": 0.14444444444444446, \"xanchor\": \"center\", \"xref\": \"paper\", \"y\": 1.0, \"yanchor\": \"bottom\", \"yref\": \"paper\"}, {\"font\": {\"size\": 16}, \"showarrow\": false, \"text\": \"Device Browser - Total Revenue\", \"x\": 0.5, \"xanchor\": \"center\", \"xref\": \"paper\", \"y\": 1.0, \"yanchor\": \"bottom\", \"yref\": \"paper\"}, {\"font\": {\"size\": 16}, \"showarrow\": false, \"text\": \"Device Browser - Mean Revenue\", \"x\": 0.8555555555555556, \"xanchor\": \"center\", \"xref\": \"paper\", \"y\": 1.0, \"yanchor\": \"bottom\", \"yref\": \"paper\"}], \"height\": 600, \"paper_bgcolor\": \"#ffffff\", \"template\": {\"data\": {\"bar\": [{\"error_x\": {\"color\": \"#2a3f5f\"}, \"error_y\": {\"color\": \"#2a3f5f\"}, \"marker\": {\"line\": {\"color\": \"white\", \"width\": 0.5}}, \"type\": \"bar\"}], \"barpolar\": [{\"marker\": {\"line\": {\"color\": \"white\", \"width\": 0.5}}, \"type\": \"barpolar\"}], \"carpet\": [{\"aaxis\": {\"endlinecolor\": \"#2a3f5f\", \"gridcolor\": \"#C8D4E3\", \"linecolor\": \"#C8D4E3\", \"minorgridcolor\": \"#C8D4E3\", \"startlinecolor\": \"#2a3f5f\"}, \"baxis\": {\"endlinecolor\": \"#2a3f5f\", \"gridcolor\": \"#C8D4E3\", \"linecolor\": \"#C8D4E3\", \"minorgridcolor\": \"#C8D4E3\", \"startlinecolor\": \"#2a3f5f\"}, \"type\": \"carpet\"}], \"choropleth\": [{\"colorbar\": {\"outlinewidth\": 0, \"ticks\": \"\"}, \"type\": \"choropleth\"}], \"contour\": [{\"colorbar\": {\"outlinewidth\": 0, \"ticks\": \"\"}, \"colorscale\": [[0.0, \"#0d0887\"], [0.1111111111111111, \"#46039f\"], [0.2222222222222222, \"#7201a8\"], [0.3333333333333333, \"#9c179e\"], [0.4444444444444444, \"#bd3786\"], [0.5555555555555556, \"#d8576b\"], [0.6666666666666666, \"#ed7953\"], [0.7777777777777778, \"#fb9f3a\"], [0.8888888888888888, \"#fdca26\"], [1.0, \"#f0f921\"]], \"type\": \"contour\"}], \"contourcarpet\": [{\"colorbar\": {\"outlinewidth\": 0, \"ticks\": \"\"}, \"type\": \"contourcarpet\"}], \"heatmap\": [{\"colorbar\": {\"outlinewidth\": 0, \"ticks\": \"\"}, \"colorscale\": [[0.0, \"#0d0887\"], [0.1111111111111111, \"#46039f\"], [0.2222222222222222, \"#7201a8\"], [0.3333333333333333, \"#9c179e\"], [0.4444444444444444, \"#bd3786\"], [0.5555555555555556, \"#d8576b\"], [0.6666666666666666, \"#ed7953\"], [0.7777777777777778, \"#fb9f3a\"], [0.8888888888888888, \"#fdca26\"], [1.0, \"#f0f921\"]], \"type\": \"heatmap\"}], \"heatmapgl\": [{\"colorbar\": {\"outlinewidth\": 0, \"ticks\": \"\"}, \"colorscale\": [[0.0, \"#0d0887\"], [0.1111111111111111, \"#46039f\"], [0.2222222222222222, \"#7201a8\"], [0.3333333333333333, \"#9c179e\"], [0.4444444444444444, \"#bd3786\"], [0.5555555555555556, \"#d8576b\"], [0.6666666666666666, \"#ed7953\"], [0.7777777777777778, \"#fb9f3a\"], [0.8888888888888888, \"#fdca26\"], [1.0, \"#f0f921\"]], \"type\": \"heatmapgl\"}], \"histogram\": [{\"marker\": {\"colorbar\": {\"outlinewidth\": 0, \"ticks\": \"\"}}, \"type\": \"histogram\"}], \"histogram2d\": [{\"colorbar\": {\"outlinewidth\": 0, \"ticks\": \"\"}, \"colorscale\": [[0.0, \"#0d0887\"], [0.1111111111111111, \"#46039f\"], [0.2222222222222222, \"#7201a8\"], [0.3333333333333333, \"#9c179e\"], [0.4444444444444444, \"#bd3786\"], [0.5555555555555556, \"#d8576b\"], [0.6666666666666666, \"#ed7953\"], [0.7777777777777778, \"#fb9f3a\"], [0.8888888888888888, \"#fdca26\"], [1.0, \"#f0f921\"]], \"type\": \"histogram2d\"}], \"histogram2dcontour\": [{\"colorbar\": {\"outlinewidth\": 0, \"ticks\": \"\"}, \"colorscale\": [[0.0, \"#0d0887\"], [0.1111111111111111, \"#46039f\"], [0.2222222222222222, \"#7201a8\"], [0.3333333333333333, \"#9c179e\"], [0.4444444444444444, \"#bd3786\"], [0.5555555555555556, \"#d8576b\"], [0.6666666666666666, \"#ed7953\"], [0.7777777777777778, \"#fb9f3a\"], [0.8888888888888888, \"#fdca26\"], [1.0, \"#f0f921\"]], \"type\": \"histogram2dcontour\"}], \"mesh3d\": [{\"colorbar\": {\"outlinewidth\": 0, \"ticks\": \"\"}, \"type\": \"mesh3d\"}], \"parcoords\": [{\"line\": {\"colorbar\": {\"outlinewidth\": 0, \"ticks\": \"\"}}, \"type\": \"parcoords\"}], \"pie\": [{\"automargin\": true, \"type\": \"pie\"}], \"scatter\": [{\"marker\": {\"colorbar\": {\"outlinewidth\": 0, \"ticks\": \"\"}}, \"type\": \"scatter\"}], \"scatter3d\": [{\"line\": {\"colorbar\": {\"outlinewidth\": 0, \"ticks\": \"\"}}, \"marker\": {\"colorbar\": {\"outlinewidth\": 0, \"ticks\": \"\"}}, \"type\": \"scatter3d\"}], \"scattercarpet\": [{\"marker\": {\"colorbar\": {\"outlinewidth\": 0, \"ticks\": \"\"}}, \"type\": \"scattercarpet\"}], \"scattergeo\": [{\"marker\": {\"colorbar\": {\"outlinewidth\": 0, \"ticks\": \"\"}}, \"type\": \"scattergeo\"}], \"scattergl\": [{\"marker\": {\"colorbar\": {\"outlinewidth\": 0, \"ticks\": \"\"}}, \"type\": \"scattergl\"}], \"scattermapbox\": [{\"marker\": {\"colorbar\": {\"outlinewidth\": 0, \"ticks\": \"\"}}, \"type\": \"scattermapbox\"}], \"scatterpolar\": [{\"marker\": {\"colorbar\": {\"outlinewidth\": 0, \"ticks\": \"\"}}, \"type\": \"scatterpolar\"}], \"scatterpolargl\": [{\"marker\": {\"colorbar\": {\"outlinewidth\": 0, \"ticks\": \"\"}}, \"type\": \"scatterpolargl\"}], \"scatterternary\": [{\"marker\": {\"colorbar\": {\"outlinewidth\": 0, \"ticks\": \"\"}}, \"type\": \"scatterternary\"}], \"surface\": [{\"colorbar\": {\"outlinewidth\": 0, \"ticks\": \"\"}, \"colorscale\": [[0.0, \"#0d0887\"], [0.1111111111111111, \"#46039f\"], [0.2222222222222222, \"#7201a8\"], [0.3333333333333333, \"#9c179e\"], [0.4444444444444444, \"#bd3786\"], [0.5555555555555556, \"#d8576b\"], [0.6666666666666666, \"#ed7953\"], [0.7777777777777778, \"#fb9f3a\"], [0.8888888888888888, \"#fdca26\"], [1.0, \"#f0f921\"]], \"type\": \"surface\"}], \"table\": [{\"cells\": {\"fill\": {\"color\": \"#EBF0F8\"}, \"line\": {\"color\": \"white\"}}, \"header\": {\"fill\": {\"color\": \"#C8D4E3\"}, \"line\": {\"color\": \"white\"}}, \"type\": \"table\"}]}, \"layout\": {\"annotationdefaults\": {\"arrowcolor\": \"#2a3f5f\", \"arrowhead\": 0, \"arrowwidth\": 1}, \"autotypenumbers\": \"strict\", \"coloraxis\": {\"colorbar\": {\"outlinewidth\": 0, \"ticks\": \"\"}}, \"colorscale\": {\"diverging\": [[0, \"#8e0152\"], [0.1, \"#c51b7d\"], [0.2, \"#de77ae\"], [0.3, \"#f1b6da\"], [0.4, \"#fde0ef\"], [0.5, \"#f7f7f7\"], [0.6, \"#e6f5d0\"], [0.7, \"#b8e186\"], [0.8, \"#7fbc41\"], [0.9, \"#4d9221\"], [1, \"#276419\"]], \"sequential\": [[0.0, \"#0d0887\"], [0.1111111111111111, \"#46039f\"], [0.2222222222222222, \"#7201a8\"], [0.3333333333333333, \"#9c179e\"], [0.4444444444444444, \"#bd3786\"], [0.5555555555555556, \"#d8576b\"], [0.6666666666666666, \"#ed7953\"], [0.7777777777777778, \"#fb9f3a\"], [0.8888888888888888, \"#fdca26\"], [1.0, \"#f0f921\"]], \"sequentialminus\": [[0.0, \"#0d0887\"], [0.1111111111111111, \"#46039f\"], [0.2222222222222222, \"#7201a8\"], [0.3333333333333333, \"#9c179e\"], [0.4444444444444444, \"#bd3786\"], [0.5555555555555556, \"#d8576b\"], [0.6666666666666666, \"#ed7953\"], [0.7777777777777778, \"#fb9f3a\"], [0.8888888888888888, \"#fdca26\"], [1.0, \"#f0f921\"]]}, \"colorway\": [\"#636efa\", \"#EF553B\", \"#00cc96\", \"#ab63fa\", \"#FFA15A\", \"#19d3f3\", \"#FF6692\", \"#B6E880\", \"#FF97FF\", \"#FECB52\"], \"font\": {\"color\": \"#2a3f5f\"}, \"geo\": {\"bgcolor\": \"white\", \"lakecolor\": \"white\", \"landcolor\": \"white\", \"showlakes\": true, \"showland\": true, \"subunitcolor\": \"#C8D4E3\"}, \"hoverlabel\": {\"align\": \"left\"}, \"hovermode\": \"closest\", \"mapbox\": {\"style\": \"light\"}, \"paper_bgcolor\": \"white\", \"plot_bgcolor\": \"white\", \"polar\": {\"angularaxis\": {\"gridcolor\": \"#EBF0F8\", \"linecolor\": \"#EBF0F8\", \"ticks\": \"\"}, \"bgcolor\": \"white\", \"radialaxis\": {\"gridcolor\": \"#EBF0F8\", \"linecolor\": \"#EBF0F8\", \"ticks\": \"\"}}, \"scene\": {\"xaxis\": {\"backgroundcolor\": \"white\", \"gridcolor\": \"#DFE8F3\", \"gridwidth\": 2, \"linecolor\": \"#EBF0F8\", \"showbackground\": true, \"ticks\": \"\", \"zerolinecolor\": \"#EBF0F8\"}, \"yaxis\": {\"backgroundcolor\": \"white\", \"gridcolor\": \"#DFE8F3\", \"gridwidth\": 2, \"linecolor\": \"#EBF0F8\", \"showbackground\": true, \"ticks\": \"\", \"zerolinecolor\": \"#EBF0F8\"}, \"zaxis\": {\"backgroundcolor\": \"white\", \"gridcolor\": \"#DFE8F3\", \"gridwidth\": 2, \"linecolor\": \"#EBF0F8\", \"showbackground\": true, \"ticks\": \"\", \"zerolinecolor\": \"#EBF0F8\"}}, \"shapedefaults\": {\"line\": {\"color\": \"#2a3f5f\"}}, \"ternary\": {\"aaxis\": {\"gridcolor\": \"#DFE8F3\", \"linecolor\": \"#A2B1C6\", \"ticks\": \"\"}, \"baxis\": {\"gridcolor\": \"#DFE8F3\", \"linecolor\": \"#A2B1C6\", \"ticks\": \"\"}, \"bgcolor\": \"white\", \"caxis\": {\"gridcolor\": \"#DFE8F3\", \"linecolor\": \"#A2B1C6\", \"ticks\": \"\"}}, \"title\": {\"x\": 0.05}, \"xaxis\": {\"automargin\": true, \"gridcolor\": \"#EBF0F8\", \"linecolor\": \"#EBF0F8\", \"ticks\": \"\", \"title\": {\"standoff\": 15}, \"zerolinecolor\": \"#EBF0F8\", \"zerolinewidth\": 2}, \"yaxis\": {\"automargin\": true, \"gridcolor\": \"#EBF0F8\", \"linecolor\": \"#EBF0F8\", \"ticks\": \"\", \"title\": {\"standoff\": 15}, \"zerolinecolor\": \"#EBF0F8\", \"zerolinewidth\": 2}}}, \"title\": {\"text\": \"Device Browser\"}, \"width\": 1500, \"xaxis\": {\"anchor\": \"y\", \"domain\": [0.0, 0.2888888888888889]}, \"xaxis2\": {\"anchor\": \"y2\", \"domain\": [0.35555555555555557, 0.6444444444444445]}, \"xaxis3\": {\"anchor\": \"y3\", \"domain\": [0.7111111111111111, 1.0]}, \"xaxis4\": {\"anchor\": \"y4\", \"domain\": [0.0, 0.2888888888888889]}, \"xaxis5\": {\"anchor\": \"y5\", \"domain\": [0.35555555555555557, 0.6444444444444445]}, \"xaxis6\": {\"anchor\": \"y6\", \"domain\": [0.7111111111111111, 1.0]}, \"xaxis7\": {\"anchor\": \"y7\", \"domain\": [0.0, 0.2888888888888889]}, \"xaxis8\": {\"anchor\": \"y8\", \"domain\": [0.35555555555555557, 0.6444444444444445]}, \"xaxis9\": {\"anchor\": \"y9\", \"domain\": [0.7111111111111111, 1.0]}, \"yaxis\": {\"anchor\": \"x\", \"domain\": [0.6933333333333334, 1.0]}, \"yaxis2\": {\"anchor\": \"x2\", \"domain\": [0.6933333333333334, 1.0]}, \"yaxis3\": {\"anchor\": \"x3\", \"domain\": [0.6933333333333334, 1.0]}, \"yaxis4\": {\"anchor\": \"x4\", \"domain\": [0.3466666666666667, 0.6533333333333333]}, \"yaxis5\": {\"anchor\": \"x5\", \"domain\": [0.3466666666666667, 0.6533333333333333]}, \"yaxis6\": {\"anchor\": \"x6\", \"domain\": [0.3466666666666667, 0.6533333333333333]}, \"yaxis7\": {\"anchor\": \"x7\", \"domain\": [0.0, 0.3066666666666667]}, \"yaxis8\": {\"anchor\": \"x8\", \"domain\": [0.0, 0.3066666666666667]}, \"yaxis9\": {\"anchor\": \"x9\", \"domain\": [0.0, 0.3066666666666667]}},                        {\"responsive\": true}                    ).then(function(){\n",
       "                            \n",
       "var gd = document.getElementById('d89300b1-98d6-483c-871c-c7cb1a44d8d0');\n",
       "var x = new MutationObserver(function (mutations, observer) {{\n",
       "        var display = window.getComputedStyle(gd).display;\n",
       "        if (!display || display === 'none') {{\n",
       "            console.log([gd, 'removed!']);\n",
       "            Plotly.purge(gd);\n",
       "            observer.disconnect();\n",
       "        }}\n",
       "}});\n",
       "\n",
       "// Listen for the removal of the full notebook cells\n",
       "var notebookContainer = gd.closest('#notebook-container');\n",
       "if (notebookContainer) {{\n",
       "    x.observe(notebookContainer, {childList: true});\n",
       "}}\n",
       "\n",
       "// Listen for the clearing of the current output cell\n",
       "var outputEl = gd.closest('.output');\n",
       "if (outputEl) {{\n",
       "    x.observe(outputEl, {childList: true});\n",
       "}}\n",
       "\n",
       "                        })                };                });            </script>        </div>"
      ]
     },
     "metadata": {},
     "output_type": "display_data"
    }
   ],
   "source": [
    "# Device Browser statistics \n",
    "\n",
    "aggs = df.groupby('browser')['transactionRevenue'].agg(['size', 'sum', 'mean'])\n",
    "\n",
    "aggs.columns = [\"count\", \"total_revenue\", \"mean\"]\n",
    "cnt_srs = aggs.sort_values(by=\"count\", ascending=False)\n",
    "trace1 = make_bar_chart(aggs[\"count\"].head(10), '#073b4c')\n",
    "trace2 = make_bar_chart(aggs[\"total_revenue\"].head(10), '#073b4c')\n",
    "trace3 = make_bar_chart(aggs[\"mean\"].head(10), '#073b4c')\n",
    "\n",
    "fig = tools.make_subplots(rows=3, cols=3, vertical_spacing=0.04, \n",
    "                          subplot_titles=[\"Device Browser - Count\", \"Device Browser - Total Revenue\", \"Device Browser - Mean Revenue\"])\n",
    "\n",
    "fig.append_trace(trace1, 1, 1)\n",
    "fig.append_trace(trace2, 1, 2)\n",
    "fig.append_trace(trace3, 1, 3)\n",
    "\n",
    "fig['layout'].update(height=600, width=1500, template='plotly_white',paper_bgcolor='#ffffff', title=\"Device Browser\")\n",
    "plty.iplot(fig, filename='device-plots')"
   ]
  },
  {
   "cell_type": "code",
   "execution_count": 8,
   "id": "0ce76bc7",
   "metadata": {},
   "outputs": [
    {
     "name": "stderr",
     "output_type": "stream",
     "text": [
      "/opt/conda/lib/python3.7/site-packages/plotly/tools.py:465: DeprecationWarning:\n",
      "\n",
      "plotly.tools.make_subplots is deprecated, please use plotly.subplots.make_subplots instead\n",
      "\n"
     ]
    },
    {
     "data": {
      "application/vnd.plotly.v1+json": {
       "config": {
        "linkText": "Export to plot.ly",
        "plotlyServerURL": "https://plot.ly",
        "showLink": false
       },
       "data": [
        {
         "marker": {
          "color": "#073b4c"
         },
         "orientation": "h",
         "showlegend": false,
         "type": "bar",
         "x": [
          30449,
          208725,
          664479
         ],
         "xaxis": "x",
         "y": [
          "tablet",
          "mobile",
          "desktop"
         ],
         "yaxis": "y"
        },
        {
         "marker": {
          "color": "#073b4c"
         },
         "orientation": "h",
         "showlegend": false,
         "type": "bar",
         "x": [
          9421340000,
          49785810000,
          1480864090000
         ],
         "xaxis": "x2",
         "y": [
          "tablet",
          "mobile",
          "desktop"
         ],
         "yaxis": "y2"
        },
        {
         "marker": {
          "color": "#073b4c"
         },
         "orientation": "h",
         "showlegend": false,
         "type": "bar",
         "x": [
          56079404.76190476,
          58434049.295774646,
          141101866.60314435
         ],
         "xaxis": "x3",
         "y": [
          "tablet",
          "mobile",
          "desktop"
         ],
         "yaxis": "y3"
        }
       ],
       "layout": {
        "annotations": [
         {
          "font": {
           "size": 16
          },
          "showarrow": false,
          "text": "Device Category - Count",
          "x": 0.14444444444444446,
          "xanchor": "center",
          "xref": "paper",
          "y": 1,
          "yanchor": "bottom",
          "yref": "paper"
         },
         {
          "font": {
           "size": 16
          },
          "showarrow": false,
          "text": "Device Category - Total Revenue",
          "x": 0.5,
          "xanchor": "center",
          "xref": "paper",
          "y": 1,
          "yanchor": "bottom",
          "yref": "paper"
         },
         {
          "font": {
           "size": 16
          },
          "showarrow": false,
          "text": "Device Category - Mean Revenue",
          "x": 0.8555555555555556,
          "xanchor": "center",
          "xref": "paper",
          "y": 1,
          "yanchor": "bottom",
          "yref": "paper"
         }
        ],
        "height": 600,
        "paper_bgcolor": "#ffffff",
        "template": {
         "data": {
          "bar": [
           {
            "error_x": {
             "color": "#2a3f5f"
            },
            "error_y": {
             "color": "#2a3f5f"
            },
            "marker": {
             "line": {
              "color": "white",
              "width": 0.5
             }
            },
            "type": "bar"
           }
          ],
          "barpolar": [
           {
            "marker": {
             "line": {
              "color": "white",
              "width": 0.5
             }
            },
            "type": "barpolar"
           }
          ],
          "carpet": [
           {
            "aaxis": {
             "endlinecolor": "#2a3f5f",
             "gridcolor": "#C8D4E3",
             "linecolor": "#C8D4E3",
             "minorgridcolor": "#C8D4E3",
             "startlinecolor": "#2a3f5f"
            },
            "baxis": {
             "endlinecolor": "#2a3f5f",
             "gridcolor": "#C8D4E3",
             "linecolor": "#C8D4E3",
             "minorgridcolor": "#C8D4E3",
             "startlinecolor": "#2a3f5f"
            },
            "type": "carpet"
           }
          ],
          "choropleth": [
           {
            "colorbar": {
             "outlinewidth": 0,
             "ticks": ""
            },
            "type": "choropleth"
           }
          ],
          "contour": [
           {
            "colorbar": {
             "outlinewidth": 0,
             "ticks": ""
            },
            "colorscale": [
             [
              0,
              "#0d0887"
             ],
             [
              0.1111111111111111,
              "#46039f"
             ],
             [
              0.2222222222222222,
              "#7201a8"
             ],
             [
              0.3333333333333333,
              "#9c179e"
             ],
             [
              0.4444444444444444,
              "#bd3786"
             ],
             [
              0.5555555555555556,
              "#d8576b"
             ],
             [
              0.6666666666666666,
              "#ed7953"
             ],
             [
              0.7777777777777778,
              "#fb9f3a"
             ],
             [
              0.8888888888888888,
              "#fdca26"
             ],
             [
              1,
              "#f0f921"
             ]
            ],
            "type": "contour"
           }
          ],
          "contourcarpet": [
           {
            "colorbar": {
             "outlinewidth": 0,
             "ticks": ""
            },
            "type": "contourcarpet"
           }
          ],
          "heatmap": [
           {
            "colorbar": {
             "outlinewidth": 0,
             "ticks": ""
            },
            "colorscale": [
             [
              0,
              "#0d0887"
             ],
             [
              0.1111111111111111,
              "#46039f"
             ],
             [
              0.2222222222222222,
              "#7201a8"
             ],
             [
              0.3333333333333333,
              "#9c179e"
             ],
             [
              0.4444444444444444,
              "#bd3786"
             ],
             [
              0.5555555555555556,
              "#d8576b"
             ],
             [
              0.6666666666666666,
              "#ed7953"
             ],
             [
              0.7777777777777778,
              "#fb9f3a"
             ],
             [
              0.8888888888888888,
              "#fdca26"
             ],
             [
              1,
              "#f0f921"
             ]
            ],
            "type": "heatmap"
           }
          ],
          "heatmapgl": [
           {
            "colorbar": {
             "outlinewidth": 0,
             "ticks": ""
            },
            "colorscale": [
             [
              0,
              "#0d0887"
             ],
             [
              0.1111111111111111,
              "#46039f"
             ],
             [
              0.2222222222222222,
              "#7201a8"
             ],
             [
              0.3333333333333333,
              "#9c179e"
             ],
             [
              0.4444444444444444,
              "#bd3786"
             ],
             [
              0.5555555555555556,
              "#d8576b"
             ],
             [
              0.6666666666666666,
              "#ed7953"
             ],
             [
              0.7777777777777778,
              "#fb9f3a"
             ],
             [
              0.8888888888888888,
              "#fdca26"
             ],
             [
              1,
              "#f0f921"
             ]
            ],
            "type": "heatmapgl"
           }
          ],
          "histogram": [
           {
            "marker": {
             "colorbar": {
              "outlinewidth": 0,
              "ticks": ""
             }
            },
            "type": "histogram"
           }
          ],
          "histogram2d": [
           {
            "colorbar": {
             "outlinewidth": 0,
             "ticks": ""
            },
            "colorscale": [
             [
              0,
              "#0d0887"
             ],
             [
              0.1111111111111111,
              "#46039f"
             ],
             [
              0.2222222222222222,
              "#7201a8"
             ],
             [
              0.3333333333333333,
              "#9c179e"
             ],
             [
              0.4444444444444444,
              "#bd3786"
             ],
             [
              0.5555555555555556,
              "#d8576b"
             ],
             [
              0.6666666666666666,
              "#ed7953"
             ],
             [
              0.7777777777777778,
              "#fb9f3a"
             ],
             [
              0.8888888888888888,
              "#fdca26"
             ],
             [
              1,
              "#f0f921"
             ]
            ],
            "type": "histogram2d"
           }
          ],
          "histogram2dcontour": [
           {
            "colorbar": {
             "outlinewidth": 0,
             "ticks": ""
            },
            "colorscale": [
             [
              0,
              "#0d0887"
             ],
             [
              0.1111111111111111,
              "#46039f"
             ],
             [
              0.2222222222222222,
              "#7201a8"
             ],
             [
              0.3333333333333333,
              "#9c179e"
             ],
             [
              0.4444444444444444,
              "#bd3786"
             ],
             [
              0.5555555555555556,
              "#d8576b"
             ],
             [
              0.6666666666666666,
              "#ed7953"
             ],
             [
              0.7777777777777778,
              "#fb9f3a"
             ],
             [
              0.8888888888888888,
              "#fdca26"
             ],
             [
              1,
              "#f0f921"
             ]
            ],
            "type": "histogram2dcontour"
           }
          ],
          "mesh3d": [
           {
            "colorbar": {
             "outlinewidth": 0,
             "ticks": ""
            },
            "type": "mesh3d"
           }
          ],
          "parcoords": [
           {
            "line": {
             "colorbar": {
              "outlinewidth": 0,
              "ticks": ""
             }
            },
            "type": "parcoords"
           }
          ],
          "pie": [
           {
            "automargin": true,
            "type": "pie"
           }
          ],
          "scatter": [
           {
            "marker": {
             "colorbar": {
              "outlinewidth": 0,
              "ticks": ""
             }
            },
            "type": "scatter"
           }
          ],
          "scatter3d": [
           {
            "line": {
             "colorbar": {
              "outlinewidth": 0,
              "ticks": ""
             }
            },
            "marker": {
             "colorbar": {
              "outlinewidth": 0,
              "ticks": ""
             }
            },
            "type": "scatter3d"
           }
          ],
          "scattercarpet": [
           {
            "marker": {
             "colorbar": {
              "outlinewidth": 0,
              "ticks": ""
             }
            },
            "type": "scattercarpet"
           }
          ],
          "scattergeo": [
           {
            "marker": {
             "colorbar": {
              "outlinewidth": 0,
              "ticks": ""
             }
            },
            "type": "scattergeo"
           }
          ],
          "scattergl": [
           {
            "marker": {
             "colorbar": {
              "outlinewidth": 0,
              "ticks": ""
             }
            },
            "type": "scattergl"
           }
          ],
          "scattermapbox": [
           {
            "marker": {
             "colorbar": {
              "outlinewidth": 0,
              "ticks": ""
             }
            },
            "type": "scattermapbox"
           }
          ],
          "scatterpolar": [
           {
            "marker": {
             "colorbar": {
              "outlinewidth": 0,
              "ticks": ""
             }
            },
            "type": "scatterpolar"
           }
          ],
          "scatterpolargl": [
           {
            "marker": {
             "colorbar": {
              "outlinewidth": 0,
              "ticks": ""
             }
            },
            "type": "scatterpolargl"
           }
          ],
          "scatterternary": [
           {
            "marker": {
             "colorbar": {
              "outlinewidth": 0,
              "ticks": ""
             }
            },
            "type": "scatterternary"
           }
          ],
          "surface": [
           {
            "colorbar": {
             "outlinewidth": 0,
             "ticks": ""
            },
            "colorscale": [
             [
              0,
              "#0d0887"
             ],
             [
              0.1111111111111111,
              "#46039f"
             ],
             [
              0.2222222222222222,
              "#7201a8"
             ],
             [
              0.3333333333333333,
              "#9c179e"
             ],
             [
              0.4444444444444444,
              "#bd3786"
             ],
             [
              0.5555555555555556,
              "#d8576b"
             ],
             [
              0.6666666666666666,
              "#ed7953"
             ],
             [
              0.7777777777777778,
              "#fb9f3a"
             ],
             [
              0.8888888888888888,
              "#fdca26"
             ],
             [
              1,
              "#f0f921"
             ]
            ],
            "type": "surface"
           }
          ],
          "table": [
           {
            "cells": {
             "fill": {
              "color": "#EBF0F8"
             },
             "line": {
              "color": "white"
             }
            },
            "header": {
             "fill": {
              "color": "#C8D4E3"
             },
             "line": {
              "color": "white"
             }
            },
            "type": "table"
           }
          ]
         },
         "layout": {
          "annotationdefaults": {
           "arrowcolor": "#2a3f5f",
           "arrowhead": 0,
           "arrowwidth": 1
          },
          "autotypenumbers": "strict",
          "coloraxis": {
           "colorbar": {
            "outlinewidth": 0,
            "ticks": ""
           }
          },
          "colorscale": {
           "diverging": [
            [
             0,
             "#8e0152"
            ],
            [
             0.1,
             "#c51b7d"
            ],
            [
             0.2,
             "#de77ae"
            ],
            [
             0.3,
             "#f1b6da"
            ],
            [
             0.4,
             "#fde0ef"
            ],
            [
             0.5,
             "#f7f7f7"
            ],
            [
             0.6,
             "#e6f5d0"
            ],
            [
             0.7,
             "#b8e186"
            ],
            [
             0.8,
             "#7fbc41"
            ],
            [
             0.9,
             "#4d9221"
            ],
            [
             1,
             "#276419"
            ]
           ],
           "sequential": [
            [
             0,
             "#0d0887"
            ],
            [
             0.1111111111111111,
             "#46039f"
            ],
            [
             0.2222222222222222,
             "#7201a8"
            ],
            [
             0.3333333333333333,
             "#9c179e"
            ],
            [
             0.4444444444444444,
             "#bd3786"
            ],
            [
             0.5555555555555556,
             "#d8576b"
            ],
            [
             0.6666666666666666,
             "#ed7953"
            ],
            [
             0.7777777777777778,
             "#fb9f3a"
            ],
            [
             0.8888888888888888,
             "#fdca26"
            ],
            [
             1,
             "#f0f921"
            ]
           ],
           "sequentialminus": [
            [
             0,
             "#0d0887"
            ],
            [
             0.1111111111111111,
             "#46039f"
            ],
            [
             0.2222222222222222,
             "#7201a8"
            ],
            [
             0.3333333333333333,
             "#9c179e"
            ],
            [
             0.4444444444444444,
             "#bd3786"
            ],
            [
             0.5555555555555556,
             "#d8576b"
            ],
            [
             0.6666666666666666,
             "#ed7953"
            ],
            [
             0.7777777777777778,
             "#fb9f3a"
            ],
            [
             0.8888888888888888,
             "#fdca26"
            ],
            [
             1,
             "#f0f921"
            ]
           ]
          },
          "colorway": [
           "#636efa",
           "#EF553B",
           "#00cc96",
           "#ab63fa",
           "#FFA15A",
           "#19d3f3",
           "#FF6692",
           "#B6E880",
           "#FF97FF",
           "#FECB52"
          ],
          "font": {
           "color": "#2a3f5f"
          },
          "geo": {
           "bgcolor": "white",
           "lakecolor": "white",
           "landcolor": "white",
           "showlakes": true,
           "showland": true,
           "subunitcolor": "#C8D4E3"
          },
          "hoverlabel": {
           "align": "left"
          },
          "hovermode": "closest",
          "mapbox": {
           "style": "light"
          },
          "paper_bgcolor": "white",
          "plot_bgcolor": "white",
          "polar": {
           "angularaxis": {
            "gridcolor": "#EBF0F8",
            "linecolor": "#EBF0F8",
            "ticks": ""
           },
           "bgcolor": "white",
           "radialaxis": {
            "gridcolor": "#EBF0F8",
            "linecolor": "#EBF0F8",
            "ticks": ""
           }
          },
          "scene": {
           "xaxis": {
            "backgroundcolor": "white",
            "gridcolor": "#DFE8F3",
            "gridwidth": 2,
            "linecolor": "#EBF0F8",
            "showbackground": true,
            "ticks": "",
            "zerolinecolor": "#EBF0F8"
           },
           "yaxis": {
            "backgroundcolor": "white",
            "gridcolor": "#DFE8F3",
            "gridwidth": 2,
            "linecolor": "#EBF0F8",
            "showbackground": true,
            "ticks": "",
            "zerolinecolor": "#EBF0F8"
           },
           "zaxis": {
            "backgroundcolor": "white",
            "gridcolor": "#DFE8F3",
            "gridwidth": 2,
            "linecolor": "#EBF0F8",
            "showbackground": true,
            "ticks": "",
            "zerolinecolor": "#EBF0F8"
           }
          },
          "shapedefaults": {
           "line": {
            "color": "#2a3f5f"
           }
          },
          "ternary": {
           "aaxis": {
            "gridcolor": "#DFE8F3",
            "linecolor": "#A2B1C6",
            "ticks": ""
           },
           "baxis": {
            "gridcolor": "#DFE8F3",
            "linecolor": "#A2B1C6",
            "ticks": ""
           },
           "bgcolor": "white",
           "caxis": {
            "gridcolor": "#DFE8F3",
            "linecolor": "#A2B1C6",
            "ticks": ""
           }
          },
          "title": {
           "x": 0.05
          },
          "xaxis": {
           "automargin": true,
           "gridcolor": "#EBF0F8",
           "linecolor": "#EBF0F8",
           "ticks": "",
           "title": {
            "standoff": 15
           },
           "zerolinecolor": "#EBF0F8",
           "zerolinewidth": 2
          },
          "yaxis": {
           "automargin": true,
           "gridcolor": "#EBF0F8",
           "linecolor": "#EBF0F8",
           "ticks": "",
           "title": {
            "standoff": 15
           },
           "zerolinecolor": "#EBF0F8",
           "zerolinewidth": 2
          }
         }
        },
        "title": {
         "text": "Device Category"
        },
        "width": 1500,
        "xaxis": {
         "anchor": "y",
         "autorange": true,
         "domain": [
          0,
          0.2888888888888889
         ],
         "range": [
          0,
          699451.5789473684
         ],
         "type": "linear"
        },
        "xaxis2": {
         "anchor": "y2",
         "autorange": true,
         "domain": [
          0.35555555555555557,
          0.6444444444444445
         ],
         "range": [
          0,
          1558804305263.158
         ],
         "type": "linear"
        },
        "xaxis3": {
         "anchor": "y3",
         "autorange": true,
         "domain": [
          0.7111111111111111,
          1
         ],
         "range": [
          0,
          148528280.6348888
         ],
         "type": "linear"
        },
        "xaxis4": {
         "anchor": "y4",
         "domain": [
          0,
          0.2888888888888889
         ]
        },
        "xaxis5": {
         "anchor": "y5",
         "domain": [
          0.35555555555555557,
          0.6444444444444445
         ]
        },
        "xaxis6": {
         "anchor": "y6",
         "domain": [
          0.7111111111111111,
          1
         ]
        },
        "xaxis7": {
         "anchor": "y7",
         "domain": [
          0,
          0.2888888888888889
         ]
        },
        "xaxis8": {
         "anchor": "y8",
         "domain": [
          0.35555555555555557,
          0.6444444444444445
         ]
        },
        "xaxis9": {
         "anchor": "y9",
         "domain": [
          0.7111111111111111,
          1
         ]
        },
        "yaxis": {
         "anchor": "x",
         "autorange": true,
         "domain": [
          0.6933333333333334,
          1
         ],
         "range": [
          -0.5,
          2.5
         ],
         "type": "category"
        },
        "yaxis2": {
         "anchor": "x2",
         "autorange": true,
         "domain": [
          0.6933333333333334,
          1
         ],
         "range": [
          -0.5,
          2.5
         ],
         "type": "category"
        },
        "yaxis3": {
         "anchor": "x3",
         "autorange": true,
         "domain": [
          0.6933333333333334,
          1
         ],
         "range": [
          -0.5,
          2.5
         ],
         "type": "category"
        },
        "yaxis4": {
         "anchor": "x4",
         "domain": [
          0.3466666666666667,
          0.6533333333333333
         ]
        },
        "yaxis5": {
         "anchor": "x5",
         "domain": [
          0.3466666666666667,
          0.6533333333333333
         ]
        },
        "yaxis6": {
         "anchor": "x6",
         "domain": [
          0.3466666666666667,
          0.6533333333333333
         ]
        },
        "yaxis7": {
         "anchor": "x7",
         "domain": [
          0,
          0.3066666666666667
         ]
        },
        "yaxis8": {
         "anchor": "x8",
         "domain": [
          0,
          0.3066666666666667
         ]
        },
        "yaxis9": {
         "anchor": "x9",
         "domain": [
          0,
          0.3066666666666667
         ]
        }
       }
      },
      "image/png": "[encoded data removed]",
      "text/html": [
       "<div>                            <div id=\"ac722a3a-18e8-49af-baf4-0b3bcb07e304\" class=\"plotly-graph-div\" style=\"height:600px; width:1500px;\"></div>            <script type=\"text/javascript\">                require([\"plotly\"], function(Plotly) {                    window.PLOTLYENV=window.PLOTLYENV || {};                                    if (document.getElementById(\"ac722a3a-18e8-49af-baf4-0b3bcb07e304\")) {                    Plotly.newPlot(                        \"ac722a3a-18e8-49af-baf4-0b3bcb07e304\",                        [{\"marker\": {\"color\": \"#073b4c\"}, \"orientation\": \"h\", \"showlegend\": false, \"type\": \"bar\", \"x\": [30449, 208725, 664479], \"xaxis\": \"x\", \"y\": [\"tablet\", \"mobile\", \"desktop\"], \"yaxis\": \"y\"}, {\"marker\": {\"color\": \"#073b4c\"}, \"orientation\": \"h\", \"showlegend\": false, \"type\": \"bar\", \"x\": [9421340000.0, 49785810000.0, 1480864090000.0], \"xaxis\": \"x2\", \"y\": [\"tablet\", \"mobile\", \"desktop\"], \"yaxis\": \"y2\"}, {\"marker\": {\"color\": \"#073b4c\"}, \"orientation\": \"h\", \"showlegend\": false, \"type\": \"bar\", \"x\": [56079404.76190476, 58434049.295774646, 141101866.60314435], \"xaxis\": \"x3\", \"y\": [\"tablet\", \"mobile\", \"desktop\"], \"yaxis\": \"y3\"}],                        {\"annotations\": [{\"font\": {\"size\": 16}, \"showarrow\": false, \"text\": \"Device Category - Count\", \"x\": 0.14444444444444446, \"xanchor\": \"center\", \"xref\": \"paper\", \"y\": 1.0, \"yanchor\": \"bottom\", \"yref\": \"paper\"}, {\"font\": {\"size\": 16}, \"showarrow\": false, \"text\": \"Device Category - Total Revenue\", \"x\": 0.5, \"xanchor\": \"center\", \"xref\": \"paper\", \"y\": 1.0, \"yanchor\": \"bottom\", \"yref\": \"paper\"}, {\"font\": {\"size\": 16}, \"showarrow\": false, \"text\": \"Device Category - Mean Revenue\", \"x\": 0.8555555555555556, \"xanchor\": \"center\", \"xref\": \"paper\", \"y\": 1.0, \"yanchor\": \"bottom\", \"yref\": \"paper\"}], \"height\": 600, \"paper_bgcolor\": \"#ffffff\", \"template\": {\"data\": {\"bar\": [{\"error_x\": {\"color\": \"#2a3f5f\"}, \"error_y\": {\"color\": \"#2a3f5f\"}, \"marker\": {\"line\": {\"color\": \"white\", \"width\": 0.5}}, \"type\": \"bar\"}], \"barpolar\": [{\"marker\": {\"line\": {\"color\": \"white\", \"width\": 0.5}}, \"type\": \"barpolar\"}], \"carpet\": [{\"aaxis\": {\"endlinecolor\": \"#2a3f5f\", \"gridcolor\": \"#C8D4E3\", \"linecolor\": \"#C8D4E3\", \"minorgridcolor\": \"#C8D4E3\", \"startlinecolor\": \"#2a3f5f\"}, \"baxis\": {\"endlinecolor\": \"#2a3f5f\", \"gridcolor\": \"#C8D4E3\", \"linecolor\": \"#C8D4E3\", \"minorgridcolor\": \"#C8D4E3\", \"startlinecolor\": \"#2a3f5f\"}, \"type\": \"carpet\"}], \"choropleth\": [{\"colorbar\": {\"outlinewidth\": 0, \"ticks\": \"\"}, \"type\": \"choropleth\"}], \"contour\": [{\"colorbar\": {\"outlinewidth\": 0, \"ticks\": \"\"}, \"colorscale\": [[0.0, \"#0d0887\"], [0.1111111111111111, \"#46039f\"], [0.2222222222222222, \"#7201a8\"], [0.3333333333333333, \"#9c179e\"], [0.4444444444444444, \"#bd3786\"], [0.5555555555555556, \"#d8576b\"], [0.6666666666666666, \"#ed7953\"], [0.7777777777777778, \"#fb9f3a\"], [0.8888888888888888, \"#fdca26\"], [1.0, \"#f0f921\"]], \"type\": \"contour\"}], \"contourcarpet\": [{\"colorbar\": {\"outlinewidth\": 0, \"ticks\": \"\"}, \"type\": \"contourcarpet\"}], \"heatmap\": [{\"colorbar\": {\"outlinewidth\": 0, \"ticks\": \"\"}, \"colorscale\": [[0.0, \"#0d0887\"], [0.1111111111111111, \"#46039f\"], [0.2222222222222222, \"#7201a8\"], [0.3333333333333333, \"#9c179e\"], [0.4444444444444444, \"#bd3786\"], [0.5555555555555556, \"#d8576b\"], [0.6666666666666666, \"#ed7953\"], [0.7777777777777778, \"#fb9f3a\"], [0.8888888888888888, \"#fdca26\"], [1.0, \"#f0f921\"]], \"type\": \"heatmap\"}], \"heatmapgl\": [{\"colorbar\": {\"outlinewidth\": 0, \"ticks\": \"\"}, \"colorscale\": [[0.0, \"#0d0887\"], [0.1111111111111111, \"#46039f\"], [0.2222222222222222, \"#7201a8\"], [0.3333333333333333, \"#9c179e\"], [0.4444444444444444, \"#bd3786\"], [0.5555555555555556, \"#d8576b\"], [0.6666666666666666, \"#ed7953\"], [0.7777777777777778, \"#fb9f3a\"], [0.8888888888888888, \"#fdca26\"], [1.0, \"#f0f921\"]], \"type\": \"heatmapgl\"}], \"histogram\": [{\"marker\": {\"colorbar\": {\"outlinewidth\": 0, \"ticks\": \"\"}}, \"type\": \"histogram\"}], \"histogram2d\": [{\"colorbar\": {\"outlinewidth\": 0, \"ticks\": \"\"}, \"colorscale\": [[0.0, \"#0d0887\"], [0.1111111111111111, \"#46039f\"], [0.2222222222222222, \"#7201a8\"], [0.3333333333333333, \"#9c179e\"], [0.4444444444444444, \"#bd3786\"], [0.5555555555555556, \"#d8576b\"], [0.6666666666666666, \"#ed7953\"], [0.7777777777777778, \"#fb9f3a\"], [0.8888888888888888, \"#fdca26\"], [1.0, \"#f0f921\"]], \"type\": \"histogram2d\"}], \"histogram2dcontour\": [{\"colorbar\": {\"outlinewidth\": 0, \"ticks\": \"\"}, \"colorscale\": [[0.0, \"#0d0887\"], [0.1111111111111111, \"#46039f\"], [0.2222222222222222, \"#7201a8\"], [0.3333333333333333, \"#9c179e\"], [0.4444444444444444, \"#bd3786\"], [0.5555555555555556, \"#d8576b\"], [0.6666666666666666, \"#ed7953\"], [0.7777777777777778, \"#fb9f3a\"], [0.8888888888888888, \"#fdca26\"], [1.0, \"#f0f921\"]], \"type\": \"histogram2dcontour\"}], \"mesh3d\": [{\"colorbar\": {\"outlinewidth\": 0, \"ticks\": \"\"}, \"type\": \"mesh3d\"}], \"parcoords\": [{\"line\": {\"colorbar\": {\"outlinewidth\": 0, \"ticks\": \"\"}}, \"type\": \"parcoords\"}], \"pie\": [{\"automargin\": true, \"type\": \"pie\"}], \"scatter\": [{\"marker\": {\"colorbar\": {\"outlinewidth\": 0, \"ticks\": \"\"}}, \"type\": \"scatter\"}], \"scatter3d\": [{\"line\": {\"colorbar\": {\"outlinewidth\": 0, \"ticks\": \"\"}}, \"marker\": {\"colorbar\": {\"outlinewidth\": 0, \"ticks\": \"\"}}, \"type\": \"scatter3d\"}], \"scattercarpet\": [{\"marker\": {\"colorbar\": {\"outlinewidth\": 0, \"ticks\": \"\"}}, \"type\": \"scattercarpet\"}], \"scattergeo\": [{\"marker\": {\"colorbar\": {\"outlinewidth\": 0, \"ticks\": \"\"}}, \"type\": \"scattergeo\"}], \"scattergl\": [{\"marker\": {\"colorbar\": {\"outlinewidth\": 0, \"ticks\": \"\"}}, \"type\": \"scattergl\"}], \"scattermapbox\": [{\"marker\": {\"colorbar\": {\"outlinewidth\": 0, \"ticks\": \"\"}}, \"type\": \"scattermapbox\"}], \"scatterpolar\": [{\"marker\": {\"colorbar\": {\"outlinewidth\": 0, \"ticks\": \"\"}}, \"type\": \"scatterpolar\"}], \"scatterpolargl\": [{\"marker\": {\"colorbar\": {\"outlinewidth\": 0, \"ticks\": \"\"}}, \"type\": \"scatterpolargl\"}], \"scatterternary\": [{\"marker\": {\"colorbar\": {\"outlinewidth\": 0, \"ticks\": \"\"}}, \"type\": \"scatterternary\"}], \"surface\": [{\"colorbar\": {\"outlinewidth\": 0, \"ticks\": \"\"}, \"colorscale\": [[0.0, \"#0d0887\"], [0.1111111111111111, \"#46039f\"], [0.2222222222222222, \"#7201a8\"], [0.3333333333333333, \"#9c179e\"], [0.4444444444444444, \"#bd3786\"], [0.5555555555555556, \"#d8576b\"], [0.6666666666666666, \"#ed7953\"], [0.7777777777777778, \"#fb9f3a\"], [0.8888888888888888, \"#fdca26\"], [1.0, \"#f0f921\"]], \"type\": \"surface\"}], \"table\": [{\"cells\": {\"fill\": {\"color\": \"#EBF0F8\"}, \"line\": {\"color\": \"white\"}}, \"header\": {\"fill\": {\"color\": \"#C8D4E3\"}, \"line\": {\"color\": \"white\"}}, \"type\": \"table\"}]}, \"layout\": {\"annotationdefaults\": {\"arrowcolor\": \"#2a3f5f\", \"arrowhead\": 0, \"arrowwidth\": 1}, \"autotypenumbers\": \"strict\", \"coloraxis\": {\"colorbar\": {\"outlinewidth\": 0, \"ticks\": \"\"}}, \"colorscale\": {\"diverging\": [[0, \"#8e0152\"], [0.1, \"#c51b7d\"], [0.2, \"#de77ae\"], [0.3, \"#f1b6da\"], [0.4, \"#fde0ef\"], [0.5, \"#f7f7f7\"], [0.6, \"#e6f5d0\"], [0.7, \"#b8e186\"], [0.8, \"#7fbc41\"], [0.9, \"#4d9221\"], [1, \"#276419\"]], \"sequential\": [[0.0, \"#0d0887\"], [0.1111111111111111, \"#46039f\"], [0.2222222222222222, \"#7201a8\"], [0.3333333333333333, \"#9c179e\"], [0.4444444444444444, \"#bd3786\"], [0.5555555555555556, \"#d8576b\"], [0.6666666666666666, \"#ed7953\"], [0.7777777777777778, \"#fb9f3a\"], [0.8888888888888888, \"#fdca26\"], [1.0, \"#f0f921\"]], \"sequentialminus\": [[0.0, \"#0d0887\"], [0.1111111111111111, \"#46039f\"], [0.2222222222222222, \"#7201a8\"], [0.3333333333333333, \"#9c179e\"], [0.4444444444444444, \"#bd3786\"], [0.5555555555555556, \"#d8576b\"], [0.6666666666666666, \"#ed7953\"], [0.7777777777777778, \"#fb9f3a\"], [0.8888888888888888, \"#fdca26\"], [1.0, \"#f0f921\"]]}, \"colorway\": [\"#636efa\", \"#EF553B\", \"#00cc96\", \"#ab63fa\", \"#FFA15A\", \"#19d3f3\", \"#FF6692\", \"#B6E880\", \"#FF97FF\", \"#FECB52\"], \"font\": {\"color\": \"#2a3f5f\"}, \"geo\": {\"bgcolor\": \"white\", \"lakecolor\": \"white\", \"landcolor\": \"white\", \"showlakes\": true, \"showland\": true, \"subunitcolor\": \"#C8D4E3\"}, \"hoverlabel\": {\"align\": \"left\"}, \"hovermode\": \"closest\", \"mapbox\": {\"style\": \"light\"}, \"paper_bgcolor\": \"white\", \"plot_bgcolor\": \"white\", \"polar\": {\"angularaxis\": {\"gridcolor\": \"#EBF0F8\", \"linecolor\": \"#EBF0F8\", \"ticks\": \"\"}, \"bgcolor\": \"white\", \"radialaxis\": {\"gridcolor\": \"#EBF0F8\", \"linecolor\": \"#EBF0F8\", \"ticks\": \"\"}}, \"scene\": {\"xaxis\": {\"backgroundcolor\": \"white\", \"gridcolor\": \"#DFE8F3\", \"gridwidth\": 2, \"linecolor\": \"#EBF0F8\", \"showbackground\": true, \"ticks\": \"\", \"zerolinecolor\": \"#EBF0F8\"}, \"yaxis\": {\"backgroundcolor\": \"white\", \"gridcolor\": \"#DFE8F3\", \"gridwidth\": 2, \"linecolor\": \"#EBF0F8\", \"showbackground\": true, \"ticks\": \"\", \"zerolinecolor\": \"#EBF0F8\"}, \"zaxis\": {\"backgroundcolor\": \"white\", \"gridcolor\": \"#DFE8F3\", \"gridwidth\": 2, \"linecolor\": \"#EBF0F8\", \"showbackground\": true, \"ticks\": \"\", \"zerolinecolor\": \"#EBF0F8\"}}, \"shapedefaults\": {\"line\": {\"color\": \"#2a3f5f\"}}, \"ternary\": {\"aaxis\": {\"gridcolor\": \"#DFE8F3\", \"linecolor\": \"#A2B1C6\", \"ticks\": \"\"}, \"baxis\": {\"gridcolor\": \"#DFE8F3\", \"linecolor\": \"#A2B1C6\", \"ticks\": \"\"}, \"bgcolor\": \"white\", \"caxis\": {\"gridcolor\": \"#DFE8F3\", \"linecolor\": \"#A2B1C6\", \"ticks\": \"\"}}, \"title\": {\"x\": 0.05}, \"xaxis\": {\"automargin\": true, \"gridcolor\": \"#EBF0F8\", \"linecolor\": \"#EBF0F8\", \"ticks\": \"\", \"title\": {\"standoff\": 15}, \"zerolinecolor\": \"#EBF0F8\", \"zerolinewidth\": 2}, \"yaxis\": {\"automargin\": true, \"gridcolor\": \"#EBF0F8\", \"linecolor\": \"#EBF0F8\", \"ticks\": \"\", \"title\": {\"standoff\": 15}, \"zerolinecolor\": \"#EBF0F8\", \"zerolinewidth\": 2}}}, \"title\": {\"text\": \"Device Category\"}, \"width\": 1500, \"xaxis\": {\"anchor\": \"y\", \"domain\": [0.0, 0.2888888888888889]}, \"xaxis2\": {\"anchor\": \"y2\", \"domain\": [0.35555555555555557, 0.6444444444444445]}, \"xaxis3\": {\"anchor\": \"y3\", \"domain\": [0.7111111111111111, 1.0]}, \"xaxis4\": {\"anchor\": \"y4\", \"domain\": [0.0, 0.2888888888888889]}, \"xaxis5\": {\"anchor\": \"y5\", \"domain\": [0.35555555555555557, 0.6444444444444445]}, \"xaxis6\": {\"anchor\": \"y6\", \"domain\": [0.7111111111111111, 1.0]}, \"xaxis7\": {\"anchor\": \"y7\", \"domain\": [0.0, 0.2888888888888889]}, \"xaxis8\": {\"anchor\": \"y8\", \"domain\": [0.35555555555555557, 0.6444444444444445]}, \"xaxis9\": {\"anchor\": \"y9\", \"domain\": [0.7111111111111111, 1.0]}, \"yaxis\": {\"anchor\": \"x\", \"domain\": [0.6933333333333334, 1.0]}, \"yaxis2\": {\"anchor\": \"x2\", \"domain\": [0.6933333333333334, 1.0]}, \"yaxis3\": {\"anchor\": \"x3\", \"domain\": [0.6933333333333334, 1.0]}, \"yaxis4\": {\"anchor\": \"x4\", \"domain\": [0.3466666666666667, 0.6533333333333333]}, \"yaxis5\": {\"anchor\": \"x5\", \"domain\": [0.3466666666666667, 0.6533333333333333]}, \"yaxis6\": {\"anchor\": \"x6\", \"domain\": [0.3466666666666667, 0.6533333333333333]}, \"yaxis7\": {\"anchor\": \"x7\", \"domain\": [0.0, 0.3066666666666667]}, \"yaxis8\": {\"anchor\": \"x8\", \"domain\": [0.0, 0.3066666666666667]}, \"yaxis9\": {\"anchor\": \"x9\", \"domain\": [0.0, 0.3066666666666667]}},                        {\"responsive\": true}                    ).then(function(){\n",
       "                            \n",
       "var gd = document.getElementById('ac722a3a-18e8-49af-baf4-0b3bcb07e304');\n",
       "var x = new MutationObserver(function (mutations, observer) {{\n",
       "        var display = window.getComputedStyle(gd).display;\n",
       "        if (!display || display === 'none') {{\n",
       "            console.log([gd, 'removed!']);\n",
       "            Plotly.purge(gd);\n",
       "            observer.disconnect();\n",
       "        }}\n",
       "}});\n",
       "\n",
       "// Listen for the removal of the full notebook cells\n",
       "var notebookContainer = gd.closest('#notebook-container');\n",
       "if (notebookContainer) {{\n",
       "    x.observe(notebookContainer, {childList: true});\n",
       "}}\n",
       "\n",
       "// Listen for the clearing of the current output cell\n",
       "var outputEl = gd.closest('.output');\n",
       "if (outputEl) {{\n",
       "    x.observe(outputEl, {childList: true});\n",
       "}}\n",
       "\n",
       "                        })                };                });            </script>        </div>"
      ]
     },
     "metadata": {},
     "output_type": "display_data"
    }
   ],
   "source": [
    "# Device Category statistics \n",
    "\n",
    "aggs = df.groupby('deviceCategory')['transactionRevenue'].agg(['size', 'sum', 'mean'])\n",
    "\n",
    "aggs.columns = [\"count\", \"total_revenue\", \"mean\"]\n",
    "cnt_srs = aggs.sort_values(by=\"count\", ascending=False)\n",
    "trace1 = make_bar_chart(aggs[\"count\"].head(10), '#073b4c')\n",
    "trace2 = make_bar_chart(aggs[\"total_revenue\"].head(10), '#073b4c')\n",
    "trace3 = make_bar_chart(aggs[\"mean\"].head(10), '#073b4c')\n",
    "\n",
    "fig = tools.make_subplots(rows=3, cols=3, vertical_spacing=0.04, \n",
    "                          subplot_titles=[\"Device Category - Count\", \"Device Category - Total Revenue\", \"Device Category - Mean Revenue\"])\n",
    "\n",
    "fig.append_trace(trace1, 1, 1)\n",
    "fig.append_trace(trace2, 1, 2)\n",
    "fig.append_trace(trace3, 1, 3)\n",
    "\n",
    "fig['layout'].update(height=600, width=1500, template='plotly_white',paper_bgcolor='#ffffff', title=\"Device Category\")\n",
    "plty.iplot(fig, filename='device-plots')"
   ]
  },
  {
   "cell_type": "code",
   "execution_count": 9,
   "id": "7e3cae3d",
   "metadata": {},
   "outputs": [
    {
     "data": {
      "application/vnd.plotly.v1+json": {
       "config": {
        "linkText": "Export to plot.ly",
        "plotlyServerURL": "https://plot.ly",
        "showLink": false
       },
       "data": [
        {
         "marker": {
          "color": "#073b4c"
         },
         "orientation": "h",
         "showlegend": false,
         "type": "bar",
         "x": [
          1,
          1,
          253938,
          35034,
          9,
          89,
          26337,
          218,
          123892,
          4695
         ],
         "xaxis": "x",
         "y": [
          "Nintendo 3DS",
          "NTT DoCoMo",
          "Macintosh",
          "Linux",
          "FreeBSD",
          "Firefox OS",
          "Chrome OS",
          "BlackBerry",
          "Android",
          "(not set)"
         ],
         "yaxis": "y"
        },
        {
         "marker": {
          "color": "#073b4c"
         },
         "orientation": "h",
         "showlegend": false,
         "type": "bar",
         "x": [
          0,
          0,
          856375790000,
          43910400000,
          0,
          0,
          183937750000,
          0,
          36341280000,
          0
         ],
         "xaxis": "x2",
         "y": [
          "Nintendo 3DS",
          "NTT DoCoMo",
          "Macintosh",
          "Linux",
          "FreeBSD",
          "Firefox OS",
          "Chrome OS",
          "BlackBerry",
          "Android",
          "(not set)"
         ],
         "yaxis": "y2"
        },
        {
         "marker": {
          "color": "#073b4c"
         },
         "orientation": "h",
         "showlegend": false,
         "type": "bar",
         "x": [
          null,
          null,
          133267318.70525987,
          56151406.64961637,
          null,
          null,
          185048038.22937626,
          null,
          77818586.72376874,
          null
         ],
         "xaxis": "x3",
         "y": [
          "Nintendo 3DS",
          "NTT DoCoMo",
          "Macintosh",
          "Linux",
          "FreeBSD",
          "Firefox OS",
          "Chrome OS",
          "BlackBerry",
          "Android",
          "(not set)"
         ],
         "yaxis": "y3"
        }
       ],
       "layout": {
        "annotations": [
         {
          "font": {
           "size": 16
          },
          "showarrow": false,
          "text": "Device OS - Count",
          "x": 0.14444444444444446,
          "xanchor": "center",
          "xref": "paper",
          "y": 1,
          "yanchor": "bottom",
          "yref": "paper"
         },
         {
          "font": {
           "size": 16
          },
          "showarrow": false,
          "text": "Device OS - Total Revenue",
          "x": 0.5,
          "xanchor": "center",
          "xref": "paper",
          "y": 1,
          "yanchor": "bottom",
          "yref": "paper"
         },
         {
          "font": {
           "size": 16
          },
          "showarrow": false,
          "text": "Device OS - Mean Revenue",
          "x": 0.8555555555555556,
          "xanchor": "center",
          "xref": "paper",
          "y": 1,
          "yanchor": "bottom",
          "yref": "paper"
         }
        ],
        "height": 600,
        "paper_bgcolor": "#ffffff",
        "template": {
         "data": {
          "bar": [
           {
            "error_x": {
             "color": "#2a3f5f"
            },
            "error_y": {
             "color": "#2a3f5f"
            },
            "marker": {
             "line": {
              "color": "white",
              "width": 0.5
             }
            },
            "type": "bar"
           }
          ],
          "barpolar": [
           {
            "marker": {
             "line": {
              "color": "white",
              "width": 0.5
             }
            },
            "type": "barpolar"
           }
          ],
          "carpet": [
           {
            "aaxis": {
             "endlinecolor": "#2a3f5f",
             "gridcolor": "#C8D4E3",
             "linecolor": "#C8D4E3",
             "minorgridcolor": "#C8D4E3",
             "startlinecolor": "#2a3f5f"
            },
            "baxis": {
             "endlinecolor": "#2a3f5f",
             "gridcolor": "#C8D4E3",
             "linecolor": "#C8D4E3",
             "minorgridcolor": "#C8D4E3",
             "startlinecolor": "#2a3f5f"
            },
            "type": "carpet"
           }
          ],
          "choropleth": [
           {
            "colorbar": {
             "outlinewidth": 0,
             "ticks": ""
            },
            "type": "choropleth"
           }
          ],
          "contour": [
           {
            "colorbar": {
             "outlinewidth": 0,
             "ticks": ""
            },
            "colorscale": [
             [
              0,
              "#0d0887"
             ],
             [
              0.1111111111111111,
              "#46039f"
             ],
             [
              0.2222222222222222,
              "#7201a8"
             ],
             [
              0.3333333333333333,
              "#9c179e"
             ],
             [
              0.4444444444444444,
              "#bd3786"
             ],
             [
              0.5555555555555556,
              "#d8576b"
             ],
             [
              0.6666666666666666,
              "#ed7953"
             ],
             [
              0.7777777777777778,
              "#fb9f3a"
             ],
             [
              0.8888888888888888,
              "#fdca26"
             ],
             [
              1,
              "#f0f921"
             ]
            ],
            "type": "contour"
           }
          ],
          "contourcarpet": [
           {
            "colorbar": {
             "outlinewidth": 0,
             "ticks": ""
            },
            "type": "contourcarpet"
           }
          ],
          "heatmap": [
           {
            "colorbar": {
             "outlinewidth": 0,
             "ticks": ""
            },
            "colorscale": [
             [
              0,
              "#0d0887"
             ],
             [
              0.1111111111111111,
              "#46039f"
             ],
             [
              0.2222222222222222,
              "#7201a8"
             ],
             [
              0.3333333333333333,
              "#9c179e"
             ],
             [
              0.4444444444444444,
              "#bd3786"
             ],
             [
              0.5555555555555556,
              "#d8576b"
             ],
             [
              0.6666666666666666,
              "#ed7953"
             ],
             [
              0.7777777777777778,
              "#fb9f3a"
             ],
             [
              0.8888888888888888,
              "#fdca26"
             ],
             [
              1,
              "#f0f921"
             ]
            ],
            "type": "heatmap"
           }
          ],
          "heatmapgl": [
           {
            "colorbar": {
             "outlinewidth": 0,
             "ticks": ""
            },
            "colorscale": [
             [
              0,
              "#0d0887"
             ],
             [
              0.1111111111111111,
              "#46039f"
             ],
             [
              0.2222222222222222,
              "#7201a8"
             ],
             [
              0.3333333333333333,
              "#9c179e"
             ],
             [
              0.4444444444444444,
              "#bd3786"
             ],
             [
              0.5555555555555556,
              "#d8576b"
             ],
             [
              0.6666666666666666,
              "#ed7953"
             ],
             [
              0.7777777777777778,
              "#fb9f3a"
             ],
             [
              0.8888888888888888,
              "#fdca26"
             ],
             [
              1,
              "#f0f921"
             ]
            ],
            "type": "heatmapgl"
           }
          ],
          "histogram": [
           {
            "marker": {
             "colorbar": {
              "outlinewidth": 0,
              "ticks": ""
             }
            },
            "type": "histogram"
           }
          ],
          "histogram2d": [
           {
            "colorbar": {
             "outlinewidth": 0,
             "ticks": ""
            },
            "colorscale": [
             [
              0,
              "#0d0887"
             ],
             [
              0.1111111111111111,
              "#46039f"
             ],
             [
              0.2222222222222222,
              "#7201a8"
             ],
             [
              0.3333333333333333,
              "#9c179e"
             ],
             [
              0.4444444444444444,
              "#bd3786"
             ],
             [
              0.5555555555555556,
              "#d8576b"
             ],
             [
              0.6666666666666666,
              "#ed7953"
             ],
             [
              0.7777777777777778,
              "#fb9f3a"
             ],
             [
              0.8888888888888888,
              "#fdca26"
             ],
             [
              1,
              "#f0f921"
             ]
            ],
            "type": "histogram2d"
           }
          ],
          "histogram2dcontour": [
           {
            "colorbar": {
             "outlinewidth": 0,
             "ticks": ""
            },
            "colorscale": [
             [
              0,
              "#0d0887"
             ],
             [
              0.1111111111111111,
              "#46039f"
             ],
             [
              0.2222222222222222,
              "#7201a8"
             ],
             [
              0.3333333333333333,
              "#9c179e"
             ],
             [
              0.4444444444444444,
              "#bd3786"
             ],
             [
              0.5555555555555556,
              "#d8576b"
             ],
             [
              0.6666666666666666,
              "#ed7953"
             ],
             [
              0.7777777777777778,
              "#fb9f3a"
             ],
             [
              0.8888888888888888,
              "#fdca26"
             ],
             [
              1,
              "#f0f921"
             ]
            ],
            "type": "histogram2dcontour"
           }
          ],
          "mesh3d": [
           {
            "colorbar": {
             "outlinewidth": 0,
             "ticks": ""
            },
            "type": "mesh3d"
           }
          ],
          "parcoords": [
           {
            "line": {
             "colorbar": {
              "outlinewidth": 0,
              "ticks": ""
             }
            },
            "type": "parcoords"
           }
          ],
          "pie": [
           {
            "automargin": true,
            "type": "pie"
           }
          ],
          "scatter": [
           {
            "marker": {
             "colorbar": {
              "outlinewidth": 0,
              "ticks": ""
             }
            },
            "type": "scatter"
           }
          ],
          "scatter3d": [
           {
            "line": {
             "colorbar": {
              "outlinewidth": 0,
              "ticks": ""
             }
            },
            "marker": {
             "colorbar": {
              "outlinewidth": 0,
              "ticks": ""
             }
            },
            "type": "scatter3d"
           }
          ],
          "scattercarpet": [
           {
            "marker": {
             "colorbar": {
              "outlinewidth": 0,
              "ticks": ""
             }
            },
            "type": "scattercarpet"
           }
          ],
          "scattergeo": [
           {
            "marker": {
             "colorbar": {
              "outlinewidth": 0,
              "ticks": ""
             }
            },
            "type": "scattergeo"
           }
          ],
          "scattergl": [
           {
            "marker": {
             "colorbar": {
              "outlinewidth": 0,
              "ticks": ""
             }
            },
            "type": "scattergl"
           }
          ],
          "scattermapbox": [
           {
            "marker": {
             "colorbar": {
              "outlinewidth": 0,
              "ticks": ""
             }
            },
            "type": "scattermapbox"
           }
          ],
          "scatterpolar": [
           {
            "marker": {
             "colorbar": {
              "outlinewidth": 0,
              "ticks": ""
             }
            },
            "type": "scatterpolar"
           }
          ],
          "scatterpolargl": [
           {
            "marker": {
             "colorbar": {
              "outlinewidth": 0,
              "ticks": ""
             }
            },
            "type": "scatterpolargl"
           }
          ],
          "scatterternary": [
           {
            "marker": {
             "colorbar": {
              "outlinewidth": 0,
              "ticks": ""
             }
            },
            "type": "scatterternary"
           }
          ],
          "surface": [
           {
            "colorbar": {
             "outlinewidth": 0,
             "ticks": ""
            },
            "colorscale": [
             [
              0,
              "#0d0887"
             ],
             [
              0.1111111111111111,
              "#46039f"
             ],
             [
              0.2222222222222222,
              "#7201a8"
             ],
             [
              0.3333333333333333,
              "#9c179e"
             ],
             [
              0.4444444444444444,
              "#bd3786"
             ],
             [
              0.5555555555555556,
              "#d8576b"
             ],
             [
              0.6666666666666666,
              "#ed7953"
             ],
             [
              0.7777777777777778,
              "#fb9f3a"
             ],
             [
              0.8888888888888888,
              "#fdca26"
             ],
             [
              1,
              "#f0f921"
             ]
            ],
            "type": "surface"
           }
          ],
          "table": [
           {
            "cells": {
             "fill": {
              "color": "#EBF0F8"
             },
             "line": {
              "color": "white"
             }
            },
            "header": {
             "fill": {
              "color": "#C8D4E3"
             },
             "line": {
              "color": "white"
             }
            },
            "type": "table"
           }
          ]
         },
         "layout": {
          "annotationdefaults": {
           "arrowcolor": "#2a3f5f",
           "arrowhead": 0,
           "arrowwidth": 1
          },
          "autotypenumbers": "strict",
          "coloraxis": {
           "colorbar": {
            "outlinewidth": 0,
            "ticks": ""
           }
          },
          "colorscale": {
           "diverging": [
            [
             0,
             "#8e0152"
            ],
            [
             0.1,
             "#c51b7d"
            ],
            [
             0.2,
             "#de77ae"
            ],
            [
             0.3,
             "#f1b6da"
            ],
            [
             0.4,
             "#fde0ef"
            ],
            [
             0.5,
             "#f7f7f7"
            ],
            [
             0.6,
             "#e6f5d0"
            ],
            [
             0.7,
             "#b8e186"
            ],
            [
             0.8,
             "#7fbc41"
            ],
            [
             0.9,
             "#4d9221"
            ],
            [
             1,
             "#276419"
            ]
           ],
           "sequential": [
            [
             0,
             "#0d0887"
            ],
            [
             0.1111111111111111,
             "#46039f"
            ],
            [
             0.2222222222222222,
             "#7201a8"
            ],
            [
             0.3333333333333333,
             "#9c179e"
            ],
            [
             0.4444444444444444,
             "#bd3786"
            ],
            [
             0.5555555555555556,
             "#d8576b"
            ],
            [
             0.6666666666666666,
             "#ed7953"
            ],
            [
             0.7777777777777778,
             "#fb9f3a"
            ],
            [
             0.8888888888888888,
             "#fdca26"
            ],
            [
             1,
             "#f0f921"
            ]
           ],
           "sequentialminus": [
            [
             0,
             "#0d0887"
            ],
            [
             0.1111111111111111,
             "#46039f"
            ],
            [
             0.2222222222222222,
             "#7201a8"
            ],
            [
             0.3333333333333333,
             "#9c179e"
            ],
            [
             0.4444444444444444,
             "#bd3786"
            ],
            [
             0.5555555555555556,
             "#d8576b"
            ],
            [
             0.6666666666666666,
             "#ed7953"
            ],
            [
             0.7777777777777778,
             "#fb9f3a"
            ],
            [
             0.8888888888888888,
             "#fdca26"
            ],
            [
             1,
             "#f0f921"
            ]
           ]
          },
          "colorway": [
           "#636efa",
           "#EF553B",
           "#00cc96",
           "#ab63fa",
           "#FFA15A",
           "#19d3f3",
           "#FF6692",
           "#B6E880",
           "#FF97FF",
           "#FECB52"
          ],
          "font": {
           "color": "#2a3f5f"
          },
          "geo": {
           "bgcolor": "white",
           "lakecolor": "white",
           "landcolor": "white",
           "showlakes": true,
           "showland": true,
           "subunitcolor": "#C8D4E3"
          },
          "hoverlabel": {
           "align": "left"
          },
          "hovermode": "closest",
          "mapbox": {
           "style": "light"
          },
          "paper_bgcolor": "white",
          "plot_bgcolor": "white",
          "polar": {
           "angularaxis": {
            "gridcolor": "#EBF0F8",
            "linecolor": "#EBF0F8",
            "ticks": ""
           },
           "bgcolor": "white",
           "radialaxis": {
            "gridcolor": "#EBF0F8",
            "linecolor": "#EBF0F8",
            "ticks": ""
           }
          },
          "scene": {
           "xaxis": {
            "backgroundcolor": "white",
            "gridcolor": "#DFE8F3",
            "gridwidth": 2,
            "linecolor": "#EBF0F8",
            "showbackground": true,
            "ticks": "",
            "zerolinecolor": "#EBF0F8"
           },
           "yaxis": {
            "backgroundcolor": "white",
            "gridcolor": "#DFE8F3",
            "gridwidth": 2,
            "linecolor": "#EBF0F8",
            "showbackground": true,
            "ticks": "",
            "zerolinecolor": "#EBF0F8"
           },
           "zaxis": {
            "backgroundcolor": "white",
            "gridcolor": "#DFE8F3",
            "gridwidth": 2,
            "linecolor": "#EBF0F8",
            "showbackground": true,
            "ticks": "",
            "zerolinecolor": "#EBF0F8"
           }
          },
          "shapedefaults": {
           "line": {
            "color": "#2a3f5f"
           }
          },
          "ternary": {
           "aaxis": {
            "gridcolor": "#DFE8F3",
            "linecolor": "#A2B1C6",
            "ticks": ""
           },
           "baxis": {
            "gridcolor": "#DFE8F3",
            "linecolor": "#A2B1C6",
            "ticks": ""
           },
           "bgcolor": "white",
           "caxis": {
            "gridcolor": "#DFE8F3",
            "linecolor": "#A2B1C6",
            "ticks": ""
           }
          },
          "title": {
           "x": 0.05
          },
          "xaxis": {
           "automargin": true,
           "gridcolor": "#EBF0F8",
           "linecolor": "#EBF0F8",
           "ticks": "",
           "title": {
            "standoff": 15
           },
           "zerolinecolor": "#EBF0F8",
           "zerolinewidth": 2
          },
          "yaxis": {
           "automargin": true,
           "gridcolor": "#EBF0F8",
           "linecolor": "#EBF0F8",
           "ticks": "",
           "title": {
            "standoff": 15
           },
           "zerolinecolor": "#EBF0F8",
           "zerolinewidth": 2
          }
         }
        },
        "title": {
         "text": "Device OS"
        },
        "width": 1500,
        "xaxis": {
         "anchor": "y",
         "autorange": true,
         "domain": [
          0,
          0.2888888888888889
         ],
         "range": [
          0,
          267303.15789473685
         ],
         "type": "linear"
        },
        "xaxis2": {
         "anchor": "y2",
         "autorange": true,
         "domain": [
          0.35555555555555557,
          0.6444444444444445
         ],
         "range": [
          0,
          901448200000
         ],
         "type": "linear"
        },
        "xaxis3": {
         "anchor": "y3",
         "autorange": true,
         "domain": [
          0.7111111111111111,
          1
         ],
         "range": [
          0,
          194787408.66250134
         ],
         "type": "linear"
        },
        "xaxis4": {
         "anchor": "y4",
         "domain": [
          0,
          0.2888888888888889
         ]
        },
        "xaxis5": {
         "anchor": "y5",
         "domain": [
          0.35555555555555557,
          0.6444444444444445
         ]
        },
        "xaxis6": {
         "anchor": "y6",
         "domain": [
          0.7111111111111111,
          1
         ]
        },
        "xaxis7": {
         "anchor": "y7",
         "domain": [
          0,
          0.2888888888888889
         ]
        },
        "xaxis8": {
         "anchor": "y8",
         "domain": [
          0.35555555555555557,
          0.6444444444444445
         ]
        },
        "xaxis9": {
         "anchor": "y9",
         "domain": [
          0.7111111111111111,
          1
         ]
        },
        "yaxis": {
         "anchor": "x",
         "autorange": true,
         "domain": [
          0.6933333333333334,
          1
         ],
         "range": [
          -0.5,
          9.5
         ],
         "type": "category"
        },
        "yaxis2": {
         "anchor": "x2",
         "autorange": true,
         "domain": [
          0.6933333333333334,
          1
         ],
         "range": [
          -0.5,
          9.5
         ],
         "type": "category"
        },
        "yaxis3": {
         "anchor": "x3",
         "autorange": true,
         "domain": [
          0.6933333333333334,
          1
         ],
         "range": [
          -0.5,
          9.5
         ],
         "type": "category"
        },
        "yaxis4": {
         "anchor": "x4",
         "domain": [
          0.3466666666666667,
          0.6533333333333333
         ]
        },
        "yaxis5": {
         "anchor": "x5",
         "domain": [
          0.3466666666666667,
          0.6533333333333333
         ]
        },
        "yaxis6": {
         "anchor": "x6",
         "domain": [
          0.3466666666666667,
          0.6533333333333333
         ]
        },
        "yaxis7": {
         "anchor": "x7",
         "domain": [
          0,
          0.3066666666666667
         ]
        },
        "yaxis8": {
         "anchor": "x8",
         "domain": [
          0,
          0.3066666666666667
         ]
        },
        "yaxis9": {
         "anchor": "x9",
         "domain": [
          0,
          0.3066666666666667
         ]
        }
       }
      },
      "image/png": "[encoded data removed]",
      "text/html": [
       "<div>                            <div id=\"4d35a952-fc1c-49a1-bc30-9dcda5190524\" class=\"plotly-graph-div\" style=\"height:600px; width:1500px;\"></div>            <script type=\"text/javascript\">                require([\"plotly\"], function(Plotly) {                    window.PLOTLYENV=window.PLOTLYENV || {};                                    if (document.getElementById(\"4d35a952-fc1c-49a1-bc30-9dcda5190524\")) {                    Plotly.newPlot(                        \"4d35a952-fc1c-49a1-bc30-9dcda5190524\",                        [{\"marker\": {\"color\": \"#073b4c\"}, \"orientation\": \"h\", \"showlegend\": false, \"type\": \"bar\", \"x\": [1, 1, 253938, 35034, 9, 89, 26337, 218, 123892, 4695], \"xaxis\": \"x\", \"y\": [\"Nintendo 3DS\", \"NTT DoCoMo\", \"Macintosh\", \"Linux\", \"FreeBSD\", \"Firefox OS\", \"Chrome OS\", \"BlackBerry\", \"Android\", \"(not set)\"], \"yaxis\": \"y\"}, {\"marker\": {\"color\": \"#073b4c\"}, \"orientation\": \"h\", \"showlegend\": false, \"type\": \"bar\", \"x\": [0.0, 0.0, 856375790000.0, 43910400000.0, 0.0, 0.0, 183937750000.0, 0.0, 36341280000.0, 0.0], \"xaxis\": \"x2\", \"y\": [\"Nintendo 3DS\", \"NTT DoCoMo\", \"Macintosh\", \"Linux\", \"FreeBSD\", \"Firefox OS\", \"Chrome OS\", \"BlackBerry\", \"Android\", \"(not set)\"], \"yaxis\": \"y2\"}, {\"marker\": {\"color\": \"#073b4c\"}, \"orientation\": \"h\", \"showlegend\": false, \"type\": \"bar\", \"x\": [null, null, 133267318.70525987, 56151406.64961637, null, null, 185048038.22937626, null, 77818586.72376874, null], \"xaxis\": \"x3\", \"y\": [\"Nintendo 3DS\", \"NTT DoCoMo\", \"Macintosh\", \"Linux\", \"FreeBSD\", \"Firefox OS\", \"Chrome OS\", \"BlackBerry\", \"Android\", \"(not set)\"], \"yaxis\": \"y3\"}],                        {\"annotations\": [{\"font\": {\"size\": 16}, \"showarrow\": false, \"text\": \"Device OS - Count\", \"x\": 0.14444444444444446, \"xanchor\": \"center\", \"xref\": \"paper\", \"y\": 1.0, \"yanchor\": \"bottom\", \"yref\": \"paper\"}, {\"font\": {\"size\": 16}, \"showarrow\": false, \"text\": \"Device OS - Total Revenue\", \"x\": 0.5, \"xanchor\": \"center\", \"xref\": \"paper\", \"y\": 1.0, \"yanchor\": \"bottom\", \"yref\": \"paper\"}, {\"font\": {\"size\": 16}, \"showarrow\": false, \"text\": \"Device OS - Mean Revenue\", \"x\": 0.8555555555555556, \"xanchor\": \"center\", \"xref\": \"paper\", \"y\": 1.0, \"yanchor\": \"bottom\", \"yref\": \"paper\"}], \"height\": 600, \"paper_bgcolor\": \"#ffffff\", \"template\": {\"data\": {\"bar\": [{\"error_x\": {\"color\": \"#2a3f5f\"}, \"error_y\": {\"color\": \"#2a3f5f\"}, \"marker\": {\"line\": {\"color\": \"white\", \"width\": 0.5}}, \"type\": \"bar\"}], \"barpolar\": [{\"marker\": {\"line\": {\"color\": \"white\", \"width\": 0.5}}, \"type\": \"barpolar\"}], \"carpet\": [{\"aaxis\": {\"endlinecolor\": \"#2a3f5f\", \"gridcolor\": \"#C8D4E3\", \"linecolor\": \"#C8D4E3\", \"minorgridcolor\": \"#C8D4E3\", \"startlinecolor\": \"#2a3f5f\"}, \"baxis\": {\"endlinecolor\": \"#2a3f5f\", \"gridcolor\": \"#C8D4E3\", \"linecolor\": \"#C8D4E3\", \"minorgridcolor\": \"#C8D4E3\", \"startlinecolor\": \"#2a3f5f\"}, \"type\": \"carpet\"}], \"choropleth\": [{\"colorbar\": {\"outlinewidth\": 0, \"ticks\": \"\"}, \"type\": \"choropleth\"}], \"contour\": [{\"colorbar\": {\"outlinewidth\": 0, \"ticks\": \"\"}, \"colorscale\": [[0.0, \"#0d0887\"], [0.1111111111111111, \"#46039f\"], [0.2222222222222222, \"#7201a8\"], [0.3333333333333333, \"#9c179e\"], [0.4444444444444444, \"#bd3786\"], [0.5555555555555556, \"#d8576b\"], [0.6666666666666666, \"#ed7953\"], [0.7777777777777778, \"#fb9f3a\"], [0.8888888888888888, \"#fdca26\"], [1.0, \"#f0f921\"]], \"type\": \"contour\"}], \"contourcarpet\": [{\"colorbar\": {\"outlinewidth\": 0, \"ticks\": \"\"}, \"type\": \"contourcarpet\"}], \"heatmap\": [{\"colorbar\": {\"outlinewidth\": 0, \"ticks\": \"\"}, \"colorscale\": [[0.0, \"#0d0887\"], [0.1111111111111111, \"#46039f\"], [0.2222222222222222, \"#7201a8\"], [0.3333333333333333, \"#9c179e\"], [0.4444444444444444, \"#bd3786\"], [0.5555555555555556, \"#d8576b\"], [0.6666666666666666, \"#ed7953\"], [0.7777777777777778, \"#fb9f3a\"], [0.8888888888888888, \"#fdca26\"], [1.0, \"#f0f921\"]], \"type\": \"heatmap\"}], \"heatmapgl\": [{\"colorbar\": {\"outlinewidth\": 0, \"ticks\": \"\"}, \"colorscale\": [[0.0, \"#0d0887\"], [0.1111111111111111, \"#46039f\"], [0.2222222222222222, \"#7201a8\"], [0.3333333333333333, \"#9c179e\"], [0.4444444444444444, \"#bd3786\"], [0.5555555555555556, \"#d8576b\"], [0.6666666666666666, \"#ed7953\"], [0.7777777777777778, \"#fb9f3a\"], [0.8888888888888888, \"#fdca26\"], [1.0, \"#f0f921\"]], \"type\": \"heatmapgl\"}], \"histogram\": [{\"marker\": {\"colorbar\": {\"outlinewidth\": 0, \"ticks\": \"\"}}, \"type\": \"histogram\"}], \"histogram2d\": [{\"colorbar\": {\"outlinewidth\": 0, \"ticks\": \"\"}, \"colorscale\": [[0.0, \"#0d0887\"], [0.1111111111111111, \"#46039f\"], [0.2222222222222222, \"#7201a8\"], [0.3333333333333333, \"#9c179e\"], [0.4444444444444444, \"#bd3786\"], [0.5555555555555556, \"#d8576b\"], [0.6666666666666666, \"#ed7953\"], [0.7777777777777778, \"#fb9f3a\"], [0.8888888888888888, \"#fdca26\"], [1.0, \"#f0f921\"]], \"type\": \"histogram2d\"}], \"histogram2dcontour\": [{\"colorbar\": {\"outlinewidth\": 0, \"ticks\": \"\"}, \"colorscale\": [[0.0, \"#0d0887\"], [0.1111111111111111, \"#46039f\"], [0.2222222222222222, \"#7201a8\"], [0.3333333333333333, \"#9c179e\"], [0.4444444444444444, \"#bd3786\"], [0.5555555555555556, \"#d8576b\"], [0.6666666666666666, \"#ed7953\"], [0.7777777777777778, \"#fb9f3a\"], [0.8888888888888888, \"#fdca26\"], [1.0, \"#f0f921\"]], \"type\": \"histogram2dcontour\"}], \"mesh3d\": [{\"colorbar\": {\"outlinewidth\": 0, \"ticks\": \"\"}, \"type\": \"mesh3d\"}], \"parcoords\": [{\"line\": {\"colorbar\": {\"outlinewidth\": 0, \"ticks\": \"\"}}, \"type\": \"parcoords\"}], \"pie\": [{\"automargin\": true, \"type\": \"pie\"}], \"scatter\": [{\"marker\": {\"colorbar\": {\"outlinewidth\": 0, \"ticks\": \"\"}}, \"type\": \"scatter\"}], \"scatter3d\": [{\"line\": {\"colorbar\": {\"outlinewidth\": 0, \"ticks\": \"\"}}, \"marker\": {\"colorbar\": {\"outlinewidth\": 0, \"ticks\": \"\"}}, \"type\": \"scatter3d\"}], \"scattercarpet\": [{\"marker\": {\"colorbar\": {\"outlinewidth\": 0, \"ticks\": \"\"}}, \"type\": \"scattercarpet\"}], \"scattergeo\": [{\"marker\": {\"colorbar\": {\"outlinewidth\": 0, \"ticks\": \"\"}}, \"type\": \"scattergeo\"}], \"scattergl\": [{\"marker\": {\"colorbar\": {\"outlinewidth\": 0, \"ticks\": \"\"}}, \"type\": \"scattergl\"}], \"scattermapbox\": [{\"marker\": {\"colorbar\": {\"outlinewidth\": 0, \"ticks\": \"\"}}, \"type\": \"scattermapbox\"}], \"scatterpolar\": [{\"marker\": {\"colorbar\": {\"outlinewidth\": 0, \"ticks\": \"\"}}, \"type\": \"scatterpolar\"}], \"scatterpolargl\": [{\"marker\": {\"colorbar\": {\"outlinewidth\": 0, \"ticks\": \"\"}}, \"type\": \"scatterpolargl\"}], \"scatterternary\": [{\"marker\": {\"colorbar\": {\"outlinewidth\": 0, \"ticks\": \"\"}}, \"type\": \"scatterternary\"}], \"surface\": [{\"colorbar\": {\"outlinewidth\": 0, \"ticks\": \"\"}, \"colorscale\": [[0.0, \"#0d0887\"], [0.1111111111111111, \"#46039f\"], [0.2222222222222222, \"#7201a8\"], [0.3333333333333333, \"#9c179e\"], [0.4444444444444444, \"#bd3786\"], [0.5555555555555556, \"#d8576b\"], [0.6666666666666666, \"#ed7953\"], [0.7777777777777778, \"#fb9f3a\"], [0.8888888888888888, \"#fdca26\"], [1.0, \"#f0f921\"]], \"type\": \"surface\"}], \"table\": [{\"cells\": {\"fill\": {\"color\": \"#EBF0F8\"}, \"line\": {\"color\": \"white\"}}, \"header\": {\"fill\": {\"color\": \"#C8D4E3\"}, \"line\": {\"color\": \"white\"}}, \"type\": \"table\"}]}, \"layout\": {\"annotationdefaults\": {\"arrowcolor\": \"#2a3f5f\", \"arrowhead\": 0, \"arrowwidth\": 1}, \"autotypenumbers\": \"strict\", \"coloraxis\": {\"colorbar\": {\"outlinewidth\": 0, \"ticks\": \"\"}}, \"colorscale\": {\"diverging\": [[0, \"#8e0152\"], [0.1, \"#c51b7d\"], [0.2, \"#de77ae\"], [0.3, \"#f1b6da\"], [0.4, \"#fde0ef\"], [0.5, \"#f7f7f7\"], [0.6, \"#e6f5d0\"], [0.7, \"#b8e186\"], [0.8, \"#7fbc41\"], [0.9, \"#4d9221\"], [1, \"#276419\"]], \"sequential\": [[0.0, \"#0d0887\"], [0.1111111111111111, \"#46039f\"], [0.2222222222222222, \"#7201a8\"], [0.3333333333333333, \"#9c179e\"], [0.4444444444444444, \"#bd3786\"], [0.5555555555555556, \"#d8576b\"], [0.6666666666666666, \"#ed7953\"], [0.7777777777777778, \"#fb9f3a\"], [0.8888888888888888, \"#fdca26\"], [1.0, \"#f0f921\"]], \"sequentialminus\": [[0.0, \"#0d0887\"], [0.1111111111111111, \"#46039f\"], [0.2222222222222222, \"#7201a8\"], [0.3333333333333333, \"#9c179e\"], [0.4444444444444444, \"#bd3786\"], [0.5555555555555556, \"#d8576b\"], [0.6666666666666666, \"#ed7953\"], [0.7777777777777778, \"#fb9f3a\"], [0.8888888888888888, \"#fdca26\"], [1.0, \"#f0f921\"]]}, \"colorway\": [\"#636efa\", \"#EF553B\", \"#00cc96\", \"#ab63fa\", \"#FFA15A\", \"#19d3f3\", \"#FF6692\", \"#B6E880\", \"#FF97FF\", \"#FECB52\"], \"font\": {\"color\": \"#2a3f5f\"}, \"geo\": {\"bgcolor\": \"white\", \"lakecolor\": \"white\", \"landcolor\": \"white\", \"showlakes\": true, \"showland\": true, \"subunitcolor\": \"#C8D4E3\"}, \"hoverlabel\": {\"align\": \"left\"}, \"hovermode\": \"closest\", \"mapbox\": {\"style\": \"light\"}, \"paper_bgcolor\": \"white\", \"plot_bgcolor\": \"white\", \"polar\": {\"angularaxis\": {\"gridcolor\": \"#EBF0F8\", \"linecolor\": \"#EBF0F8\", \"ticks\": \"\"}, \"bgcolor\": \"white\", \"radialaxis\": {\"gridcolor\": \"#EBF0F8\", \"linecolor\": \"#EBF0F8\", \"ticks\": \"\"}}, \"scene\": {\"xaxis\": {\"backgroundcolor\": \"white\", \"gridcolor\": \"#DFE8F3\", \"gridwidth\": 2, \"linecolor\": \"#EBF0F8\", \"showbackground\": true, \"ticks\": \"\", \"zerolinecolor\": \"#EBF0F8\"}, \"yaxis\": {\"backgroundcolor\": \"white\", \"gridcolor\": \"#DFE8F3\", \"gridwidth\": 2, \"linecolor\": \"#EBF0F8\", \"showbackground\": true, \"ticks\": \"\", \"zerolinecolor\": \"#EBF0F8\"}, \"zaxis\": {\"backgroundcolor\": \"white\", \"gridcolor\": \"#DFE8F3\", \"gridwidth\": 2, \"linecolor\": \"#EBF0F8\", \"showbackground\": true, \"ticks\": \"\", \"zerolinecolor\": \"#EBF0F8\"}}, \"shapedefaults\": {\"line\": {\"color\": \"#2a3f5f\"}}, \"ternary\": {\"aaxis\": {\"gridcolor\": \"#DFE8F3\", \"linecolor\": \"#A2B1C6\", \"ticks\": \"\"}, \"baxis\": {\"gridcolor\": \"#DFE8F3\", \"linecolor\": \"#A2B1C6\", \"ticks\": \"\"}, \"bgcolor\": \"white\", \"caxis\": {\"gridcolor\": \"#DFE8F3\", \"linecolor\": \"#A2B1C6\", \"ticks\": \"\"}}, \"title\": {\"x\": 0.05}, \"xaxis\": {\"automargin\": true, \"gridcolor\": \"#EBF0F8\", \"linecolor\": \"#EBF0F8\", \"ticks\": \"\", \"title\": {\"standoff\": 15}, \"zerolinecolor\": \"#EBF0F8\", \"zerolinewidth\": 2}, \"yaxis\": {\"automargin\": true, \"gridcolor\": \"#EBF0F8\", \"linecolor\": \"#EBF0F8\", \"ticks\": \"\", \"title\": {\"standoff\": 15}, \"zerolinecolor\": \"#EBF0F8\", \"zerolinewidth\": 2}}}, \"title\": {\"text\": \"Device OS\"}, \"width\": 1500, \"xaxis\": {\"anchor\": \"y\", \"domain\": [0.0, 0.2888888888888889]}, \"xaxis2\": {\"anchor\": \"y2\", \"domain\": [0.35555555555555557, 0.6444444444444445]}, \"xaxis3\": {\"anchor\": \"y3\", \"domain\": [0.7111111111111111, 1.0]}, \"xaxis4\": {\"anchor\": \"y4\", \"domain\": [0.0, 0.2888888888888889]}, \"xaxis5\": {\"anchor\": \"y5\", \"domain\": [0.35555555555555557, 0.6444444444444445]}, \"xaxis6\": {\"anchor\": \"y6\", \"domain\": [0.7111111111111111, 1.0]}, \"xaxis7\": {\"anchor\": \"y7\", \"domain\": [0.0, 0.2888888888888889]}, \"xaxis8\": {\"anchor\": \"y8\", \"domain\": [0.35555555555555557, 0.6444444444444445]}, \"xaxis9\": {\"anchor\": \"y9\", \"domain\": [0.7111111111111111, 1.0]}, \"yaxis\": {\"anchor\": \"x\", \"domain\": [0.6933333333333334, 1.0]}, \"yaxis2\": {\"anchor\": \"x2\", \"domain\": [0.6933333333333334, 1.0]}, \"yaxis3\": {\"anchor\": \"x3\", \"domain\": [0.6933333333333334, 1.0]}, \"yaxis4\": {\"anchor\": \"x4\", \"domain\": [0.3466666666666667, 0.6533333333333333]}, \"yaxis5\": {\"anchor\": \"x5\", \"domain\": [0.3466666666666667, 0.6533333333333333]}, \"yaxis6\": {\"anchor\": \"x6\", \"domain\": [0.3466666666666667, 0.6533333333333333]}, \"yaxis7\": {\"anchor\": \"x7\", \"domain\": [0.0, 0.3066666666666667]}, \"yaxis8\": {\"anchor\": \"x8\", \"domain\": [0.0, 0.3066666666666667]}, \"yaxis9\": {\"anchor\": \"x9\", \"domain\": [0.0, 0.3066666666666667]}},                        {\"responsive\": true}                    ).then(function(){\n",
       "                            \n",
       "var gd = document.getElementById('4d35a952-fc1c-49a1-bc30-9dcda5190524');\n",
       "var x = new MutationObserver(function (mutations, observer) {{\n",
       "        var display = window.getComputedStyle(gd).display;\n",
       "        if (!display || display === 'none') {{\n",
       "            console.log([gd, 'removed!']);\n",
       "            Plotly.purge(gd);\n",
       "            observer.disconnect();\n",
       "        }}\n",
       "}});\n",
       "\n",
       "// Listen for the removal of the full notebook cells\n",
       "var notebookContainer = gd.closest('#notebook-container');\n",
       "if (notebookContainer) {{\n",
       "    x.observe(notebookContainer, {childList: true});\n",
       "}}\n",
       "\n",
       "// Listen for the clearing of the current output cell\n",
       "var outputEl = gd.closest('.output');\n",
       "if (outputEl) {{\n",
       "    x.observe(outputEl, {childList: true});\n",
       "}}\n",
       "\n",
       "                        })                };                });            </script>        </div>"
      ]
     },
     "metadata": {},
     "output_type": "display_data"
    }
   ],
   "source": [
    "# Device Category statistics \n",
    "\n",
    "aggs = df.groupby('operatingSystem')['transactionRevenue'].agg(['size', 'sum', 'mean'])\n",
    "\n",
    "aggs.columns = [\"count\", \"total_revenue\", \"mean\"]\n",
    "cnt_srs = aggs.sort_values(by=\"count\", ascending=False)\n",
    "trace1 = make_bar_chart(aggs[\"count\"].head(10), '#073b4c')\n",
    "trace2 = make_bar_chart(aggs[\"total_revenue\"].head(10), '#073b4c')\n",
    "trace3 = make_bar_chart(aggs[\"mean\"].head(10), '#073b4c')\n",
    "\n",
    "fig = tools.make_subplots(rows=3, cols=3, vertical_spacing=0.04, \n",
    "                          subplot_titles=[\"Device OS - Count\", \"Device OS - Total Revenue\", \"Device OS - Mean Revenue\"])\n",
    "\n",
    "fig.append_trace(trace1, 1, 1)\n",
    "fig.append_trace(trace2, 1, 2)\n",
    "fig.append_trace(trace3, 1, 3)\n",
    "\n",
    "fig['layout'].update(height=600, width=1500, template='plotly_white',paper_bgcolor='#ffffff', title=\"Device OS\")\n",
    "plty.iplot(fig, filename='device-plots')"
   ]
  },
  {
   "cell_type": "code",
   "execution_count": 10,
   "id": "7d11baa7",
   "metadata": {},
   "outputs": [
    {
     "data": {
      "image/png": "[encoded data removed]",
      "text/plain": [
       "<Figure size 720x720 with 3 Axes>"
      ]
     },
     "metadata": {},
     "output_type": "display_data"
    }
   ],
   "source": [
    "aggs = df.groupby('channelGrouping')['transactionRevenue'].agg(['count','sum','mean']).reset_index()\n",
    "\n",
    "color = [\"#ffa69e\",\"#faf3dd\",\"#b8f2e6\",\"#aed9e0\",\"#5e6472\",'#f6bd60','#84a59d','#f8edeb']\n",
    "customPalette = sns.set_palette(sns.color_palette(color))\n",
    "\n",
    "fig = plt.figure(figsize=(10,10))\n",
    "\n",
    "ax1 = fig.add_subplot(311)\n",
    "_ = sns.barplot(data=aggs, x='channelGrouping', y='count', palette= customPalette, ax=ax1)\n",
    "xlabels = aggs['channelGrouping'].to_list()\n",
    "ylabels = aggs['count']\n",
    "_ = ax1.set_title('Number of Users', fontsize=20)\n",
    "_ = ax1.set_ylabel('Number of Users', fontsize=14)\n",
    "_ = ax1.set_xlabel('')\n",
    "_ = ax1.set_xticklabels(xlabels, rotation=30, fontsize=10)\n",
    "\n",
    "ax2 = fig.add_subplot(312)\n",
    "_ = sns.barplot(data=aggs, x='channelGrouping', y='sum', palette= customPalette, ax=ax2)\n",
    "xlabels = aggs['channelGrouping'].to_list()\n",
    "ylabels = aggs['sum']\n",
    "_ = ax2.set_title('Total Revenue', fontsize=20)\n",
    "_ = ax2.set_ylabel('Total Revenue', fontsize=14)\n",
    "_ = ax2.set_xlabel('')\n",
    "_ = ax2.set_xticklabels(xlabels, rotation=30, fontsize=10)\n",
    "\n",
    "ax3 = fig.add_subplot(313)\n",
    "_ = sns.barplot(data=aggs, x='channelGrouping', y='mean', palette= customPalette, ax=ax3)\n",
    "xlabels = aggs['channelGrouping'].to_list()\n",
    "ylabels = aggs['mean']\n",
    "_ = ax3.set_title('Average Revenue', fontsize=20)\n",
    "_ = ax3.set_ylabel('Average Revenue', fontsize=14)\n",
    "_ = ax3.set_xlabel('')\n",
    "_ = ax3.set_xticklabels(xlabels, rotation=30, fontsize=10)\n",
    "\n",
    "fig.tight_layout(pad=0.5)"
   ]
  },
  {
   "cell_type": "code",
   "execution_count": 11,
   "id": "b14435b0",
   "metadata": {},
   "outputs": [
    {
     "data": {
      "text/html": [
       "<style  type=\"text/css\" >\n",
       "#T_9e78b_row0_col0,#T_9e78b_row6_col4,#T_9e78b_row20_col0{\n",
       "            background-color:  #482374;\n",
       "            color:  #f1f1f1;\n",
       "        }#T_9e78b_row0_col1,#T_9e78b_row2_col2,#T_9e78b_row5_col8,#T_9e78b_row8_col8{\n",
       "            background-color:  #3f4788;\n",
       "            color:  #f1f1f1;\n",
       "        }#T_9e78b_row0_col2,#T_9e78b_row15_col10,#T_9e78b_row25_col8{\n",
       "            background-color:  #2f6c8e;\n",
       "            color:  #f1f1f1;\n",
       "        }#T_9e78b_row0_col3,#T_9e78b_row0_col6,#T_9e78b_row2_col7,#T_9e78b_row11_col2,#T_9e78b_row14_col0,#T_9e78b_row14_col3,#T_9e78b_row14_col9,#T_9e78b_row16_col8,#T_9e78b_row17_col1,#T_9e78b_row19_col10,#T_9e78b_row23_col5,#T_9e78b_row27_col0,#T_9e78b_row27_col4,#T_9e78b_row29_col11,#T_9e78b_row30_col11{\n",
       "            background-color:  #440154;\n",
       "            color:  #f1f1f1;\n",
       "        }#T_9e78b_row0_col4,#T_9e78b_row4_col4{\n",
       "            background-color:  #38b977;\n",
       "            color:  #000000;\n",
       "        }#T_9e78b_row0_col5,#T_9e78b_row1_col8,#T_9e78b_row5_col3,#T_9e78b_row20_col6{\n",
       "            background-color:  #404688;\n",
       "            color:  #f1f1f1;\n",
       "        }#T_9e78b_row0_col7{\n",
       "            background-color:  #93d741;\n",
       "            color:  #000000;\n",
       "        }#T_9e78b_row0_col8{\n",
       "            background-color:  #375b8d;\n",
       "            color:  #f1f1f1;\n",
       "        }#T_9e78b_row0_col9,#T_9e78b_row10_col5,#T_9e78b_row17_col2,#T_9e78b_row21_col3,#T_9e78b_row28_col6{\n",
       "            background-color:  #481668;\n",
       "            color:  #f1f1f1;\n",
       "        }#T_9e78b_row0_col10,#T_9e78b_row13_col11{\n",
       "            background-color:  #2d718e;\n",
       "            color:  #f1f1f1;\n",
       "        }#T_9e78b_row0_col11,#T_9e78b_row1_col10,#T_9e78b_row15_col2,#T_9e78b_row28_col10{\n",
       "            background-color:  #31678e;\n",
       "            color:  #f1f1f1;\n",
       "        }#T_9e78b_row1_col0,#T_9e78b_row2_col5,#T_9e78b_row10_col3,#T_9e78b_row15_col6,#T_9e78b_row24_col3{\n",
       "            background-color:  #482475;\n",
       "            color:  #f1f1f1;\n",
       "        }#T_9e78b_row1_col1,#T_9e78b_row25_col5,#T_9e78b_row28_col8{\n",
       "            background-color:  #482979;\n",
       "            color:  #f1f1f1;\n",
       "        }#T_9e78b_row1_col2,#T_9e78b_row16_col2,#T_9e78b_row18_col3{\n",
       "            background-color:  #3d4e8a;\n",
       "            color:  #f1f1f1;\n",
       "        }#T_9e78b_row1_col3,#T_9e78b_row2_col11,#T_9e78b_row3_col1,#T_9e78b_row7_col6,#T_9e78b_row11_col10,#T_9e78b_row22_col3,#T_9e78b_row23_col8,#T_9e78b_row23_col11,#T_9e78b_row26_col10{\n",
       "            background-color:  #46085c;\n",
       "            color:  #f1f1f1;\n",
       "        }#T_9e78b_row1_col4,#T_9e78b_row4_col6,#T_9e78b_row5_col0,#T_9e78b_row11_col7{\n",
       "            background-color:  #23898e;\n",
       "            color:  #000000;\n",
       "        }#T_9e78b_row1_col5,#T_9e78b_row22_col10{\n",
       "            background-color:  #306a8e;\n",
       "            color:  #f1f1f1;\n",
       "        }#T_9e78b_row1_col6,#T_9e78b_row6_col0,#T_9e78b_row10_col2,#T_9e78b_row24_col5{\n",
       "            background-color:  #470d60;\n",
       "            color:  #f1f1f1;\n",
       "        }#T_9e78b_row1_col7{\n",
       "            background-color:  #481d6f;\n",
       "            color:  #f1f1f1;\n",
       "        }#T_9e78b_row1_col9,#T_9e78b_row6_col9{\n",
       "            background-color:  #1f948c;\n",
       "            color:  #000000;\n",
       "        }#T_9e78b_row1_col11{\n",
       "            background-color:  #31688e;\n",
       "            color:  #f1f1f1;\n",
       "        }#T_9e78b_row2_col0{\n",
       "            background-color:  #2d708e;\n",
       "            color:  #f1f1f1;\n",
       "        }#T_9e78b_row2_col1,#T_9e78b_row11_col6,#T_9e78b_row25_col3,#T_9e78b_row27_col7{\n",
       "            background-color:  #433e85;\n",
       "            color:  #f1f1f1;\n",
       "        }#T_9e78b_row2_col3,#T_9e78b_row20_col11{\n",
       "            background-color:  #453781;\n",
       "            color:  #f1f1f1;\n",
       "        }#T_9e78b_row2_col4{\n",
       "            background-color:  #20928c;\n",
       "            color:  #000000;\n",
       "        }#T_9e78b_row2_col6,#T_9e78b_row3_col5,#T_9e78b_row3_col7,#T_9e78b_row3_col11,#T_9e78b_row4_col8{\n",
       "            background-color:  #481a6c;\n",
       "            color:  #f1f1f1;\n",
       "        }#T_9e78b_row2_col8,#T_9e78b_row9_col8,#T_9e78b_row13_col4,#T_9e78b_row14_col6,#T_9e78b_row17_col8,#T_9e78b_row24_col11{\n",
       "            background-color:  #470e61;\n",
       "            color:  #f1f1f1;\n",
       "        }#T_9e78b_row2_col9{\n",
       "            background-color:  #69cd5b;\n",
       "            color:  #000000;\n",
       "        }#T_9e78b_row2_col10,#T_9e78b_row16_col6,#T_9e78b_row19_col0,#T_9e78b_row25_col6,#T_9e78b_row28_col9{\n",
       "            background-color:  #39568c;\n",
       "            color:  #f1f1f1;\n",
       "        }#T_9e78b_row3_col0{\n",
       "            background-color:  #2a788e;\n",
       "            color:  #000000;\n",
       "        }#T_9e78b_row3_col2,#T_9e78b_row25_col2,#T_9e78b_row29_col3,#T_9e78b_row29_col9{\n",
       "            background-color:  #481f70;\n",
       "            color:  #f1f1f1;\n",
       "        }#T_9e78b_row3_col3,#T_9e78b_row6_col7,#T_9e78b_row12_col1,#T_9e78b_row14_col1,#T_9e78b_row19_col3,#T_9e78b_row20_col7,#T_9e78b_row22_col5{\n",
       "            background-color:  #46307e;\n",
       "            color:  #f1f1f1;\n",
       "        }#T_9e78b_row3_col4,#T_9e78b_row5_col2,#T_9e78b_row11_col8,#T_9e78b_row14_col10,#T_9e78b_row19_col6,#T_9e78b_row20_col3,#T_9e78b_row27_col6,#T_9e78b_row30_col2{\n",
       "            background-color:  #38588c;\n",
       "            color:  #f1f1f1;\n",
       "        }#T_9e78b_row3_col6,#T_9e78b_row24_col1{\n",
       "            background-color:  #46075a;\n",
       "            color:  #f1f1f1;\n",
       "        }#T_9e78b_row3_col8,#T_9e78b_row15_col3,#T_9e78b_row24_col2{\n",
       "            background-color:  #460b5e;\n",
       "            color:  #f1f1f1;\n",
       "        }#T_9e78b_row3_col9{\n",
       "            background-color:  #2c728e;\n",
       "            color:  #f1f1f1;\n",
       "        }#T_9e78b_row3_col10,#T_9e78b_row6_col6,#T_9e78b_row26_col6{\n",
       "            background-color:  #3b528b;\n",
       "            color:  #f1f1f1;\n",
       "        }#T_9e78b_row4_col0,#T_9e78b_row4_col3,#T_9e78b_row11_col5,#T_9e78b_row11_col11,#T_9e78b_row13_col1,#T_9e78b_row15_col8,#T_9e78b_row17_col6,#T_9e78b_row19_col9,#T_9e78b_row23_col2,#T_9e78b_row24_col7,#T_9e78b_row29_col10,#T_9e78b_row30_col4{\n",
       "            background-color:  #fde725;\n",
       "            color:  #000000;\n",
       "        }#T_9e78b_row4_col1,#T_9e78b_row10_col1,#T_9e78b_row11_col1{\n",
       "            background-color:  #450559;\n",
       "            color:  #f1f1f1;\n",
       "        }#T_9e78b_row4_col2,#T_9e78b_row12_col7,#T_9e78b_row16_col5,#T_9e78b_row22_col6,#T_9e78b_row29_col6{\n",
       "            background-color:  #472d7b;\n",
       "            color:  #f1f1f1;\n",
       "        }#T_9e78b_row4_col5,#T_9e78b_row7_col7,#T_9e78b_row24_col6{\n",
       "            background-color:  #34618d;\n",
       "            color:  #f1f1f1;\n",
       "        }#T_9e78b_row4_col7,#T_9e78b_row8_col2,#T_9e78b_row8_col7,#T_9e78b_row18_col0,#T_9e78b_row23_col7{\n",
       "            background-color:  #31668e;\n",
       "            color:  #f1f1f1;\n",
       "        }#T_9e78b_row4_col9{\n",
       "            background-color:  #34b679;\n",
       "            color:  #000000;\n",
       "        }#T_9e78b_row4_col10,#T_9e78b_row9_col5,#T_9e78b_row12_col10,#T_9e78b_row18_col1,#T_9e78b_row25_col11,#T_9e78b_row28_col3{\n",
       "            background-color:  #460a5d;\n",
       "            color:  #f1f1f1;\n",
       "        }#T_9e78b_row4_col11,#T_9e78b_row11_col4{\n",
       "            background-color:  #29af7f;\n",
       "            color:  #000000;\n",
       "        }#T_9e78b_row5_col1,#T_9e78b_row21_col6{\n",
       "            background-color:  #472f7d;\n",
       "            color:  #f1f1f1;\n",
       "        }#T_9e78b_row5_col4,#T_9e78b_row10_col8,#T_9e78b_row13_col0,#T_9e78b_row22_col11,#T_9e78b_row26_col7{\n",
       "            background-color:  #481467;\n",
       "            color:  #f1f1f1;\n",
       "        }#T_9e78b_row5_col5,#T_9e78b_row19_col1,#T_9e78b_row21_col5{\n",
       "            background-color:  #443a83;\n",
       "            color:  #f1f1f1;\n",
       "        }#T_9e78b_row5_col6,#T_9e78b_row13_col2,#T_9e78b_row30_col7{\n",
       "            background-color:  #3e4a89;\n",
       "            color:  #f1f1f1;\n",
       "        }#T_9e78b_row5_col7,#T_9e78b_row18_col2,#T_9e78b_row21_col9{\n",
       "            background-color:  #482878;\n",
       "            color:  #f1f1f1;\n",
       "        }#T_9e78b_row5_col9{\n",
       "            background-color:  #2a768e;\n",
       "            color:  #f1f1f1;\n",
       "        }#T_9e78b_row5_col10{\n",
       "            background-color:  #471365;\n",
       "            color:  #f1f1f1;\n",
       "        }#T_9e78b_row5_col11{\n",
       "            background-color:  #bade28;\n",
       "            color:  #000000;\n",
       "        }#T_9e78b_row6_col1,#T_9e78b_row8_col10,#T_9e78b_row16_col1,#T_9e78b_row17_col11,#T_9e78b_row21_col4,#T_9e78b_row22_col9{\n",
       "            background-color:  #453581;\n",
       "            color:  #f1f1f1;\n",
       "        }#T_9e78b_row6_col2,#T_9e78b_row26_col2{\n",
       "            background-color:  #1f9a8a;\n",
       "            color:  #000000;\n",
       "        }#T_9e78b_row6_col3{\n",
       "            background-color:  #21908d;\n",
       "            color:  #000000;\n",
       "        }#T_9e78b_row6_col5,#T_9e78b_row18_col8{\n",
       "            background-color:  #3e4989;\n",
       "            color:  #f1f1f1;\n",
       "        }#T_9e78b_row6_col8,#T_9e78b_row20_col1,#T_9e78b_row28_col11{\n",
       "            background-color:  #3a548c;\n",
       "            color:  #f1f1f1;\n",
       "        }#T_9e78b_row6_col10,#T_9e78b_row10_col10,#T_9e78b_row10_col11,#T_9e78b_row16_col11{\n",
       "            background-color:  #472e7c;\n",
       "            color:  #f1f1f1;\n",
       "        }#T_9e78b_row6_col11{\n",
       "            background-color:  #27ad81;\n",
       "            color:  #000000;\n",
       "        }#T_9e78b_row7_col0,#T_9e78b_row21_col8,#T_9e78b_row23_col1,#T_9e78b_row29_col7{\n",
       "            background-color:  #443983;\n",
       "            color:  #f1f1f1;\n",
       "        }#T_9e78b_row7_col1{\n",
       "            background-color:  #482576;\n",
       "            color:  #f1f1f1;\n",
       "        }#T_9e78b_row7_col2,#T_9e78b_row24_col0{\n",
       "            background-color:  #355e8d;\n",
       "            color:  #f1f1f1;\n",
       "        }#T_9e78b_row7_col3,#T_9e78b_row8_col6{\n",
       "            background-color:  #471063;\n",
       "            color:  #f1f1f1;\n",
       "        }#T_9e78b_row7_col4{\n",
       "            background-color:  #228c8d;\n",
       "            color:  #000000;\n",
       "        }#T_9e78b_row7_col5,#T_9e78b_row9_col3,#T_9e78b_row13_col3{\n",
       "            background-color:  #443b84;\n",
       "            color:  #f1f1f1;\n",
       "        }#T_9e78b_row7_col8,#T_9e78b_row19_col5,#T_9e78b_row26_col8{\n",
       "            background-color:  #33638d;\n",
       "            color:  #f1f1f1;\n",
       "        }#T_9e78b_row7_col9,#T_9e78b_row26_col11{\n",
       "            background-color:  #481769;\n",
       "            color:  #f1f1f1;\n",
       "        }#T_9e78b_row7_col10{\n",
       "            background-color:  #277f8e;\n",
       "            color:  #000000;\n",
       "        }#T_9e78b_row7_col11,#T_9e78b_row21_col2,#T_9e78b_row30_col9{\n",
       "            background-color:  #1f978b;\n",
       "            color:  #000000;\n",
       "        }#T_9e78b_row8_col0{\n",
       "            background-color:  #67cc5c;\n",
       "            color:  #000000;\n",
       "        }#T_9e78b_row8_col1{\n",
       "            background-color:  #3e4c8a;\n",
       "            color:  #f1f1f1;\n",
       "        }#T_9e78b_row8_col3,#T_9e78b_row24_col8{\n",
       "            background-color:  #471164;\n",
       "            color:  #f1f1f1;\n",
       "        }#T_9e78b_row8_col4,#T_9e78b_row10_col9{\n",
       "            background-color:  #40bd72;\n",
       "            color:  #000000;\n",
       "        }#T_9e78b_row8_col5,#T_9e78b_row14_col8{\n",
       "            background-color:  #365d8d;\n",
       "            color:  #f1f1f1;\n",
       "        }#T_9e78b_row8_col9{\n",
       "            background-color:  #3f4889;\n",
       "            color:  #f1f1f1;\n",
       "        }#T_9e78b_row8_col11{\n",
       "            background-color:  #1fa287;\n",
       "            color:  #000000;\n",
       "        }#T_9e78b_row9_col0,#T_9e78b_row26_col9{\n",
       "            background-color:  #32b67a;\n",
       "            color:  #000000;\n",
       "        }#T_9e78b_row9_col1,#T_9e78b_row12_col3,#T_9e78b_row13_col7{\n",
       "            background-color:  #414287;\n",
       "            color:  #f1f1f1;\n",
       "        }#T_9e78b_row9_col2,#T_9e78b_row16_col0,#T_9e78b_row25_col4{\n",
       "            background-color:  #2b758e;\n",
       "            color:  #f1f1f1;\n",
       "        }#T_9e78b_row9_col4,#T_9e78b_row16_col10{\n",
       "            background-color:  #1f958b;\n",
       "            color:  #000000;\n",
       "        }#T_9e78b_row9_col6{\n",
       "            background-color:  #38598c;\n",
       "            color:  #f1f1f1;\n",
       "        }#T_9e78b_row9_col7{\n",
       "            background-color:  #3b518b;\n",
       "            color:  #f1f1f1;\n",
       "        }#T_9e78b_row9_col9,#T_9e78b_row23_col9{\n",
       "            background-color:  #20938c;\n",
       "            color:  #000000;\n",
       "        }#T_9e78b_row9_col10,#T_9e78b_row28_col0{\n",
       "            background-color:  #375a8c;\n",
       "            color:  #f1f1f1;\n",
       "        }#T_9e78b_row9_col11,#T_9e78b_row22_col1,#T_9e78b_row29_col8{\n",
       "            background-color:  #472a7a;\n",
       "            color:  #f1f1f1;\n",
       "        }#T_9e78b_row10_col0,#T_9e78b_row21_col0{\n",
       "            background-color:  #46337f;\n",
       "            color:  #f1f1f1;\n",
       "        }#T_9e78b_row10_col4{\n",
       "            background-color:  #2c738e;\n",
       "            color:  #f1f1f1;\n",
       "        }#T_9e78b_row10_col6,#T_9e78b_row13_col8,#T_9e78b_row14_col4,#T_9e78b_row16_col3,#T_9e78b_row22_col0{\n",
       "            background-color:  #33628d;\n",
       "            color:  #f1f1f1;\n",
       "        }#T_9e78b_row10_col7{\n",
       "            background-color:  #27808e;\n",
       "            color:  #000000;\n",
       "        }#T_9e78b_row11_col0{\n",
       "            background-color:  #24868e;\n",
       "            color:  #000000;\n",
       "        }#T_9e78b_row11_col3,#T_9e78b_row26_col1{\n",
       "            background-color:  #472c7a;\n",
       "            color:  #f1f1f1;\n",
       "        }#T_9e78b_row11_col9{\n",
       "            background-color:  #2eb37c;\n",
       "            color:  #000000;\n",
       "        }#T_9e78b_row12_col0,#T_9e78b_row18_col6,#T_9e78b_row29_col2{\n",
       "            background-color:  #2e6d8e;\n",
       "            color:  #f1f1f1;\n",
       "        }#T_9e78b_row12_col2,#T_9e78b_row22_col4{\n",
       "            background-color:  #297b8e;\n",
       "            color:  #000000;\n",
       "        }#T_9e78b_row12_col4,#T_9e78b_row19_col7,#T_9e78b_row21_col11{\n",
       "            background-color:  #424086;\n",
       "            color:  #f1f1f1;\n",
       "        }#T_9e78b_row12_col5,#T_9e78b_row15_col5,#T_9e78b_row23_col4{\n",
       "            background-color:  #25838e;\n",
       "            color:  #000000;\n",
       "        }#T_9e78b_row12_col6,#T_9e78b_row17_col7{\n",
       "            background-color:  #2e6e8e;\n",
       "            color:  #f1f1f1;\n",
       "        }#T_9e78b_row12_col8,#T_9e78b_row20_col10{\n",
       "            background-color:  #3c4f8a;\n",
       "            color:  #f1f1f1;\n",
       "        }#T_9e78b_row12_col9{\n",
       "            background-color:  #1fa188;\n",
       "            color:  #000000;\n",
       "        }#T_9e78b_row12_col11,#T_9e78b_row13_col9{\n",
       "            background-color:  #3dbc74;\n",
       "            color:  #000000;\n",
       "        }#T_9e78b_row13_col5{\n",
       "            background-color:  #4ac16d;\n",
       "            color:  #000000;\n",
       "        }#T_9e78b_row13_col6,#T_9e78b_row13_col10,#T_9e78b_row19_col8{\n",
       "            background-color:  #3c508b;\n",
       "            color:  #f1f1f1;\n",
       "        }#T_9e78b_row14_col2{\n",
       "            background-color:  #1fa088;\n",
       "            color:  #000000;\n",
       "        }#T_9e78b_row14_col5{\n",
       "            background-color:  #23888e;\n",
       "            color:  #000000;\n",
       "        }#T_9e78b_row14_col7{\n",
       "            background-color:  #2e6f8e;\n",
       "            color:  #f1f1f1;\n",
       "        }#T_9e78b_row14_col11,#T_9e78b_row27_col9{\n",
       "            background-color:  #63cb5f;\n",
       "            color:  #000000;\n",
       "        }#T_9e78b_row15_col0{\n",
       "            background-color:  #34608d;\n",
       "            color:  #f1f1f1;\n",
       "        }#T_9e78b_row15_col1{\n",
       "            background-color:  #3d4d8a;\n",
       "            color:  #f1f1f1;\n",
       "        }#T_9e78b_row15_col4{\n",
       "            background-color:  #1e9c89;\n",
       "            color:  #000000;\n",
       "        }#T_9e78b_row15_col7{\n",
       "            background-color:  #30698e;\n",
       "            color:  #f1f1f1;\n",
       "        }#T_9e78b_row15_col9,#T_9e78b_row18_col7,#T_9e78b_row24_col4,#T_9e78b_row27_col11{\n",
       "            background-color:  #414487;\n",
       "            color:  #f1f1f1;\n",
       "        }#T_9e78b_row15_col11,#T_9e78b_row23_col0{\n",
       "            background-color:  #1e9b8a;\n",
       "            color:  #000000;\n",
       "        }#T_9e78b_row16_col4{\n",
       "            background-color:  #277e8e;\n",
       "            color:  #000000;\n",
       "        }#T_9e78b_row16_col7,#T_9e78b_row25_col0{\n",
       "            background-color:  #287c8e;\n",
       "            color:  #000000;\n",
       "        }#T_9e78b_row16_col9{\n",
       "            background-color:  #81d34d;\n",
       "            color:  #000000;\n",
       "        }#T_9e78b_row17_col0{\n",
       "            background-color:  #70cf57;\n",
       "            color:  #000000;\n",
       "        }#T_9e78b_row17_col3,#T_9e78b_row18_col4,#T_9e78b_row26_col0,#T_9e78b_row29_col0{\n",
       "            background-color:  #29798e;\n",
       "            color:  #000000;\n",
       "        }#T_9e78b_row17_col4{\n",
       "            background-color:  #32658e;\n",
       "            color:  #f1f1f1;\n",
       "        }#T_9e78b_row17_col5,#T_9e78b_row21_col1,#T_9e78b_row21_col10,#T_9e78b_row27_col3{\n",
       "            background-color:  #463480;\n",
       "            color:  #f1f1f1;\n",
       "        }#T_9e78b_row17_col9{\n",
       "            background-color:  #eae51a;\n",
       "            color:  #000000;\n",
       "        }#T_9e78b_row17_col10,#T_9e78b_row27_col8,#T_9e78b_row29_col5{\n",
       "            background-color:  #355f8d;\n",
       "            color:  #f1f1f1;\n",
       "        }#T_9e78b_row18_col5{\n",
       "            background-color:  #48c16e;\n",
       "            color:  #000000;\n",
       "        }#T_9e78b_row18_col9{\n",
       "            background-color:  #f1e51d;\n",
       "            color:  #000000;\n",
       "        }#T_9e78b_row18_col10,#T_9e78b_row25_col1{\n",
       "            background-color:  #450457;\n",
       "            color:  #f1f1f1;\n",
       "        }#T_9e78b_row18_col11{\n",
       "            background-color:  #26828e;\n",
       "            color:  #000000;\n",
       "        }#T_9e78b_row19_col2{\n",
       "            background-color:  #21a685;\n",
       "            color:  #000000;\n",
       "        }#T_9e78b_row19_col4,#T_9e78b_row20_col4{\n",
       "            background-color:  #48186a;\n",
       "            color:  #f1f1f1;\n",
       "        }#T_9e78b_row19_col11{\n",
       "            background-color:  #26ad81;\n",
       "            color:  #000000;\n",
       "        }#T_9e78b_row20_col2{\n",
       "            background-color:  #24878e;\n",
       "            color:  #000000;\n",
       "        }#T_9e78b_row20_col5{\n",
       "            background-color:  #35b779;\n",
       "            color:  #000000;\n",
       "        }#T_9e78b_row20_col8{\n",
       "            background-color:  #423f85;\n",
       "            color:  #f1f1f1;\n",
       "        }#T_9e78b_row20_col9{\n",
       "            background-color:  #21a585;\n",
       "            color:  #000000;\n",
       "        }#T_9e78b_row21_col7{\n",
       "            background-color:  #28ae80;\n",
       "            color:  #000000;\n",
       "        }#T_9e78b_row22_col2{\n",
       "            background-color:  #89d548;\n",
       "            color:  #000000;\n",
       "        }#T_9e78b_row22_col7,#T_9e78b_row27_col10{\n",
       "            background-color:  #1f9f88;\n",
       "            color:  #000000;\n",
       "        }#T_9e78b_row22_col8,#T_9e78b_row26_col4{\n",
       "            background-color:  #482071;\n",
       "            color:  #f1f1f1;\n",
       "        }#T_9e78b_row23_col3{\n",
       "            background-color:  #481c6e;\n",
       "            color:  #f1f1f1;\n",
       "        }#T_9e78b_row23_col6{\n",
       "            background-color:  #3a538b;\n",
       "            color:  #f1f1f1;\n",
       "        }#T_9e78b_row23_col10{\n",
       "            background-color:  #481b6d;\n",
       "            color:  #f1f1f1;\n",
       "        }#T_9e78b_row24_col9{\n",
       "            background-color:  #46327e;\n",
       "            color:  #f1f1f1;\n",
       "        }#T_9e78b_row24_col10{\n",
       "            background-color:  #424186;\n",
       "            color:  #f1f1f1;\n",
       "        }#T_9e78b_row25_col7,#T_9e78b_row26_col5{\n",
       "            background-color:  #365c8d;\n",
       "            color:  #f1f1f1;\n",
       "        }#T_9e78b_row25_col9{\n",
       "            background-color:  #2fb47c;\n",
       "            color:  #000000;\n",
       "        }#T_9e78b_row25_col10,#T_9e78b_row27_col1{\n",
       "            background-color:  #433d84;\n",
       "            color:  #f1f1f1;\n",
       "        }#T_9e78b_row26_col3{\n",
       "            background-color:  #25ac82;\n",
       "            color:  #000000;\n",
       "        }#T_9e78b_row27_col2{\n",
       "            background-color:  #5cc863;\n",
       "            color:  #000000;\n",
       "        }#T_9e78b_row27_col5{\n",
       "            background-color:  #46c06f;\n",
       "            color:  #000000;\n",
       "        }#T_9e78b_row28_col1,#T_9e78b_row29_col1,#T_9e78b_row30_col1,#T_9e78b_row30_col3,#T_9e78b_row30_col5,#T_9e78b_row30_col8,#T_9e78b_row30_col10{\n",
       "            background-color:  #000000;\n",
       "            color:  #f1f1f1;\n",
       "        }#T_9e78b_row28_col2,#T_9e78b_row29_col4{\n",
       "            background-color:  #1f988b;\n",
       "            color:  #000000;\n",
       "        }#T_9e78b_row28_col4{\n",
       "            background-color:  #482173;\n",
       "            color:  #f1f1f1;\n",
       "        }#T_9e78b_row28_col5{\n",
       "            background-color:  #2f6b8e;\n",
       "            color:  #f1f1f1;\n",
       "        }#T_9e78b_row28_col7{\n",
       "            background-color:  #2b748e;\n",
       "            color:  #f1f1f1;\n",
       "        }#T_9e78b_row30_col0{\n",
       "            background-color:  #a2da37;\n",
       "            color:  #000000;\n",
       "        }#T_9e78b_row30_col6{\n",
       "            background-color:  #37b878;\n",
       "            color:  #000000;\n",
       "        }</style><table id=\"T_9e78b_\" ><thead>    <tr>        <th class=\"index_name level0\" >month</th>        <th class=\"col_heading level0 col0\" >1</th>        <th class=\"col_heading level0 col1\" >2</th>        <th class=\"col_heading level0 col2\" >3</th>        <th class=\"col_heading level0 col3\" >4</th>        <th class=\"col_heading level0 col4\" >5</th>        <th class=\"col_heading level0 col5\" >6</th>        <th class=\"col_heading level0 col6\" >7</th>        <th class=\"col_heading level0 col7\" >8</th>        <th class=\"col_heading level0 col8\" >9</th>        <th class=\"col_heading level0 col9\" >10</th>        <th class=\"col_heading level0 col10\" >11</th>        <th class=\"col_heading level0 col11\" >12</th>    </tr>    <tr>        <th class=\"index_name level0\" >day</th>        <th class=\"blank\" ></th>        <th class=\"blank\" ></th>        <th class=\"blank\" ></th>        <th class=\"blank\" ></th>        <th class=\"blank\" ></th>        <th class=\"blank\" ></th>        <th class=\"blank\" ></th>        <th class=\"blank\" ></th>        <th class=\"blank\" ></th>        <th class=\"blank\" ></th>        <th class=\"blank\" ></th>        <th class=\"blank\" ></th>    </tr></thead><tbody>\n",
       "                <tr>\n",
       "                        <th id=\"T_9e78b_level0_row0\" class=\"row_heading level0 row0\" >1</th>\n",
       "                        <td id=\"T_9e78b_row0_col0\" class=\"data row0 col0\" >927.010000</td>\n",
       "                        <td id=\"T_9e78b_row0_col1\" class=\"data row0 col1\" >5272.760000</td>\n",
       "                        <td id=\"T_9e78b_row0_col2\" class=\"data row0 col2\" >4236.330000</td>\n",
       "                        <td id=\"T_9e78b_row0_col3\" class=\"data row0 col3\" >382.060000</td>\n",
       "                        <td id=\"T_9e78b_row0_col4\" class=\"data row0 col4\" >7126.080000</td>\n",
       "                        <td id=\"T_9e78b_row0_col5\" class=\"data row0 col5\" >2891.730000</td>\n",
       "                        <td id=\"T_9e78b_row0_col6\" class=\"data row0 col6\" >84.540000</td>\n",
       "                        <td id=\"T_9e78b_row0_col7\" class=\"data row0 col7\" >14421.000000</td>\n",
       "                        <td id=\"T_9e78b_row0_col8\" class=\"data row0 col8\" >5852.330000</td>\n",
       "                        <td id=\"T_9e78b_row0_col9\" class=\"data row0 col9\" >770.720000</td>\n",
       "                        <td id=\"T_9e78b_row0_col10\" class=\"data row0 col10\" >5635.720000</td>\n",
       "                        <td id=\"T_9e78b_row0_col11\" class=\"data row0 col11\" >5116.250000</td>\n",
       "            </tr>\n",
       "            <tr>\n",
       "                        <th id=\"T_9e78b_level0_row1\" class=\"row_heading level0 row1\" >2</th>\n",
       "                        <td id=\"T_9e78b_row1_col0\" class=\"data row1 col0\" >946.600000</td>\n",
       "                        <td id=\"T_9e78b_row1_col1\" class=\"data row1 col1\" >3015.800000</td>\n",
       "                        <td id=\"T_9e78b_row1_col2\" class=\"data row1 col2\" >3071.540000</td>\n",
       "                        <td id=\"T_9e78b_row1_col3\" class=\"data row1 col3\" >918.040000</td>\n",
       "                        <td id=\"T_9e78b_row1_col4\" class=\"data row1 col4\" >5048.240000</td>\n",
       "                        <td id=\"T_9e78b_row1_col5\" class=\"data row1 col5\" >4512.870000</td>\n",
       "                        <td id=\"T_9e78b_row1_col6\" class=\"data row1 col6\" >634.990000</td>\n",
       "                        <td id=\"T_9e78b_row1_col7\" class=\"data row1 col7\" >1361.190000</td>\n",
       "                        <td id=\"T_9e78b_row1_col8\" class=\"data row1 col8\" >4322.440000</td>\n",
       "                        <td id=\"T_9e78b_row1_col9\" class=\"data row1 col9\" >3859.400000</td>\n",
       "                        <td id=\"T_9e78b_row1_col10\" class=\"data row1 col10\" >5092.710000</td>\n",
       "                        <td id=\"T_9e78b_row1_col11\" class=\"data row1 col11\" >5121.380000</td>\n",
       "            </tr>\n",
       "            <tr>\n",
       "                        <th id=\"T_9e78b_level0_row2\" class=\"row_heading level0 row2\" >3</th>\n",
       "                        <td id=\"T_9e78b_row2_col0\" class=\"data row2 col0\" >3264.780000</td>\n",
       "                        <td id=\"T_9e78b_row2_col1\" class=\"data row2 col1\" >4583.980000</td>\n",
       "                        <td id=\"T_9e78b_row2_col2\" class=\"data row2 col2\" >2805.090000</td>\n",
       "                        <td id=\"T_9e78b_row2_col3\" class=\"data row2 col3\" >4542.420000</td>\n",
       "                        <td id=\"T_9e78b_row2_col4\" class=\"data row2 col4\" >5394.060000</td>\n",
       "                        <td id=\"T_9e78b_row2_col5\" class=\"data row2 col5\" >1578.530000</td>\n",
       "                        <td id=\"T_9e78b_row2_col6\" class=\"data row2 col6\" >1225.810000</td>\n",
       "                        <td id=\"T_9e78b_row2_col7\" class=\"data row2 col7\" >0.000000</td>\n",
       "                        <td id=\"T_9e78b_row2_col8\" class=\"data row2 col8\" >912.030000</td>\n",
       "                        <td id=\"T_9e78b_row2_col9\" class=\"data row2 col9\" >5553.500000</td>\n",
       "                        <td id=\"T_9e78b_row2_col10\" class=\"data row2 col10\" >4327.540000</td>\n",
       "                        <td id=\"T_9e78b_row2_col11\" class=\"data row2 col11\" >986.840000</td>\n",
       "            </tr>\n",
       "            <tr>\n",
       "                        <th id=\"T_9e78b_level0_row3\" class=\"row_heading level0 row3\" >4</th>\n",
       "                        <td id=\"T_9e78b_row3_col0\" class=\"data row3 col0\" >3606.170000</td>\n",
       "                        <td id=\"T_9e78b_row3_col1\" class=\"data row3 col1\" >961.330000</td>\n",
       "                        <td id=\"T_9e78b_row3_col2\" class=\"data row3 col2\" >1453.770000</td>\n",
       "                        <td id=\"T_9e78b_row3_col3\" class=\"data row3 col3\" >4020.930000</td>\n",
       "                        <td id=\"T_9e78b_row3_col4\" class=\"data row3 col4\" >3056.670000</td>\n",
       "                        <td id=\"T_9e78b_row3_col5\" class=\"data row3 col5\" >1193.600000</td>\n",
       "                        <td id=\"T_9e78b_row3_col6\" class=\"data row3 col6\" >379.980000</td>\n",
       "                        <td id=\"T_9e78b_row3_col7\" class=\"data row3 col7\" >1182.890000</td>\n",
       "                        <td id=\"T_9e78b_row3_col8\" class=\"data row3 col8\" >738.470000</td>\n",
       "                        <td id=\"T_9e78b_row3_col9\" class=\"data row3 col9\" >2921.480000</td>\n",
       "                        <td id=\"T_9e78b_row3_col10\" class=\"data row3 col10\" >4109.380000</td>\n",
       "                        <td id=\"T_9e78b_row3_col11\" class=\"data row3 col11\" >1629.980000</td>\n",
       "            </tr>\n",
       "            <tr>\n",
       "                        <th id=\"T_9e78b_level0_row4\" class=\"row_heading level0 row4\" >5</th>\n",
       "                        <td id=\"T_9e78b_row4_col0\" class=\"data row4 col0\" >8859.970000</td>\n",
       "                        <td id=\"T_9e78b_row4_col1\" class=\"data row4 col1\" >762.640000</td>\n",
       "                        <td id=\"T_9e78b_row4_col2\" class=\"data row4 col2\" >1907.050000</td>\n",
       "                        <td id=\"T_9e78b_row4_col3\" class=\"data row4 col3\" >27150.610000</td>\n",
       "                        <td id=\"T_9e78b_row4_col4\" class=\"data row4 col4\" >7099.860000</td>\n",
       "                        <td id=\"T_9e78b_row4_col5\" class=\"data row4 col5\" >4093.650000</td>\n",
       "                        <td id=\"T_9e78b_row4_col6\" class=\"data row4 col6\" >8029.360000</td>\n",
       "                        <td id=\"T_9e78b_row4_col7\" class=\"data row4 col7\" >5594.260000</td>\n",
       "                        <td id=\"T_9e78b_row4_col8\" class=\"data row4 col8\" >1565.800000</td>\n",
       "                        <td id=\"T_9e78b_row4_col9\" class=\"data row4 col9\" >4829.020000</td>\n",
       "                        <td id=\"T_9e78b_row4_col10\" class=\"data row4 col10\" >1153.610000</td>\n",
       "                        <td id=\"T_9e78b_row4_col11\" class=\"data row4 col11\" >9109.000000</td>\n",
       "            </tr>\n",
       "            <tr>\n",
       "                        <th id=\"T_9e78b_level0_row5\" class=\"row_heading level0 row5\" >6</th>\n",
       "                        <td id=\"T_9e78b_row5_col0\" class=\"data row5 col0\" >4191.240000</td>\n",
       "                        <td id=\"T_9e78b_row5_col1\" class=\"data row5 col1\" >3509.290000</td>\n",
       "                        <td id=\"T_9e78b_row5_col2\" class=\"data row5 col2\" >3433.990000</td>\n",
       "                        <td id=\"T_9e78b_row5_col3\" class=\"data row5 col3\" >5863.490000</td>\n",
       "                        <td id=\"T_9e78b_row5_col4\" class=\"data row5 col4\" >823.360000</td>\n",
       "                        <td id=\"T_9e78b_row5_col5\" class=\"data row5 col5\" >2443.830000</td>\n",
       "                        <td id=\"T_9e78b_row5_col6\" class=\"data row5 col6\" >3883.850000</td>\n",
       "                        <td id=\"T_9e78b_row5_col7\" class=\"data row5 col7\" >1891.040000</td>\n",
       "                        <td id=\"T_9e78b_row5_col8\" class=\"data row5 col8\" >4418.670000</td>\n",
       "                        <td id=\"T_9e78b_row5_col9\" class=\"data row5 col9\" >3019.450000</td>\n",
       "                        <td id=\"T_9e78b_row5_col10\" class=\"data row5 col10\" >1452.380000</td>\n",
       "                        <td id=\"T_9e78b_row5_col11\" class=\"data row5 col11\" >12645.280000</td>\n",
       "            </tr>\n",
       "            <tr>\n",
       "                        <th id=\"T_9e78b_level0_row6\" class=\"row_heading level0 row6\" >7</th>\n",
       "                        <td id=\"T_9e78b_row6_col0\" class=\"data row6 col0\" >357.270000</td>\n",
       "                        <td id=\"T_9e78b_row6_col1\" class=\"data row6 col1\" >3883.870000</td>\n",
       "                        <td id=\"T_9e78b_row6_col2\" class=\"data row6 col2\" >6277.620000</td>\n",
       "                        <td id=\"T_9e78b_row6_col3\" class=\"data row6 col3\" >13701.410000</td>\n",
       "                        <td id=\"T_9e78b_row6_col4\" class=\"data row6 col4\" >1270.520000</td>\n",
       "                        <td id=\"T_9e78b_row6_col5\" class=\"data row6 col5\" >3066.320000</td>\n",
       "                        <td id=\"T_9e78b_row6_col6\" class=\"data row6 col6\" >4339.020000</td>\n",
       "                        <td id=\"T_9e78b_row6_col7\" class=\"data row6 col7\" >2410.730000</td>\n",
       "                        <td id=\"T_9e78b_row6_col8\" class=\"data row6 col8\" >5407.630000</td>\n",
       "                        <td id=\"T_9e78b_row6_col9\" class=\"data row6 col9\" >3851.680000</td>\n",
       "                        <td id=\"T_9e78b_row6_col10\" class=\"data row6 col10\" >2533.770000</td>\n",
       "                        <td id=\"T_9e78b_row6_col11\" class=\"data row6 col11\" >9016.360000</td>\n",
       "            </tr>\n",
       "            <tr>\n",
       "                        <th id=\"T_9e78b_level0_row7\" class=\"row_heading level0 row7\" >8</th>\n",
       "                        <td id=\"T_9e78b_row7_col0\" class=\"data row7 col0\" >1538.300000</td>\n",
       "                        <td id=\"T_9e78b_row7_col1\" class=\"data row7 col1\" >2734.380000</td>\n",
       "                        <td id=\"T_9e78b_row7_col2\" class=\"data row7 col2\" >3658.750000</td>\n",
       "                        <td id=\"T_9e78b_row7_col3\" class=\"data row7 col3\" >1348.950000</td>\n",
       "                        <td id=\"T_9e78b_row7_col4\" class=\"data row7 col4\" >5167.570000</td>\n",
       "                        <td id=\"T_9e78b_row7_col5\" class=\"data row7 col5\" >2502.840000</td>\n",
       "                        <td id=\"T_9e78b_row7_col6\" class=\"data row7 col6\" >454.960000</td>\n",
       "                        <td id=\"T_9e78b_row7_col7\" class=\"data row7 col7\" >5273.810000</td>\n",
       "                        <td id=\"T_9e78b_row7_col8\" class=\"data row7 col8\" >6468.400000</td>\n",
       "                        <td id=\"T_9e78b_row7_col9\" class=\"data row7 col9\" >803.480000</td>\n",
       "                        <td id=\"T_9e78b_row7_col10\" class=\"data row7 col10\" >6380.020000</td>\n",
       "                        <td id=\"T_9e78b_row7_col11\" class=\"data row7 col11\" >7753.380000</td>\n",
       "            </tr>\n",
       "            <tr>\n",
       "                        <th id=\"T_9e78b_level0_row8\" class=\"row_heading level0 row8\" >9</th>\n",
       "                        <td id=\"T_9e78b_row8_col0\" class=\"data row8 col0\" >6825.520000</td>\n",
       "                        <td id=\"T_9e78b_row8_col1\" class=\"data row8 col1\" >5593.150000</td>\n",
       "                        <td id=\"T_9e78b_row8_col2\" class=\"data row8 col2\" >3994.590000</td>\n",
       "                        <td id=\"T_9e78b_row8_col3\" class=\"data row8 col3\" >1488.760000</td>\n",
       "                        <td id=\"T_9e78b_row8_col4\" class=\"data row8 col4\" >7329.010000</td>\n",
       "                        <td id=\"T_9e78b_row8_col5\" class=\"data row8 col5\" >3910.070000</td>\n",
       "                        <td id=\"T_9e78b_row8_col6\" class=\"data row8 col6\" >751.100000</td>\n",
       "                        <td id=\"T_9e78b_row8_col7\" class=\"data row8 col7\" >5596.400000</td>\n",
       "                        <td id=\"T_9e78b_row8_col8\" class=\"data row8 col8\" >4443.980000</td>\n",
       "                        <td id=\"T_9e78b_row8_col9\" class=\"data row8 col9\" >1854.150000</td>\n",
       "                        <td id=\"T_9e78b_row8_col10\" class=\"data row8 col10\" >2833.600000</td>\n",
       "                        <td id=\"T_9e78b_row8_col11\" class=\"data row8 col11\" >8364.450000</td>\n",
       "            </tr>\n",
       "            <tr>\n",
       "                        <th id=\"T_9e78b_level0_row9\" class=\"row_heading level0 row9\" >10</th>\n",
       "                        <td id=\"T_9e78b_row9_col0\" class=\"data row9 col0\" >5860.740000</td>\n",
       "                        <td id=\"T_9e78b_row9_col1\" class=\"data row9 col1\" >4885.070000</td>\n",
       "                        <td id=\"T_9e78b_row9_col2\" class=\"data row9 col2\" >4666.370000</td>\n",
       "                        <td id=\"T_9e78b_row9_col3\" class=\"data row9 col3\" >4960.610000</td>\n",
       "                        <td id=\"T_9e78b_row9_col4\" class=\"data row9 col4\" >5568.870000</td>\n",
       "                        <td id=\"T_9e78b_row9_col5\" class=\"data row9 col5\" >710.940000</td>\n",
       "                        <td id=\"T_9e78b_row9_col6\" class=\"data row9 col6\" >4718.070000</td>\n",
       "                        <td id=\"T_9e78b_row9_col7\" class=\"data row9 col7\" >4284.210000</td>\n",
       "                        <td id=\"T_9e78b_row9_col8\" class=\"data row9 col8\" >879.050000</td>\n",
       "                        <td id=\"T_9e78b_row9_col9\" class=\"data row9 col9\" >3834.260000</td>\n",
       "                        <td id=\"T_9e78b_row9_col10\" class=\"data row9 col10\" >4462.060000</td>\n",
       "                        <td id=\"T_9e78b_row9_col11\" class=\"data row9 col11\" >2269.420000</td>\n",
       "            </tr>\n",
       "            <tr>\n",
       "                        <th id=\"T_9e78b_level0_row10\" class=\"row_heading level0 row10\" >11</th>\n",
       "                        <td id=\"T_9e78b_row10_col0\" class=\"data row10 col0\" >1369.640000</td>\n",
       "                        <td id=\"T_9e78b_row10_col1\" class=\"data row10 col1\" >753.420000</td>\n",
       "                        <td id=\"T_9e78b_row10_col2\" class=\"data row10 col2\" >925.260000</td>\n",
       "                        <td id=\"T_9e78b_row10_col3\" class=\"data row10 col3\" >2933.560000</td>\n",
       "                        <td id=\"T_9e78b_row10_col4\" class=\"data row10 col4\" >4138.500000</td>\n",
       "                        <td id=\"T_9e78b_row10_col5\" class=\"data row10 col5\" >1054.710000</td>\n",
       "                        <td id=\"T_9e78b_row10_col6\" class=\"data row10 col6\" >5369.640000</td>\n",
       "                        <td id=\"T_9e78b_row10_col7\" class=\"data row10 col7\" >7427.120000</td>\n",
       "                        <td id=\"T_9e78b_row10_col8\" class=\"data row10 col8\" >1212.570000</td>\n",
       "                        <td id=\"T_9e78b_row10_col9\" class=\"data row10 col9\" >5038.230000</td>\n",
       "                        <td id=\"T_9e78b_row10_col10\" class=\"data row10 col10\" >2511.270000</td>\n",
       "                        <td id=\"T_9e78b_row10_col11\" class=\"data row10 col11\" >2435.660000</td>\n",
       "            </tr>\n",
       "            <tr>\n",
       "                        <th id=\"T_9e78b_level0_row11\" class=\"row_heading level0 row11\" >12</th>\n",
       "                        <td id=\"T_9e78b_row11_col0\" class=\"data row11 col0\" >4092.510000</td>\n",
       "                        <td id=\"T_9e78b_row11_col1\" class=\"data row11 col1\" >730.160000</td>\n",
       "                        <td id=\"T_9e78b_row11_col2\" class=\"data row11 col2\" >576.290000</td>\n",
       "                        <td id=\"T_9e78b_row11_col3\" class=\"data row11 col3\" >3628.650000</td>\n",
       "                        <td id=\"T_9e78b_row11_col4\" class=\"data row11 col4\" >6677.050000</td>\n",
       "                        <td id=\"T_9e78b_row11_col5\" class=\"data row11 col5\" >12490.020000</td>\n",
       "                        <td id=\"T_9e78b_row11_col6\" class=\"data row11 col6\" >3149.340000</td>\n",
       "                        <td id=\"T_9e78b_row11_col7\" class=\"data row11 col7\" >8091.190000</td>\n",
       "                        <td id=\"T_9e78b_row11_col8\" class=\"data row11 col8\" >5577.730000</td>\n",
       "                        <td id=\"T_9e78b_row11_col9\" class=\"data row11 col9\" >4728.220000</td>\n",
       "                        <td id=\"T_9e78b_row11_col10\" class=\"data row11 col10\" >1093.900000</td>\n",
       "                        <td id=\"T_9e78b_row11_col11\" class=\"data row11 col11\" >14009.500000</td>\n",
       "            </tr>\n",
       "            <tr>\n",
       "                        <th id=\"T_9e78b_level0_row12\" class=\"row_heading level0 row12\" >13</th>\n",
       "                        <td id=\"T_9e78b_row12_col0\" class=\"data row12 col0\" >3169.600000</td>\n",
       "                        <td id=\"T_9e78b_row12_col1\" class=\"data row12 col1\" >3533.050000</td>\n",
       "                        <td id=\"T_9e78b_row12_col2\" class=\"data row12 col2\" >4907.350000</td>\n",
       "                        <td id=\"T_9e78b_row12_col3\" class=\"data row12 col3\" >5627.720000</td>\n",
       "                        <td id=\"T_9e78b_row12_col4\" class=\"data row12 col4\" >2189.070000</td>\n",
       "                        <td id=\"T_9e78b_row12_col5\" class=\"data row12 col5\" >5802.990000</td>\n",
       "                        <td id=\"T_9e78b_row12_col6\" class=\"data row12 col6\" >6098.580000</td>\n",
       "                        <td id=\"T_9e78b_row12_col7\" class=\"data row12 col7\" >2198.710000</td>\n",
       "                        <td id=\"T_9e78b_row12_col8\" class=\"data row12 col8\" >4965.220000</td>\n",
       "                        <td id=\"T_9e78b_row12_col9\" class=\"data row12 col9\" >4191.330000</td>\n",
       "                        <td id=\"T_9e78b_row12_col10\" class=\"data row12 col10\" >1173.730000</td>\n",
       "                        <td id=\"T_9e78b_row12_col11\" class=\"data row12 col11\" >9799.630000</td>\n",
       "            </tr>\n",
       "            <tr>\n",
       "                        <th id=\"T_9e78b_level0_row13\" class=\"row_heading level0 row13\" >14</th>\n",
       "                        <td id=\"T_9e78b_row13_col0\" class=\"data row13 col0\" >532.130000</td>\n",
       "                        <td id=\"T_9e78b_row13_col1\" class=\"data row13 col1\" >23028.370000</td>\n",
       "                        <td id=\"T_9e78b_row13_col2\" class=\"data row13 col2\" >2922.360000</td>\n",
       "                        <td id=\"T_9e78b_row13_col3\" class=\"data row13 col3\" >4936.740000</td>\n",
       "                        <td id=\"T_9e78b_row13_col4\" class=\"data row13 col4\" >661.090000</td>\n",
       "                        <td id=\"T_9e78b_row13_col5\" class=\"data row13 col5\" >9009.410000</td>\n",
       "                        <td id=\"T_9e78b_row13_col6\" class=\"data row13 col6\" >4228.840000</td>\n",
       "                        <td id=\"T_9e78b_row13_col7\" class=\"data row13 col7\" >3360.510000</td>\n",
       "                        <td id=\"T_9e78b_row13_col8\" class=\"data row13 col8\" >6407.050000</td>\n",
       "                        <td id=\"T_9e78b_row13_col9\" class=\"data row13 col9\" >4991.040000</td>\n",
       "                        <td id=\"T_9e78b_row13_col10\" class=\"data row13 col10\" >4011.500000</td>\n",
       "                        <td id=\"T_9e78b_row13_col11\" class=\"data row13 col11\" >5619.770000</td>\n",
       "            </tr>\n",
       "            <tr>\n",
       "                        <th id=\"T_9e78b_level0_row14\" class=\"row_heading level0 row14\" >15</th>\n",
       "                        <td id=\"T_9e78b_row14_col0\" class=\"data row14 col0\" >98.880000</td>\n",
       "                        <td id=\"T_9e78b_row14_col1\" class=\"data row14 col1\" >3551.470000</td>\n",
       "                        <td id=\"T_9e78b_row14_col2\" class=\"data row14 col2\" >6506.230000</td>\n",
       "                        <td id=\"T_9e78b_row14_col3\" class=\"data row14 col3\" >298.280000</td>\n",
       "                        <td id=\"T_9e78b_row14_col4\" class=\"data row14 col4\" >3417.780000</td>\n",
       "                        <td id=\"T_9e78b_row14_col5\" class=\"data row14 col5\" >6041.920000</td>\n",
       "                        <td id=\"T_9e78b_row14_col6\" class=\"data row14 col6\" >740.720000</td>\n",
       "                        <td id=\"T_9e78b_row14_col7\" class=\"data row14 col7\" >6220.330000</td>\n",
       "                        <td id=\"T_9e78b_row14_col8\" class=\"data row14 col8\" >6025.660000</td>\n",
       "                        <td id=\"T_9e78b_row14_col9\" class=\"data row14 col9\" >399.560000</td>\n",
       "                        <td id=\"T_9e78b_row14_col10\" class=\"data row14 col10\" >4371.550000</td>\n",
       "                        <td id=\"T_9e78b_row14_col11\" class=\"data row14 col11\" >10837.440000</td>\n",
       "            </tr>\n",
       "            <tr>\n",
       "                        <th id=\"T_9e78b_level0_row15\" class=\"row_heading level0 row15\" >16</th>\n",
       "                        <td id=\"T_9e78b_row15_col0\" class=\"data row15 col0\" >2721.640000</td>\n",
       "                        <td id=\"T_9e78b_row15_col1\" class=\"data row15 col1\" >5678.010000</td>\n",
       "                        <td id=\"T_9e78b_row15_col2\" class=\"data row15 col2\" >4033.670000</td>\n",
       "                        <td id=\"T_9e78b_row15_col3\" class=\"data row15 col3\" >1090.790000</td>\n",
       "                        <td id=\"T_9e78b_row15_col4\" class=\"data row15 col4\" >5830.430000</td>\n",
       "                        <td id=\"T_9e78b_row15_col5\" class=\"data row15 col5\" >5793.600000</td>\n",
       "                        <td id=\"T_9e78b_row15_col6\" class=\"data row15 col6\" >1748.720000</td>\n",
       "                        <td id=\"T_9e78b_row15_col7\" class=\"data row15 col7\" >5822.290000</td>\n",
       "                        <td id=\"T_9e78b_row15_col8\" class=\"data row15 col8\" >20266.470000</td>\n",
       "                        <td id=\"T_9e78b_row15_col9\" class=\"data row15 col9\" >1735.790000</td>\n",
       "                        <td id=\"T_9e78b_row15_col10\" class=\"data row15 col10\" >5354.160000</td>\n",
       "                        <td id=\"T_9e78b_row15_col11\" class=\"data row15 col11\" >7958.120000</td>\n",
       "            </tr>\n",
       "            <tr>\n",
       "                        <th id=\"T_9e78b_level0_row16\" class=\"row_heading level0 row16\" >17</th>\n",
       "                        <td id=\"T_9e78b_row16_col0\" class=\"data row16 col0\" >3494.490000</td>\n",
       "                        <td id=\"T_9e78b_row16_col1\" class=\"data row16 col1\" >3968.080000</td>\n",
       "                        <td id=\"T_9e78b_row16_col2\" class=\"data row16 col2\" >3065.140000</td>\n",
       "                        <td id=\"T_9e78b_row16_col3\" class=\"data row16 col3\" >8590.090000</td>\n",
       "                        <td id=\"T_9e78b_row16_col4\" class=\"data row16 col4\" >4569.520000</td>\n",
       "                        <td id=\"T_9e78b_row16_col5\" class=\"data row16 col5\" >1910.580000</td>\n",
       "                        <td id=\"T_9e78b_row16_col6\" class=\"data row16 col6\" >4616.770000</td>\n",
       "                        <td id=\"T_9e78b_row16_col7\" class=\"data row16 col7\" >7124.890000</td>\n",
       "                        <td id=\"T_9e78b_row16_col8\" class=\"data row16 col8\" >155.080000</td>\n",
       "                        <td id=\"T_9e78b_row16_col9\" class=\"data row16 col9\" >5824.690000</td>\n",
       "                        <td id=\"T_9e78b_row16_col10\" class=\"data row16 col10\" >7617.230000</td>\n",
       "                        <td id=\"T_9e78b_row16_col11\" class=\"data row16 col11\" >2435.650000</td>\n",
       "            </tr>\n",
       "            <tr>\n",
       "                        <th id=\"T_9e78b_level0_row17\" class=\"row_heading level0 row17\" >18</th>\n",
       "                        <td id=\"T_9e78b_row17_col0\" class=\"data row17 col0\" >6939.110000</td>\n",
       "                        <td id=\"T_9e78b_row17_col1\" class=\"data row17 col1\" >439.890000</td>\n",
       "                        <td id=\"T_9e78b_row17_col2\" class=\"data row17 col2\" >1192.210000</td>\n",
       "                        <td id=\"T_9e78b_row17_col3\" class=\"data row17 col3\" >11112.680000</td>\n",
       "                        <td id=\"T_9e78b_row17_col4\" class=\"data row17 col4\" >3566.290000</td>\n",
       "                        <td id=\"T_9e78b_row17_col5\" class=\"data row17 col5\" >2208.500000</td>\n",
       "                        <td id=\"T_9e78b_row17_col6\" class=\"data row17 col6\" >17002.960000</td>\n",
       "                        <td id=\"T_9e78b_row17_col7\" class=\"data row17 col7\" >6130.610000</td>\n",
       "                        <td id=\"T_9e78b_row17_col8\" class=\"data row17 col8\" >892.360000</td>\n",
       "                        <td id=\"T_9e78b_row17_col9\" class=\"data row17 col9\" >6864.080000</td>\n",
       "                        <td id=\"T_9e78b_row17_col10\" class=\"data row17 col10\" >4694.710000</td>\n",
       "                        <td id=\"T_9e78b_row17_col11\" class=\"data row17 col11\" >2754.030000</td>\n",
       "            </tr>\n",
       "            <tr>\n",
       "                        <th id=\"T_9e78b_level0_row18\" class=\"row_heading level0 row18\" >19</th>\n",
       "                        <td id=\"T_9e78b_row18_col0\" class=\"data row18 col0\" >2929.970000</td>\n",
       "                        <td id=\"T_9e78b_row18_col1\" class=\"data row18 col1\" >1051.690000</td>\n",
       "                        <td id=\"T_9e78b_row18_col2\" class=\"data row18 col2\" >1750.730000</td>\n",
       "                        <td id=\"T_9e78b_row18_col3\" class=\"data row18 col3\" >6605.100000</td>\n",
       "                        <td id=\"T_9e78b_row18_col4\" class=\"data row18 col4\" >4377.220000</td>\n",
       "                        <td id=\"T_9e78b_row18_col5\" class=\"data row18 col5\" >8976.590000</td>\n",
       "                        <td id=\"T_9e78b_row18_col6\" class=\"data row18 col6\" >6038.300000</td>\n",
       "                        <td id=\"T_9e78b_row18_col7\" class=\"data row18 col7\" >3467.300000</td>\n",
       "                        <td id=\"T_9e78b_row18_col8\" class=\"data row18 col8\" >4596.550000</td>\n",
       "                        <td id=\"T_9e78b_row18_col9\" class=\"data row18 col9\" >6948.650000</td>\n",
       "                        <td id=\"T_9e78b_row18_col10\" class=\"data row18 col10\" >965.990000</td>\n",
       "                        <td id=\"T_9e78b_row18_col11\" class=\"data row18 col11\" >6568.450000</td>\n",
       "            </tr>\n",
       "            <tr>\n",
       "                        <th id=\"T_9e78b_level0_row19\" class=\"row_heading level0 row19\" >20</th>\n",
       "                        <td id=\"T_9e78b_row19_col0\" class=\"data row19 col0\" >2422.590000</td>\n",
       "                        <td id=\"T_9e78b_row19_col1\" class=\"data row19 col1\" >4251.430000</td>\n",
       "                        <td id=\"T_9e78b_row19_col2\" class=\"data row19 col2\" >6811.400000</td>\n",
       "                        <td id=\"T_9e78b_row19_col3\" class=\"data row19 col3\" >4063.360000</td>\n",
       "                        <td id=\"T_9e78b_row19_col4\" class=\"data row19 col4\" >924.390000</td>\n",
       "                        <td id=\"T_9e78b_row19_col5\" class=\"data row19 col5\" >4192.440000</td>\n",
       "                        <td id=\"T_9e78b_row19_col6\" class=\"data row19 col6\" >4688.700000</td>\n",
       "                        <td id=\"T_9e78b_row19_col7\" class=\"data row19 col7\" >3243.030000</td>\n",
       "                        <td id=\"T_9e78b_row19_col8\" class=\"data row19 col8\" >5052.730000</td>\n",
       "                        <td id=\"T_9e78b_row19_col9\" class=\"data row19 col9\" >7089.120000</td>\n",
       "                        <td id=\"T_9e78b_row19_col10\" class=\"data row19 col10\" >826.920000</td>\n",
       "                        <td id=\"T_9e78b_row19_col11\" class=\"data row19 col11\" >8963.470000</td>\n",
       "            </tr>\n",
       "            <tr>\n",
       "                        <th id=\"T_9e78b_level0_row20\" class=\"row_heading level0 row20\" >21</th>\n",
       "                        <td id=\"T_9e78b_row20_col0\" class=\"data row20 col0\" >900.550000</td>\n",
       "                        <td id=\"T_9e78b_row20_col1\" class=\"data row20 col1\" >6344.900000</td>\n",
       "                        <td id=\"T_9e78b_row20_col2\" class=\"data row20 col2\" >5448.780000</td>\n",
       "                        <td id=\"T_9e78b_row20_col3\" class=\"data row20 col3\" >7572.070000</td>\n",
       "                        <td id=\"T_9e78b_row20_col4\" class=\"data row20 col4\" >942.110000</td>\n",
       "                        <td id=\"T_9e78b_row20_col5\" class=\"data row20 col5\" >8429.140000</td>\n",
       "                        <td id=\"T_9e78b_row20_col6\" class=\"data row20 col6\" >3603.880000</td>\n",
       "                        <td id=\"T_9e78b_row20_col7\" class=\"data row20 col7\" >2365.310000</td>\n",
       "                        <td id=\"T_9e78b_row20_col8\" class=\"data row20 col8\" >3911.520000</td>\n",
       "                        <td id=\"T_9e78b_row20_col9\" class=\"data row20 col9\" >4320.100000</td>\n",
       "                        <td id=\"T_9e78b_row20_col10\" class=\"data row20 col10\" >3974.860000</td>\n",
       "                        <td id=\"T_9e78b_row20_col11\" class=\"data row20 col11\" >2798.560000</td>\n",
       "            </tr>\n",
       "            <tr>\n",
       "                        <th id=\"T_9e78b_level0_row21\" class=\"row_heading level0 row21\" >22</th>\n",
       "                        <td id=\"T_9e78b_row21_col0\" class=\"data row21 col0\" >1343.140000</td>\n",
       "                        <td id=\"T_9e78b_row21_col1\" class=\"data row21 col1\" >3816.780000</td>\n",
       "                        <td id=\"T_9e78b_row21_col2\" class=\"data row21 col2\" >6122.490000</td>\n",
       "                        <td id=\"T_9e78b_row21_col3\" class=\"data row21 col3\" >1858.710000</td>\n",
       "                        <td id=\"T_9e78b_row21_col4\" class=\"data row21 col4\" >1857.240000</td>\n",
       "                        <td id=\"T_9e78b_row21_col5\" class=\"data row21 col5\" >2459.480000</td>\n",
       "                        <td id=\"T_9e78b_row21_col6\" class=\"data row21 col6\" >2395.000000</td>\n",
       "                        <td id=\"T_9e78b_row21_col7\" class=\"data row21 col7\" >10791.840000</td>\n",
       "                        <td id=\"T_9e78b_row21_col8\" class=\"data row21 col8\" >3485.550000</td>\n",
       "                        <td id=\"T_9e78b_row21_col9\" class=\"data row21 col9\" >1142.490000</td>\n",
       "                        <td id=\"T_9e78b_row21_col10\" class=\"data row21 col10\" >2762.840000</td>\n",
       "                        <td id=\"T_9e78b_row21_col11\" class=\"data row21 col11\" >3206.640000</td>\n",
       "            </tr>\n",
       "            <tr>\n",
       "                        <th id=\"T_9e78b_level0_row22\" class=\"row_heading level0 row22\" >23</th>\n",
       "                        <td id=\"T_9e78b_row22_col0\" class=\"data row22 col0\" >2789.540000</td>\n",
       "                        <td id=\"T_9e78b_row22_col1\" class=\"data row22 col1\" >3109.360000</td>\n",
       "                        <td id=\"T_9e78b_row22_col2\" class=\"data row22 col2\" >9206.550000</td>\n",
       "                        <td id=\"T_9e78b_row22_col3\" class=\"data row22 col3\" >926.930000</td>\n",
       "                        <td id=\"T_9e78b_row22_col4\" class=\"data row22 col4\" >4482.210000</td>\n",
       "                        <td id=\"T_9e78b_row22_col5\" class=\"data row22 col5\" >2040.210000</td>\n",
       "                        <td id=\"T_9e78b_row22_col6\" class=\"data row22 col6\" >2246.920000</td>\n",
       "                        <td id=\"T_9e78b_row22_col7\" class=\"data row22 col7\" >9625.700000</td>\n",
       "                        <td id=\"T_9e78b_row22_col8\" class=\"data row22 col8\" >1953.480000</td>\n",
       "                        <td id=\"T_9e78b_row22_col9\" class=\"data row22 col9\" >1434.770000</td>\n",
       "                        <td id=\"T_9e78b_row22_col10\" class=\"data row22 col10\" >5252.590000</td>\n",
       "                        <td id=\"T_9e78b_row22_col11\" class=\"data row22 col11\" >1421.780000</td>\n",
       "            </tr>\n",
       "            <tr>\n",
       "                        <th id=\"T_9e78b_level0_row23\" class=\"row_heading level0 row23\" >24</th>\n",
       "                        <td id=\"T_9e78b_row23_col0\" class=\"data row23 col0\" >4844.040000</td>\n",
       "                        <td id=\"T_9e78b_row23_col1\" class=\"data row23 col1\" >4180.600000</td>\n",
       "                        <td id=\"T_9e78b_row23_col2\" class=\"data row23 col2\" >11091.380000</td>\n",
       "                        <td id=\"T_9e78b_row23_col3\" class=\"data row23 col3\" >2339.740000</td>\n",
       "                        <td id=\"T_9e78b_row23_col4\" class=\"data row23 col4\" >4824.320000</td>\n",
       "                        <td id=\"T_9e78b_row23_col5\" class=\"data row23 col5\" >384.920000</td>\n",
       "                        <td id=\"T_9e78b_row23_col6\" class=\"data row23 col6\" >4415.620000</td>\n",
       "                        <td id=\"T_9e78b_row23_col7\" class=\"data row23 col7\" >5632.410000</td>\n",
       "                        <td id=\"T_9e78b_row23_col8\" class=\"data row23 col8\" >556.210000</td>\n",
       "                        <td id=\"T_9e78b_row23_col9\" class=\"data row23 col9\" >3833.100000</td>\n",
       "                        <td id=\"T_9e78b_row23_col10\" class=\"data row23 col10\" >1743.250000</td>\n",
       "                        <td id=\"T_9e78b_row23_col11\" class=\"data row23 col11\" >1003.950000</td>\n",
       "            </tr>\n",
       "            <tr>\n",
       "                        <th id=\"T_9e78b_level0_row24\" class=\"row_heading level0 row24\" >25</th>\n",
       "                        <td id=\"T_9e78b_row24_col0\" class=\"data row24 col0\" >2678.420000</td>\n",
       "                        <td id=\"T_9e78b_row24_col1\" class=\"data row24 col1\" >835.320000</td>\n",
       "                        <td id=\"T_9e78b_row24_col2\" class=\"data row24 col2\" >864.330000</td>\n",
       "                        <td id=\"T_9e78b_row24_col3\" class=\"data row24 col3\" >2934.880000</td>\n",
       "                        <td id=\"T_9e78b_row24_col4\" class=\"data row24 col4\" >2333.750000</td>\n",
       "                        <td id=\"T_9e78b_row24_col5\" class=\"data row24 col5\" >771.890000</td>\n",
       "                        <td id=\"T_9e78b_row24_col6\" class=\"data row24 col6\" >5240.730000</td>\n",
       "                        <td id=\"T_9e78b_row24_col7\" class=\"data row24 col7\" >17186.210000</td>\n",
       "                        <td id=\"T_9e78b_row24_col8\" class=\"data row24 col8\" >1023.210000</td>\n",
       "                        <td id=\"T_9e78b_row24_col9\" class=\"data row24 col9\" >1356.870000</td>\n",
       "                        <td id=\"T_9e78b_row24_col10\" class=\"data row24 col10\" >3358.610000</td>\n",
       "                        <td id=\"T_9e78b_row24_col11\" class=\"data row24 col11\" >1194.090000</td>\n",
       "            </tr>\n",
       "            <tr>\n",
       "                        <th id=\"T_9e78b_level0_row25\" class=\"row_heading level0 row25\" >26</th>\n",
       "                        <td id=\"T_9e78b_row25_col0\" class=\"data row25 col0\" >3715.200000</td>\n",
       "                        <td id=\"T_9e78b_row25_col1\" class=\"data row25 col1\" >620.750000</td>\n",
       "                        <td id=\"T_9e78b_row25_col2\" class=\"data row25 col2\" >1479.770000</td>\n",
       "                        <td id=\"T_9e78b_row25_col3\" class=\"data row25 col3\" >5142.280000</td>\n",
       "                        <td id=\"T_9e78b_row25_col4\" class=\"data row25 col4\" >4237.770000</td>\n",
       "                        <td id=\"T_9e78b_row25_col5\" class=\"data row25 col5\" >1761.980000</td>\n",
       "                        <td id=\"T_9e78b_row25_col6\" class=\"data row25 col6\" >4640.450000</td>\n",
       "                        <td id=\"T_9e78b_row25_col7\" class=\"data row25 col7\" >4918.860000</td>\n",
       "                        <td id=\"T_9e78b_row25_col8\" class=\"data row25 col8\" >7225.360000</td>\n",
       "                        <td id=\"T_9e78b_row25_col9\" class=\"data row25 col9\" >4739.600000</td>\n",
       "                        <td id=\"T_9e78b_row25_col10\" class=\"data row25 col10\" >3149.470000</td>\n",
       "                        <td id=\"T_9e78b_row25_col11\" class=\"data row25 col11\" >1040.480000</td>\n",
       "            </tr>\n",
       "            <tr>\n",
       "                        <th id=\"T_9e78b_level0_row26\" class=\"row_heading level0 row26\" >27</th>\n",
       "                        <td id=\"T_9e78b_row26_col0\" class=\"data row26 col0\" >3623.980000</td>\n",
       "                        <td id=\"T_9e78b_row26_col1\" class=\"data row26 col1\" >3198.190000</td>\n",
       "                        <td id=\"T_9e78b_row26_col2\" class=\"data row26 col2\" >6250.000000</td>\n",
       "                        <td id=\"T_9e78b_row26_col3\" class=\"data row26 col3\" >16828.540000</td>\n",
       "                        <td id=\"T_9e78b_row26_col4\" class=\"data row26 col4\" >1164.460000</td>\n",
       "                        <td id=\"T_9e78b_row26_col5\" class=\"data row26 col5\" >3859.310000</td>\n",
       "                        <td id=\"T_9e78b_row26_col6\" class=\"data row26 col6\" >4348.380000</td>\n",
       "                        <td id=\"T_9e78b_row26_col7\" class=\"data row26 col7\" >915.080000</td>\n",
       "                        <td id=\"T_9e78b_row26_col8\" class=\"data row26 col8\" >6485.750000</td>\n",
       "                        <td id=\"T_9e78b_row26_col9\" class=\"data row26 col9\" >4810.760000</td>\n",
       "                        <td id=\"T_9e78b_row26_col10\" class=\"data row26 col10\" >1117.020000</td>\n",
       "                        <td id=\"T_9e78b_row26_col11\" class=\"data row26 col11\" >1517.280000</td>\n",
       "            </tr>\n",
       "            <tr>\n",
       "                        <th id=\"T_9e78b_level0_row27\" class=\"row_heading level0 row27\" >28</th>\n",
       "                        <td id=\"T_9e78b_row27_col0\" class=\"data row27 col0\" >70.540000</td>\n",
       "                        <td id=\"T_9e78b_row27_col1\" class=\"data row27 col1\" >4462.780000</td>\n",
       "                        <td id=\"T_9e78b_row27_col2\" class=\"data row27 col2\" >8441.130000</td>\n",
       "                        <td id=\"T_9e78b_row27_col3\" class=\"data row27 col3\" >4355.190000</td>\n",
       "                        <td id=\"T_9e78b_row27_col4\" class=\"data row27 col4\" >284.990000</td>\n",
       "                        <td id=\"T_9e78b_row27_col5\" class=\"data row27 col5\" >8903.570000</td>\n",
       "                        <td id=\"T_9e78b_row27_col6\" class=\"data row27 col6\" >4709.440000</td>\n",
       "                        <td id=\"T_9e78b_row27_col7\" class=\"data row27 col7\" >3094.520000</td>\n",
       "                        <td id=\"T_9e78b_row27_col8\" class=\"data row27 col8\" >6197.420000</td>\n",
       "                        <td id=\"T_9e78b_row27_col9\" class=\"data row27 col9\" >5494.990000</td>\n",
       "                        <td id=\"T_9e78b_row27_col10\" class=\"data row27 col10\" >8120.530000</td>\n",
       "                        <td id=\"T_9e78b_row27_col11\" class=\"data row27 col11\" >3384.850000</td>\n",
       "            </tr>\n",
       "            <tr>\n",
       "                        <th id=\"T_9e78b_level0_row28\" class=\"row_heading level0 row28\" >29</th>\n",
       "                        <td id=\"T_9e78b_row28_col0\" class=\"data row28 col0\" >2515.930000</td>\n",
       "                        <td id=\"T_9e78b_row28_col1\" class=\"data row28 col1\" >nan</td>\n",
       "                        <td id=\"T_9e78b_row28_col2\" class=\"data row28 col2\" >6169.510000</td>\n",
       "                        <td id=\"T_9e78b_row28_col3\" class=\"data row28 col3\" >1010.340000</td>\n",
       "                        <td id=\"T_9e78b_row28_col4\" class=\"data row28 col4\" >1234.340000</td>\n",
       "                        <td id=\"T_9e78b_row28_col5\" class=\"data row28 col5\" >4591.860000</td>\n",
       "                        <td id=\"T_9e78b_row28_col6\" class=\"data row28 col6\" >1045.010000</td>\n",
       "                        <td id=\"T_9e78b_row28_col7\" class=\"data row28 col7\" >6593.430000</td>\n",
       "                        <td id=\"T_9e78b_row28_col8\" class=\"data row28 col8\" >2499.370000</td>\n",
       "                        <td id=\"T_9e78b_row28_col9\" class=\"data row28 col9\" >2180.040000</td>\n",
       "                        <td id=\"T_9e78b_row28_col10\" class=\"data row28 col10\" >5105.580000</td>\n",
       "                        <td id=\"T_9e78b_row28_col11\" class=\"data row28 col11\" >4170.580000</td>\n",
       "            </tr>\n",
       "            <tr>\n",
       "                        <th id=\"T_9e78b_level0_row29\" class=\"row_heading level0 row29\" >30</th>\n",
       "                        <td id=\"T_9e78b_row29_col0\" class=\"data row29 col0\" >3609.480000</td>\n",
       "                        <td id=\"T_9e78b_row29_col1\" class=\"data row29 col1\" >nan</td>\n",
       "                        <td id=\"T_9e78b_row29_col2\" class=\"data row29 col2\" >4281.410000</td>\n",
       "                        <td id=\"T_9e78b_row29_col3\" class=\"data row29 col3\" >2555.870000</td>\n",
       "                        <td id=\"T_9e78b_row29_col4\" class=\"data row29 col4\" >5691.120000</td>\n",
       "                        <td id=\"T_9e78b_row29_col5\" class=\"data row29 col5\" >3981.990000</td>\n",
       "                        <td id=\"T_9e78b_row29_col6\" class=\"data row29 col6\" >2254.160000</td>\n",
       "                        <td id=\"T_9e78b_row29_col7\" class=\"data row29 col7\" >2883.710000</td>\n",
       "                        <td id=\"T_9e78b_row29_col8\" class=\"data row29 col8\" >2533.150000</td>\n",
       "                        <td id=\"T_9e78b_row29_col9\" class=\"data row29 col9\" >970.090000</td>\n",
       "                        <td id=\"T_9e78b_row29_col10\" class=\"data row29 col10\" >13827.370000</td>\n",
       "                        <td id=\"T_9e78b_row29_col11\" class=\"data row29 col11\" >724.490000</td>\n",
       "            </tr>\n",
       "            <tr>\n",
       "                        <th id=\"T_9e78b_level0_row30\" class=\"row_heading level0 row30\" >31</th>\n",
       "                        <td id=\"T_9e78b_row30_col0\" class=\"data row30 col0\" >7638.810000</td>\n",
       "                        <td id=\"T_9e78b_row30_col1\" class=\"data row30 col1\" >nan</td>\n",
       "                        <td id=\"T_9e78b_row30_col2\" class=\"data row30 col2\" >3413.180000</td>\n",
       "                        <td id=\"T_9e78b_row30_col3\" class=\"data row30 col3\" >nan</td>\n",
       "                        <td id=\"T_9e78b_row30_col4\" class=\"data row30 col4\" >10423.590000</td>\n",
       "                        <td id=\"T_9e78b_row30_col5\" class=\"data row30 col5\" >nan</td>\n",
       "                        <td id=\"T_9e78b_row30_col6\" class=\"data row30 col6\" >11415.440000</td>\n",
       "                        <td id=\"T_9e78b_row30_col7\" class=\"data row30 col7\" >3862.920000</td>\n",
       "                        <td id=\"T_9e78b_row30_col8\" class=\"data row30 col8\" >nan</td>\n",
       "                        <td id=\"T_9e78b_row30_col9\" class=\"data row30 col9\" >3938.410000</td>\n",
       "                        <td id=\"T_9e78b_row30_col10\" class=\"data row30 col10\" >nan</td>\n",
       "                        <td id=\"T_9e78b_row30_col11\" class=\"data row30 col11\" >701.170000</td>\n",
       "            </tr>\n",
       "    </tbody></table>"
      ],
      "text/plain": [
       "<pandas.io.formats.style.Styler at 0x7fe435a04590>"
      ]
     },
     "execution_count": 11,
     "metadata": {},
     "output_type": "execute_result"
    }
   ],
   "source": [
    "# Revenue by days of month\n",
    "\n",
    "pd.crosstab(df['day'],\n",
    "            df['month'], \n",
    "            values=(df['transactionRevenue'] / 1000000), \n",
    "            aggfunc='sum').style.background_gradient(cmap='viridis')"
   ]
  },
  {
   "cell_type": "code",
   "execution_count": 26,
   "id": "e25ed889",
   "metadata": {},
   "outputs": [
    {
     "data": {
      "application/vnd.plotly.v1+json": {
       "config": {
        "linkText": "Export to plot.ly",
        "plotlyServerURL": "https://plot.ly",
        "showLink": false
       },
       "data": [
        {
         "domain": {
          "x": [
           0,
           0.48
          ]
         },
         "hole": 0.5,
         "hoverinfo": "label+percent+name",
         "labels": [
          "Organic Search",
          "Social",
          "Direct",
          "Referral",
          "Paid Search",
          "Affiliates",
          "Display",
          "(Other)"
         ],
         "marker": {
          "colors": [
           "#ffa69e",
           "#faf3dd",
           "#b8f2e6",
           "#aed9e0",
           "#5e6472",
           "#f6bd60",
           "#84a59d",
           "#f8edeb"
          ]
         },
         "name": "% Acesses",
         "showlegend": true,
         "type": "pie",
         "values": [
          381561,
          226117,
          143026,
          104838,
          25326,
          16403,
          6262,
          120
         ]
        },
        {
         "domain": {
          "x": [
           0.52,
           1
          ]
         },
         "hole": 0.5,
         "hoverinfo": "label+percent+name",
         "labels": [
          "Referral",
          "Direct",
          "Organic Search",
          "Display",
          "Paid Search",
          "Social",
          "Affiliates",
          "(Other)"
         ],
         "name": "% Revenue",
         "showlegend": false,
         "type": "pie",
         "values": [
          651429910000,
          434840550000,
          326380510000,
          78337460000,
          43558900000,
          4916540000,
          597380000,
          9990000
         ]
        }
       ],
       "layout": {
        "annotations": [
         {
          "font": {
           "size": 20
          },
          "showarrow": false,
          "text": "Visits",
          "x": 0.25,
          "y": 0.5
         },
         {
          "font": {
           "size": 20
          },
          "showarrow": false,
          "text": "Revenue",
          "x": 0.8,
          "y": 0.5
         }
        ],
        "autosize": true,
        "font": {
         "size": 12
        },
        "template": {
         "data": {
          "bar": [
           {
            "error_x": {
             "color": "#2a3f5f"
            },
            "error_y": {
             "color": "#2a3f5f"
            },
            "marker": {
             "line": {
              "color": "#E5ECF6",
              "width": 0.5
             }
            },
            "type": "bar"
           }
          ],
          "barpolar": [
           {
            "marker": {
             "line": {
              "color": "#E5ECF6",
              "width": 0.5
             }
            },
            "type": "barpolar"
           }
          ],
          "carpet": [
           {
            "aaxis": {
             "endlinecolor": "#2a3f5f",
             "gridcolor": "white",
             "linecolor": "white",
             "minorgridcolor": "white",
             "startlinecolor": "#2a3f5f"
            },
            "baxis": {
             "endlinecolor": "#2a3f5f",
             "gridcolor": "white",
             "linecolor": "white",
             "minorgridcolor": "white",
             "startlinecolor": "#2a3f5f"
            },
            "type": "carpet"
           }
          ],
          "choropleth": [
           {
            "colorbar": {
             "outlinewidth": 0,
             "ticks": ""
            },
            "type": "choropleth"
           }
          ],
          "contour": [
           {
            "colorbar": {
             "outlinewidth": 0,
             "ticks": ""
            },
            "colorscale": [
             [
              0,
              "#0d0887"
             ],
             [
              0.1111111111111111,
              "#46039f"
             ],
             [
              0.2222222222222222,
              "#7201a8"
             ],
             [
              0.3333333333333333,
              "#9c179e"
             ],
             [
              0.4444444444444444,
              "#bd3786"
             ],
             [
              0.5555555555555556,
              "#d8576b"
             ],
             [
              0.6666666666666666,
              "#ed7953"
             ],
             [
              0.7777777777777778,
              "#fb9f3a"
             ],
             [
              0.8888888888888888,
              "#fdca26"
             ],
             [
              1,
              "#f0f921"
             ]
            ],
            "type": "contour"
           }
          ],
          "contourcarpet": [
           {
            "colorbar": {
             "outlinewidth": 0,
             "ticks": ""
            },
            "type": "contourcarpet"
           }
          ],
          "heatmap": [
           {
            "colorbar": {
             "outlinewidth": 0,
             "ticks": ""
            },
            "colorscale": [
             [
              0,
              "#0d0887"
             ],
             [
              0.1111111111111111,
              "#46039f"
             ],
             [
              0.2222222222222222,
              "#7201a8"
             ],
             [
              0.3333333333333333,
              "#9c179e"
             ],
             [
              0.4444444444444444,
              "#bd3786"
             ],
             [
              0.5555555555555556,
              "#d8576b"
             ],
             [
              0.6666666666666666,
              "#ed7953"
             ],
             [
              0.7777777777777778,
              "#fb9f3a"
             ],
             [
              0.8888888888888888,
              "#fdca26"
             ],
             [
              1,
              "#f0f921"
             ]
            ],
            "type": "heatmap"
           }
          ],
          "heatmapgl": [
           {
            "colorbar": {
             "outlinewidth": 0,
             "ticks": ""
            },
            "colorscale": [
             [
              0,
              "#0d0887"
             ],
             [
              0.1111111111111111,
              "#46039f"
             ],
             [
              0.2222222222222222,
              "#7201a8"
             ],
             [
              0.3333333333333333,
              "#9c179e"
             ],
             [
              0.4444444444444444,
              "#bd3786"
             ],
             [
              0.5555555555555556,
              "#d8576b"
             ],
             [
              0.6666666666666666,
              "#ed7953"
             ],
             [
              0.7777777777777778,
              "#fb9f3a"
             ],
             [
              0.8888888888888888,
              "#fdca26"
             ],
             [
              1,
              "#f0f921"
             ]
            ],
            "type": "heatmapgl"
           }
          ],
          "histogram": [
           {
            "marker": {
             "colorbar": {
              "outlinewidth": 0,
              "ticks": ""
             }
            },
            "type": "histogram"
           }
          ],
          "histogram2d": [
           {
            "colorbar": {
             "outlinewidth": 0,
             "ticks": ""
            },
            "colorscale": [
             [
              0,
              "#0d0887"
             ],
             [
              0.1111111111111111,
              "#46039f"
             ],
             [
              0.2222222222222222,
              "#7201a8"
             ],
             [
              0.3333333333333333,
              "#9c179e"
             ],
             [
              0.4444444444444444,
              "#bd3786"
             ],
             [
              0.5555555555555556,
              "#d8576b"
             ],
             [
              0.6666666666666666,
              "#ed7953"
             ],
             [
              0.7777777777777778,
              "#fb9f3a"
             ],
             [
              0.8888888888888888,
              "#fdca26"
             ],
             [
              1,
              "#f0f921"
             ]
            ],
            "type": "histogram2d"
           }
          ],
          "histogram2dcontour": [
           {
            "colorbar": {
             "outlinewidth": 0,
             "ticks": ""
            },
            "colorscale": [
             [
              0,
              "#0d0887"
             ],
             [
              0.1111111111111111,
              "#46039f"
             ],
             [
              0.2222222222222222,
              "#7201a8"
             ],
             [
              0.3333333333333333,
              "#9c179e"
             ],
             [
              0.4444444444444444,
              "#bd3786"
             ],
             [
              0.5555555555555556,
              "#d8576b"
             ],
             [
              0.6666666666666666,
              "#ed7953"
             ],
             [
              0.7777777777777778,
              "#fb9f3a"
             ],
             [
              0.8888888888888888,
              "#fdca26"
             ],
             [
              1,
              "#f0f921"
             ]
            ],
            "type": "histogram2dcontour"
           }
          ],
          "mesh3d": [
           {
            "colorbar": {
             "outlinewidth": 0,
             "ticks": ""
            },
            "type": "mesh3d"
           }
          ],
          "parcoords": [
           {
            "line": {
             "colorbar": {
              "outlinewidth": 0,
              "ticks": ""
             }
            },
            "type": "parcoords"
           }
          ],
          "pie": [
           {
            "automargin": true,
            "type": "pie"
           }
          ],
          "scatter": [
           {
            "marker": {
             "colorbar": {
              "outlinewidth": 0,
              "ticks": ""
             }
            },
            "type": "scatter"
           }
          ],
          "scatter3d": [
           {
            "line": {
             "colorbar": {
              "outlinewidth": 0,
              "ticks": ""
             }
            },
            "marker": {
             "colorbar": {
              "outlinewidth": 0,
              "ticks": ""
             }
            },
            "type": "scatter3d"
           }
          ],
          "scattercarpet": [
           {
            "marker": {
             "colorbar": {
              "outlinewidth": 0,
              "ticks": ""
             }
            },
            "type": "scattercarpet"
           }
          ],
          "scattergeo": [
           {
            "marker": {
             "colorbar": {
              "outlinewidth": 0,
              "ticks": ""
             }
            },
            "type": "scattergeo"
           }
          ],
          "scattergl": [
           {
            "marker": {
             "colorbar": {
              "outlinewidth": 0,
              "ticks": ""
             }
            },
            "type": "scattergl"
           }
          ],
          "scattermapbox": [
           {
            "marker": {
             "colorbar": {
              "outlinewidth": 0,
              "ticks": ""
             }
            },
            "type": "scattermapbox"
           }
          ],
          "scatterpolar": [
           {
            "marker": {
             "colorbar": {
              "outlinewidth": 0,
              "ticks": ""
             }
            },
            "type": "scatterpolar"
           }
          ],
          "scatterpolargl": [
           {
            "marker": {
             "colorbar": {
              "outlinewidth": 0,
              "ticks": ""
             }
            },
            "type": "scatterpolargl"
           }
          ],
          "scatterternary": [
           {
            "marker": {
             "colorbar": {
              "outlinewidth": 0,
              "ticks": ""
             }
            },
            "type": "scatterternary"
           }
          ],
          "surface": [
           {
            "colorbar": {
             "outlinewidth": 0,
             "ticks": ""
            },
            "colorscale": [
             [
              0,
              "#0d0887"
             ],
             [
              0.1111111111111111,
              "#46039f"
             ],
             [
              0.2222222222222222,
              "#7201a8"
             ],
             [
              0.3333333333333333,
              "#9c179e"
             ],
             [
              0.4444444444444444,
              "#bd3786"
             ],
             [
              0.5555555555555556,
              "#d8576b"
             ],
             [
              0.6666666666666666,
              "#ed7953"
             ],
             [
              0.7777777777777778,
              "#fb9f3a"
             ],
             [
              0.8888888888888888,
              "#fdca26"
             ],
             [
              1,
              "#f0f921"
             ]
            ],
            "type": "surface"
           }
          ],
          "table": [
           {
            "cells": {
             "fill": {
              "color": "#EBF0F8"
             },
             "line": {
              "color": "white"
             }
            },
            "header": {
             "fill": {
              "color": "#C8D4E3"
             },
             "line": {
              "color": "white"
             }
            },
            "type": "table"
           }
          ]
         },
         "layout": {
          "annotationdefaults": {
           "arrowcolor": "#2a3f5f",
           "arrowhead": 0,
           "arrowwidth": 1
          },
          "autotypenumbers": "strict",
          "coloraxis": {
           "colorbar": {
            "outlinewidth": 0,
            "ticks": ""
           }
          },
          "colorscale": {
           "diverging": [
            [
             0,
             "#8e0152"
            ],
            [
             0.1,
             "#c51b7d"
            ],
            [
             0.2,
             "#de77ae"
            ],
            [
             0.3,
             "#f1b6da"
            ],
            [
             0.4,
             "#fde0ef"
            ],
            [
             0.5,
             "#f7f7f7"
            ],
            [
             0.6,
             "#e6f5d0"
            ],
            [
             0.7,
             "#b8e186"
            ],
            [
             0.8,
             "#7fbc41"
            ],
            [
             0.9,
             "#4d9221"
            ],
            [
             1,
             "#276419"
            ]
           ],
           "sequential": [
            [
             0,
             "#0d0887"
            ],
            [
             0.1111111111111111,
             "#46039f"
            ],
            [
             0.2222222222222222,
             "#7201a8"
            ],
            [
             0.3333333333333333,
             "#9c179e"
            ],
            [
             0.4444444444444444,
             "#bd3786"
            ],
            [
             0.5555555555555556,
             "#d8576b"
            ],
            [
             0.6666666666666666,
             "#ed7953"
            ],
            [
             0.7777777777777778,
             "#fb9f3a"
            ],
            [
             0.8888888888888888,
             "#fdca26"
            ],
            [
             1,
             "#f0f921"
            ]
           ],
           "sequentialminus": [
            [
             0,
             "#0d0887"
            ],
            [
             0.1111111111111111,
             "#46039f"
            ],
            [
             0.2222222222222222,
             "#7201a8"
            ],
            [
             0.3333333333333333,
             "#9c179e"
            ],
            [
             0.4444444444444444,
             "#bd3786"
            ],
            [
             0.5555555555555556,
             "#d8576b"
            ],
            [
             0.6666666666666666,
             "#ed7953"
            ],
            [
             0.7777777777777778,
             "#fb9f3a"
            ],
            [
             0.8888888888888888,
             "#fdca26"
            ],
            [
             1,
             "#f0f921"
            ]
           ]
          },
          "colorway": [
           "#636efa",
           "#EF553B",
           "#00cc96",
           "#ab63fa",
           "#FFA15A",
           "#19d3f3",
           "#FF6692",
           "#B6E880",
           "#FF97FF",
           "#FECB52"
          ],
          "font": {
           "color": "#2a3f5f"
          },
          "geo": {
           "bgcolor": "white",
           "lakecolor": "white",
           "landcolor": "#E5ECF6",
           "showlakes": true,
           "showland": true,
           "subunitcolor": "white"
          },
          "hoverlabel": {
           "align": "left"
          },
          "hovermode": "closest",
          "mapbox": {
           "style": "light"
          },
          "paper_bgcolor": "white",
          "plot_bgcolor": "#E5ECF6",
          "polar": {
           "angularaxis": {
            "gridcolor": "white",
            "linecolor": "white",
            "ticks": ""
           },
           "bgcolor": "#E5ECF6",
           "radialaxis": {
            "gridcolor": "white",
            "linecolor": "white",
            "ticks": ""
           }
          },
          "scene": {
           "xaxis": {
            "backgroundcolor": "#E5ECF6",
            "gridcolor": "white",
            "gridwidth": 2,
            "linecolor": "white",
            "showbackground": true,
            "ticks": "",
            "zerolinecolor": "white"
           },
           "yaxis": {
            "backgroundcolor": "#E5ECF6",
            "gridcolor": "white",
            "gridwidth": 2,
            "linecolor": "white",
            "showbackground": true,
            "ticks": "",
            "zerolinecolor": "white"
           },
           "zaxis": {
            "backgroundcolor": "#E5ECF6",
            "gridcolor": "white",
            "gridwidth": 2,
            "linecolor": "white",
            "showbackground": true,
            "ticks": "",
            "zerolinecolor": "white"
           }
          },
          "shapedefaults": {
           "line": {
            "color": "#2a3f5f"
           }
          },
          "ternary": {
           "aaxis": {
            "gridcolor": "white",
            "linecolor": "white",
            "ticks": ""
           },
           "baxis": {
            "gridcolor": "white",
            "linecolor": "white",
            "ticks": ""
           },
           "bgcolor": "#E5ECF6",
           "caxis": {
            "gridcolor": "white",
            "linecolor": "white",
            "ticks": ""
           }
          },
          "title": {
           "x": 0.05
          },
          "xaxis": {
           "automargin": true,
           "gridcolor": "white",
           "linecolor": "white",
           "ticks": "",
           "title": {
            "standoff": 15
           },
           "zerolinecolor": "white",
           "zerolinewidth": 2
          },
          "yaxis": {
           "automargin": true,
           "gridcolor": "white",
           "linecolor": "white",
           "ticks": "",
           "title": {
            "standoff": 15
           },
           "zerolinecolor": "white",
           "zerolinewidth": 2
          }
         }
        },
        "title": {
         "text": "Visits/ Revenues by Channels"
        }
       }
      },
      "image/png": "[encoded data removed]",
      "text/html": [
       "<div>                            <div id=\"6a2a2622-4b97-4ff2-9f84-0828554fa0bb\" class=\"plotly-graph-div\" style=\"height:300px; width:100%;\"></div>            <script type=\"text/javascript\">                require([\"plotly\"], function(Plotly) {                    window.PLOTLYENV=window.PLOTLYENV || {};                                    if (document.getElementById(\"6a2a2622-4b97-4ff2-9f84-0828554fa0bb\")) {                    Plotly.newPlot(                        \"6a2a2622-4b97-4ff2-9f84-0828554fa0bb\",                        [{\"domain\": {\"x\": [0, 0.48]}, \"hole\": 0.5, \"hoverinfo\": \"label+percent+name\", \"labels\": [\"Organic Search\", \"Social\", \"Direct\", \"Referral\", \"Paid Search\", \"Affiliates\", \"Display\", \"(Other)\"], \"marker\": {\"colors\": [\"#ffa69e\", \"#faf3dd\", \"#b8f2e6\", \"#aed9e0\", \"#5e6472\", \"#f6bd60\", \"#84a59d\", \"#f8edeb\"]}, \"name\": \"% Acesses\", \"showlegend\": true, \"type\": \"pie\", \"values\": [381561, 226117, 143026, 104838, 25326, 16403, 6262, 120]}, {\"domain\": {\"x\": [0.52, 1]}, \"hole\": 0.5, \"hoverinfo\": \"label+percent+name\", \"labels\": [\"Referral\", \"Direct\", \"Organic Search\", \"Display\", \"Paid Search\", \"Social\", \"Affiliates\", \"(Other)\"], \"name\": \"% Revenue\", \"showlegend\": false, \"type\": \"pie\", \"values\": [651429910000.0, 434840550000.0, 326380510000.0, 78337460000.0, 43558900000.0, 4916540000.0, 597380000.0, 9990000.0]}],                        {\"annotations\": [{\"font\": {\"size\": 20}, \"showarrow\": false, \"text\": \"Visits\", \"x\": 0.25, \"y\": 0.5}, {\"font\": {\"size\": 20}, \"showarrow\": false, \"text\": \"Revenue\", \"x\": 0.8, \"y\": 0.5}], \"font\": {\"size\": 12}, \"height\": 300, \"template\": {\"data\": {\"bar\": [{\"error_x\": {\"color\": \"#2a3f5f\"}, \"error_y\": {\"color\": \"#2a3f5f\"}, \"marker\": {\"line\": {\"color\": \"#E5ECF6\", \"width\": 0.5}}, \"type\": \"bar\"}], \"barpolar\": [{\"marker\": {\"line\": {\"color\": \"#E5ECF6\", \"width\": 0.5}}, \"type\": \"barpolar\"}], \"carpet\": [{\"aaxis\": {\"endlinecolor\": \"#2a3f5f\", \"gridcolor\": \"white\", \"linecolor\": \"white\", \"minorgridcolor\": \"white\", \"startlinecolor\": \"#2a3f5f\"}, \"baxis\": {\"endlinecolor\": \"#2a3f5f\", \"gridcolor\": \"white\", \"linecolor\": \"white\", \"minorgridcolor\": \"white\", \"startlinecolor\": \"#2a3f5f\"}, \"type\": \"carpet\"}], \"choropleth\": [{\"colorbar\": {\"outlinewidth\": 0, \"ticks\": \"\"}, \"type\": \"choropleth\"}], \"contour\": [{\"colorbar\": {\"outlinewidth\": 0, \"ticks\": \"\"}, \"colorscale\": [[0.0, \"#0d0887\"], [0.1111111111111111, \"#46039f\"], [0.2222222222222222, \"#7201a8\"], [0.3333333333333333, \"#9c179e\"], [0.4444444444444444, \"#bd3786\"], [0.5555555555555556, \"#d8576b\"], [0.6666666666666666, \"#ed7953\"], [0.7777777777777778, \"#fb9f3a\"], [0.8888888888888888, \"#fdca26\"], [1.0, \"#f0f921\"]], \"type\": \"contour\"}], \"contourcarpet\": [{\"colorbar\": {\"outlinewidth\": 0, \"ticks\": \"\"}, \"type\": \"contourcarpet\"}], \"heatmap\": [{\"colorbar\": {\"outlinewidth\": 0, \"ticks\": \"\"}, \"colorscale\": [[0.0, \"#0d0887\"], [0.1111111111111111, \"#46039f\"], [0.2222222222222222, \"#7201a8\"], [0.3333333333333333, \"#9c179e\"], [0.4444444444444444, \"#bd3786\"], [0.5555555555555556, \"#d8576b\"], [0.6666666666666666, \"#ed7953\"], [0.7777777777777778, \"#fb9f3a\"], [0.8888888888888888, \"#fdca26\"], [1.0, \"#f0f921\"]], \"type\": \"heatmap\"}], \"heatmapgl\": [{\"colorbar\": {\"outlinewidth\": 0, \"ticks\": \"\"}, \"colorscale\": [[0.0, \"#0d0887\"], [0.1111111111111111, \"#46039f\"], [0.2222222222222222, \"#7201a8\"], [0.3333333333333333, \"#9c179e\"], [0.4444444444444444, \"#bd3786\"], [0.5555555555555556, \"#d8576b\"], [0.6666666666666666, \"#ed7953\"], [0.7777777777777778, \"#fb9f3a\"], [0.8888888888888888, \"#fdca26\"], [1.0, \"#f0f921\"]], \"type\": \"heatmapgl\"}], \"histogram\": [{\"marker\": {\"colorbar\": {\"outlinewidth\": 0, \"ticks\": \"\"}}, \"type\": \"histogram\"}], \"histogram2d\": [{\"colorbar\": {\"outlinewidth\": 0, \"ticks\": \"\"}, \"colorscale\": [[0.0, \"#0d0887\"], [0.1111111111111111, \"#46039f\"], [0.2222222222222222, \"#7201a8\"], [0.3333333333333333, \"#9c179e\"], [0.4444444444444444, \"#bd3786\"], [0.5555555555555556, \"#d8576b\"], [0.6666666666666666, \"#ed7953\"], [0.7777777777777778, \"#fb9f3a\"], [0.8888888888888888, \"#fdca26\"], [1.0, \"#f0f921\"]], \"type\": \"histogram2d\"}], \"histogram2dcontour\": [{\"colorbar\": {\"outlinewidth\": 0, \"ticks\": \"\"}, \"colorscale\": [[0.0, \"#0d0887\"], [0.1111111111111111, \"#46039f\"], [0.2222222222222222, \"#7201a8\"], [0.3333333333333333, \"#9c179e\"], [0.4444444444444444, \"#bd3786\"], [0.5555555555555556, \"#d8576b\"], [0.6666666666666666, \"#ed7953\"], [0.7777777777777778, \"#fb9f3a\"], [0.8888888888888888, \"#fdca26\"], [1.0, \"#f0f921\"]], \"type\": \"histogram2dcontour\"}], \"mesh3d\": [{\"colorbar\": {\"outlinewidth\": 0, \"ticks\": \"\"}, \"type\": \"mesh3d\"}], \"parcoords\": [{\"line\": {\"colorbar\": {\"outlinewidth\": 0, \"ticks\": \"\"}}, \"type\": \"parcoords\"}], \"pie\": [{\"automargin\": true, \"type\": \"pie\"}], \"scatter\": [{\"marker\": {\"colorbar\": {\"outlinewidth\": 0, \"ticks\": \"\"}}, \"type\": \"scatter\"}], \"scatter3d\": [{\"line\": {\"colorbar\": {\"outlinewidth\": 0, \"ticks\": \"\"}}, \"marker\": {\"colorbar\": {\"outlinewidth\": 0, \"ticks\": \"\"}}, \"type\": \"scatter3d\"}], \"scattercarpet\": [{\"marker\": {\"colorbar\": {\"outlinewidth\": 0, \"ticks\": \"\"}}, \"type\": \"scattercarpet\"}], \"scattergeo\": [{\"marker\": {\"colorbar\": {\"outlinewidth\": 0, \"ticks\": \"\"}}, \"type\": \"scattergeo\"}], \"scattergl\": [{\"marker\": {\"colorbar\": {\"outlinewidth\": 0, \"ticks\": \"\"}}, \"type\": \"scattergl\"}], \"scattermapbox\": [{\"marker\": {\"colorbar\": {\"outlinewidth\": 0, \"ticks\": \"\"}}, \"type\": \"scattermapbox\"}], \"scatterpolar\": [{\"marker\": {\"colorbar\": {\"outlinewidth\": 0, \"ticks\": \"\"}}, \"type\": \"scatterpolar\"}], \"scatterpolargl\": [{\"marker\": {\"colorbar\": {\"outlinewidth\": 0, \"ticks\": \"\"}}, \"type\": \"scatterpolargl\"}], \"scatterternary\": [{\"marker\": {\"colorbar\": {\"outlinewidth\": 0, \"ticks\": \"\"}}, \"type\": \"scatterternary\"}], \"surface\": [{\"colorbar\": {\"outlinewidth\": 0, \"ticks\": \"\"}, \"colorscale\": [[0.0, \"#0d0887\"], [0.1111111111111111, \"#46039f\"], [0.2222222222222222, \"#7201a8\"], [0.3333333333333333, \"#9c179e\"], [0.4444444444444444, \"#bd3786\"], [0.5555555555555556, \"#d8576b\"], [0.6666666666666666, \"#ed7953\"], [0.7777777777777778, \"#fb9f3a\"], [0.8888888888888888, \"#fdca26\"], [1.0, \"#f0f921\"]], \"type\": \"surface\"}], \"table\": [{\"cells\": {\"fill\": {\"color\": \"#EBF0F8\"}, \"line\": {\"color\": \"white\"}}, \"header\": {\"fill\": {\"color\": \"#C8D4E3\"}, \"line\": {\"color\": \"white\"}}, \"type\": \"table\"}]}, \"layout\": {\"annotationdefaults\": {\"arrowcolor\": \"#2a3f5f\", \"arrowhead\": 0, \"arrowwidth\": 1}, \"autotypenumbers\": \"strict\", \"coloraxis\": {\"colorbar\": {\"outlinewidth\": 0, \"ticks\": \"\"}}, \"colorscale\": {\"diverging\": [[0, \"#8e0152\"], [0.1, \"#c51b7d\"], [0.2, \"#de77ae\"], [0.3, \"#f1b6da\"], [0.4, \"#fde0ef\"], [0.5, \"#f7f7f7\"], [0.6, \"#e6f5d0\"], [0.7, \"#b8e186\"], [0.8, \"#7fbc41\"], [0.9, \"#4d9221\"], [1, \"#276419\"]], \"sequential\": [[0.0, \"#0d0887\"], [0.1111111111111111, \"#46039f\"], [0.2222222222222222, \"#7201a8\"], [0.3333333333333333, \"#9c179e\"], [0.4444444444444444, \"#bd3786\"], [0.5555555555555556, \"#d8576b\"], [0.6666666666666666, \"#ed7953\"], [0.7777777777777778, \"#fb9f3a\"], [0.8888888888888888, \"#fdca26\"], [1.0, \"#f0f921\"]], \"sequentialminus\": [[0.0, \"#0d0887\"], [0.1111111111111111, \"#46039f\"], [0.2222222222222222, \"#7201a8\"], [0.3333333333333333, \"#9c179e\"], [0.4444444444444444, \"#bd3786\"], [0.5555555555555556, \"#d8576b\"], [0.6666666666666666, \"#ed7953\"], [0.7777777777777778, \"#fb9f3a\"], [0.8888888888888888, \"#fdca26\"], [1.0, \"#f0f921\"]]}, \"colorway\": [\"#636efa\", \"#EF553B\", \"#00cc96\", \"#ab63fa\", \"#FFA15A\", \"#19d3f3\", \"#FF6692\", \"#B6E880\", \"#FF97FF\", \"#FECB52\"], \"font\": {\"color\": \"#2a3f5f\"}, \"geo\": {\"bgcolor\": \"white\", \"lakecolor\": \"white\", \"landcolor\": \"#E5ECF6\", \"showlakes\": true, \"showland\": true, \"subunitcolor\": \"white\"}, \"hoverlabel\": {\"align\": \"left\"}, \"hovermode\": \"closest\", \"mapbox\": {\"style\": \"light\"}, \"paper_bgcolor\": \"white\", \"plot_bgcolor\": \"#E5ECF6\", \"polar\": {\"angularaxis\": {\"gridcolor\": \"white\", \"linecolor\": \"white\", \"ticks\": \"\"}, \"bgcolor\": \"#E5ECF6\", \"radialaxis\": {\"gridcolor\": \"white\", \"linecolor\": \"white\", \"ticks\": \"\"}}, \"scene\": {\"xaxis\": {\"backgroundcolor\": \"#E5ECF6\", \"gridcolor\": \"white\", \"gridwidth\": 2, \"linecolor\": \"white\", \"showbackground\": true, \"ticks\": \"\", \"zerolinecolor\": \"white\"}, \"yaxis\": {\"backgroundcolor\": \"#E5ECF6\", \"gridcolor\": \"white\", \"gridwidth\": 2, \"linecolor\": \"white\", \"showbackground\": true, \"ticks\": \"\", \"zerolinecolor\": \"white\"}, \"zaxis\": {\"backgroundcolor\": \"#E5ECF6\", \"gridcolor\": \"white\", \"gridwidth\": 2, \"linecolor\": \"white\", \"showbackground\": true, \"ticks\": \"\", \"zerolinecolor\": \"white\"}}, \"shapedefaults\": {\"line\": {\"color\": \"#2a3f5f\"}}, \"ternary\": {\"aaxis\": {\"gridcolor\": \"white\", \"linecolor\": \"white\", \"ticks\": \"\"}, \"baxis\": {\"gridcolor\": \"white\", \"linecolor\": \"white\", \"ticks\": \"\"}, \"bgcolor\": \"#E5ECF6\", \"caxis\": {\"gridcolor\": \"white\", \"linecolor\": \"white\", \"ticks\": \"\"}}, \"title\": {\"x\": 0.05}, \"xaxis\": {\"automargin\": true, \"gridcolor\": \"white\", \"linecolor\": \"white\", \"ticks\": \"\", \"title\": {\"standoff\": 15}, \"zerolinecolor\": \"white\", \"zerolinewidth\": 2}, \"yaxis\": {\"automargin\": true, \"gridcolor\": \"white\", \"linecolor\": \"white\", \"ticks\": \"\", \"title\": {\"standoff\": 15}, \"zerolinecolor\": \"white\", \"zerolinewidth\": 2}}}, \"title\": {\"text\": \"Visits/ Revenues by Channels\"}},                        {\"responsive\": true}                    ).then(function(){\n",
       "                            \n",
       "var gd = document.getElementById('6a2a2622-4b97-4ff2-9f84-0828554fa0bb');\n",
       "var x = new MutationObserver(function (mutations, observer) {{\n",
       "        var display = window.getComputedStyle(gd).display;\n",
       "        if (!display || display === 'none') {{\n",
       "            console.log([gd, 'removed!']);\n",
       "            Plotly.purge(gd);\n",
       "            observer.disconnect();\n",
       "        }}\n",
       "}});\n",
       "\n",
       "// Listen for the removal of the full notebook cells\n",
       "var notebookContainer = gd.closest('#notebook-container');\n",
       "if (notebookContainer) {{\n",
       "    x.observe(notebookContainer, {childList: true});\n",
       "}}\n",
       "\n",
       "// Listen for the clearing of the current output cell\n",
       "var outputEl = gd.closest('.output');\n",
       "if (outputEl) {{\n",
       "    x.observe(outputEl, {childList: true});\n",
       "}}\n",
       "\n",
       "                        })                };                });            </script>        </div>"
      ]
     },
     "metadata": {},
     "output_type": "display_data"
    }
   ],
   "source": [
    "count_trace = df[\"channelGrouping\"].value_counts()[:15].to_frame().reset_index()\n",
    "rev_trace = df.groupby(\"channelGrouping\")[\"transactionRevenue\"].sum().nlargest(10).to_frame().reset_index()\n",
    "\n",
    "trace1 = go.Pie(labels=count_trace['index'], values=count_trace[\"channelGrouping\"], name= \"% Acesses\", hole= .5, \n",
    "                    hoverinfo=\"label+percent+name\", showlegend=True,domain= {'x': [0, .48]}, \n",
    "                    marker=dict(colors=color))\n",
    "\n",
    "trace2 = go.Pie(labels=rev_trace[\"channelGrouping\"], \n",
    "                    values=rev_trace['transactionRevenue'], name=\"% Revenue\", hole= .5, \n",
    "                    hoverinfo=\"label+percent+name\", showlegend=False, domain= {'x': [.52, 1]})\n",
    "\n",
    "layout = dict(title= \"Visits/ Revenues by Channels\", height=300, font=dict(size=12),\n",
    "                  annotations = [\n",
    "                      dict(\n",
    "                          x=.25, y=.5,\n",
    "                          text='Visits', \n",
    "                          showarrow=False,\n",
    "                          font=dict(size=20)\n",
    "                      ),\n",
    "                      dict(\n",
    "                          x=.80, y=.5,\n",
    "                          text='Revenue', \n",
    "                          showarrow=False,\n",
    "                          font=dict(size=20)\n",
    "                      )\n",
    "        ])\n",
    "\n",
    "fig = dict(data=[trace1, trace2], layout=layout)\n",
    "iplot(fig)"
   ]
  },
  {
   "cell_type": "code",
   "execution_count": 13,
   "id": "cfb9e007",
   "metadata": {},
   "outputs": [
    {
     "name": "stderr",
     "output_type": "stream",
     "text": [
      "/opt/conda/lib/python3.7/site-packages/ipykernel_launcher.py:7: SettingWithCopyWarning:\n",
      "\n",
      "\n",
      "A value is trying to be set on a copy of a slice from a DataFrame.\n",
      "Try using .loc[row_indexer,col_indexer] = value instead\n",
      "\n",
      "See the caveats in the documentation: https://pandas.pydata.org/pandas-docs/stable/user_guide/indexing.html#returning-a-view-versus-a-copy\n",
      "\n"
     ]
    },
    {
     "data": {
      "application/vnd.plotly.v1+json": {
       "config": {
        "plotlyServerURL": "https://plot.ly"
       },
       "data": [
        {
         "domain": {
          "x": [
           0,
           1
          ],
          "y": [
           0,
           1
          ]
         },
         "hovertemplate": "dayOfWeek=%{label}<br>Count=%{value}<extra></extra>",
         "labels": [
          "Friday",
          "Monday",
          "Saturday",
          "Sunday",
          "Thursday",
          "Tuesday",
          "Wednesday"
         ],
         "legendgroup": "",
         "name": "",
         "showlegend": true,
         "type": "pie",
         "values": [
          134368,
          135485,
          101410,
          95117,
          143015,
          146410,
          147848
         ]
        }
       ],
       "layout": {
        "height": 400,
        "legend": {
         "tracegroupgap": 0
        },
        "margin": {
         "b": 50,
         "l": 25,
         "r": 20,
         "t": 30
        },
        "paper_bgcolor": "#ffffff",
        "piecolorway": [
         "#14213d",
         "#fca311",
         "#d90429"
        ],
        "template": {
         "data": {
          "bar": [
           {
            "error_x": {
             "color": "#2a3f5f"
            },
            "error_y": {
             "color": "#2a3f5f"
            },
            "marker": {
             "line": {
              "color": "#E5ECF6",
              "width": 0.5
             }
            },
            "type": "bar"
           }
          ],
          "barpolar": [
           {
            "marker": {
             "line": {
              "color": "#E5ECF6",
              "width": 0.5
             }
            },
            "type": "barpolar"
           }
          ],
          "carpet": [
           {
            "aaxis": {
             "endlinecolor": "#2a3f5f",
             "gridcolor": "white",
             "linecolor": "white",
             "minorgridcolor": "white",
             "startlinecolor": "#2a3f5f"
            },
            "baxis": {
             "endlinecolor": "#2a3f5f",
             "gridcolor": "white",
             "linecolor": "white",
             "minorgridcolor": "white",
             "startlinecolor": "#2a3f5f"
            },
            "type": "carpet"
           }
          ],
          "choropleth": [
           {
            "colorbar": {
             "outlinewidth": 0,
             "ticks": ""
            },
            "type": "choropleth"
           }
          ],
          "contour": [
           {
            "colorbar": {
             "outlinewidth": 0,
             "ticks": ""
            },
            "colorscale": [
             [
              0,
              "#0d0887"
             ],
             [
              0.1111111111111111,
              "#46039f"
             ],
             [
              0.2222222222222222,
              "#7201a8"
             ],
             [
              0.3333333333333333,
              "#9c179e"
             ],
             [
              0.4444444444444444,
              "#bd3786"
             ],
             [
              0.5555555555555556,
              "#d8576b"
             ],
             [
              0.6666666666666666,
              "#ed7953"
             ],
             [
              0.7777777777777778,
              "#fb9f3a"
             ],
             [
              0.8888888888888888,
              "#fdca26"
             ],
             [
              1,
              "#f0f921"
             ]
            ],
            "type": "contour"
           }
          ],
          "contourcarpet": [
           {
            "colorbar": {
             "outlinewidth": 0,
             "ticks": ""
            },
            "type": "contourcarpet"
           }
          ],
          "heatmap": [
           {
            "colorbar": {
             "outlinewidth": 0,
             "ticks": ""
            },
            "colorscale": [
             [
              0,
              "#0d0887"
             ],
             [
              0.1111111111111111,
              "#46039f"
             ],
             [
              0.2222222222222222,
              "#7201a8"
             ],
             [
              0.3333333333333333,
              "#9c179e"
             ],
             [
              0.4444444444444444,
              "#bd3786"
             ],
             [
              0.5555555555555556,
              "#d8576b"
             ],
             [
              0.6666666666666666,
              "#ed7953"
             ],
             [
              0.7777777777777778,
              "#fb9f3a"
             ],
             [
              0.8888888888888888,
              "#fdca26"
             ],
             [
              1,
              "#f0f921"
             ]
            ],
            "type": "heatmap"
           }
          ],
          "heatmapgl": [
           {
            "colorbar": {
             "outlinewidth": 0,
             "ticks": ""
            },
            "colorscale": [
             [
              0,
              "#0d0887"
             ],
             [
              0.1111111111111111,
              "#46039f"
             ],
             [
              0.2222222222222222,
              "#7201a8"
             ],
             [
              0.3333333333333333,
              "#9c179e"
             ],
             [
              0.4444444444444444,
              "#bd3786"
             ],
             [
              0.5555555555555556,
              "#d8576b"
             ],
             [
              0.6666666666666666,
              "#ed7953"
             ],
             [
              0.7777777777777778,
              "#fb9f3a"
             ],
             [
              0.8888888888888888,
              "#fdca26"
             ],
             [
              1,
              "#f0f921"
             ]
            ],
            "type": "heatmapgl"
           }
          ],
          "histogram": [
           {
            "marker": {
             "colorbar": {
              "outlinewidth": 0,
              "ticks": ""
             }
            },
            "type": "histogram"
           }
          ],
          "histogram2d": [
           {
            "colorbar": {
             "outlinewidth": 0,
             "ticks": ""
            },
            "colorscale": [
             [
              0,
              "#0d0887"
             ],
             [
              0.1111111111111111,
              "#46039f"
             ],
             [
              0.2222222222222222,
              "#7201a8"
             ],
             [
              0.3333333333333333,
              "#9c179e"
             ],
             [
              0.4444444444444444,
              "#bd3786"
             ],
             [
              0.5555555555555556,
              "#d8576b"
             ],
             [
              0.6666666666666666,
              "#ed7953"
             ],
             [
              0.7777777777777778,
              "#fb9f3a"
             ],
             [
              0.8888888888888888,
              "#fdca26"
             ],
             [
              1,
              "#f0f921"
             ]
            ],
            "type": "histogram2d"
           }
          ],
          "histogram2dcontour": [
           {
            "colorbar": {
             "outlinewidth": 0,
             "ticks": ""
            },
            "colorscale": [
             [
              0,
              "#0d0887"
             ],
             [
              0.1111111111111111,
              "#46039f"
             ],
             [
              0.2222222222222222,
              "#7201a8"
             ],
             [
              0.3333333333333333,
              "#9c179e"
             ],
             [
              0.4444444444444444,
              "#bd3786"
             ],
             [
              0.5555555555555556,
              "#d8576b"
             ],
             [
              0.6666666666666666,
              "#ed7953"
             ],
             [
              0.7777777777777778,
              "#fb9f3a"
             ],
             [
              0.8888888888888888,
              "#fdca26"
             ],
             [
              1,
              "#f0f921"
             ]
            ],
            "type": "histogram2dcontour"
           }
          ],
          "mesh3d": [
           {
            "colorbar": {
             "outlinewidth": 0,
             "ticks": ""
            },
            "type": "mesh3d"
           }
          ],
          "parcoords": [
           {
            "line": {
             "colorbar": {
              "outlinewidth": 0,
              "ticks": ""
             }
            },
            "type": "parcoords"
           }
          ],
          "pie": [
           {
            "automargin": true,
            "type": "pie"
           }
          ],
          "scatter": [
           {
            "marker": {
             "colorbar": {
              "outlinewidth": 0,
              "ticks": ""
             }
            },
            "type": "scatter"
           }
          ],
          "scatter3d": [
           {
            "line": {
             "colorbar": {
              "outlinewidth": 0,
              "ticks": ""
             }
            },
            "marker": {
             "colorbar": {
              "outlinewidth": 0,
              "ticks": ""
             }
            },
            "type": "scatter3d"
           }
          ],
          "scattercarpet": [
           {
            "marker": {
             "colorbar": {
              "outlinewidth": 0,
              "ticks": ""
             }
            },
            "type": "scattercarpet"
           }
          ],
          "scattergeo": [
           {
            "marker": {
             "colorbar": {
              "outlinewidth": 0,
              "ticks": ""
             }
            },
            "type": "scattergeo"
           }
          ],
          "scattergl": [
           {
            "marker": {
             "colorbar": {
              "outlinewidth": 0,
              "ticks": ""
             }
            },
            "type": "scattergl"
           }
          ],
          "scattermapbox": [
           {
            "marker": {
             "colorbar": {
              "outlinewidth": 0,
              "ticks": ""
             }
            },
            "type": "scattermapbox"
           }
          ],
          "scatterpolar": [
           {
            "marker": {
             "colorbar": {
              "outlinewidth": 0,
              "ticks": ""
             }
            },
            "type": "scatterpolar"
           }
          ],
          "scatterpolargl": [
           {
            "marker": {
             "colorbar": {
              "outlinewidth": 0,
              "ticks": ""
             }
            },
            "type": "scatterpolargl"
           }
          ],
          "scatterternary": [
           {
            "marker": {
             "colorbar": {
              "outlinewidth": 0,
              "ticks": ""
             }
            },
            "type": "scatterternary"
           }
          ],
          "surface": [
           {
            "colorbar": {
             "outlinewidth": 0,
             "ticks": ""
            },
            "colorscale": [
             [
              0,
              "#0d0887"
             ],
             [
              0.1111111111111111,
              "#46039f"
             ],
             [
              0.2222222222222222,
              "#7201a8"
             ],
             [
              0.3333333333333333,
              "#9c179e"
             ],
             [
              0.4444444444444444,
              "#bd3786"
             ],
             [
              0.5555555555555556,
              "#d8576b"
             ],
             [
              0.6666666666666666,
              "#ed7953"
             ],
             [
              0.7777777777777778,
              "#fb9f3a"
             ],
             [
              0.8888888888888888,
              "#fdca26"
             ],
             [
              1,
              "#f0f921"
             ]
            ],
            "type": "surface"
           }
          ],
          "table": [
           {
            "cells": {
             "fill": {
              "color": "#EBF0F8"
             },
             "line": {
              "color": "white"
             }
            },
            "header": {
             "fill": {
              "color": "#C8D4E3"
             },
             "line": {
              "color": "white"
             }
            },
            "type": "table"
           }
          ]
         },
         "layout": {
          "annotationdefaults": {
           "arrowcolor": "#2a3f5f",
           "arrowhead": 0,
           "arrowwidth": 1
          },
          "autotypenumbers": "strict",
          "coloraxis": {
           "colorbar": {
            "outlinewidth": 0,
            "ticks": ""
           }
          },
          "colorscale": {
           "diverging": [
            [
             0,
             "#8e0152"
            ],
            [
             0.1,
             "#c51b7d"
            ],
            [
             0.2,
             "#de77ae"
            ],
            [
             0.3,
             "#f1b6da"
            ],
            [
             0.4,
             "#fde0ef"
            ],
            [
             0.5,
             "#f7f7f7"
            ],
            [
             0.6,
             "#e6f5d0"
            ],
            [
             0.7,
             "#b8e186"
            ],
            [
             0.8,
             "#7fbc41"
            ],
            [
             0.9,
             "#4d9221"
            ],
            [
             1,
             "#276419"
            ]
           ],
           "sequential": [
            [
             0,
             "#0d0887"
            ],
            [
             0.1111111111111111,
             "#46039f"
            ],
            [
             0.2222222222222222,
             "#7201a8"
            ],
            [
             0.3333333333333333,
             "#9c179e"
            ],
            [
             0.4444444444444444,
             "#bd3786"
            ],
            [
             0.5555555555555556,
             "#d8576b"
            ],
            [
             0.6666666666666666,
             "#ed7953"
            ],
            [
             0.7777777777777778,
             "#fb9f3a"
            ],
            [
             0.8888888888888888,
             "#fdca26"
            ],
            [
             1,
             "#f0f921"
            ]
           ],
           "sequentialminus": [
            [
             0,
             "#0d0887"
            ],
            [
             0.1111111111111111,
             "#46039f"
            ],
            [
             0.2222222222222222,
             "#7201a8"
            ],
            [
             0.3333333333333333,
             "#9c179e"
            ],
            [
             0.4444444444444444,
             "#bd3786"
            ],
            [
             0.5555555555555556,
             "#d8576b"
            ],
            [
             0.6666666666666666,
             "#ed7953"
            ],
            [
             0.7777777777777778,
             "#fb9f3a"
            ],
            [
             0.8888888888888888,
             "#fdca26"
            ],
            [
             1,
             "#f0f921"
            ]
           ]
          },
          "colorway": [
           "#636efa",
           "#EF553B",
           "#00cc96",
           "#ab63fa",
           "#FFA15A",
           "#19d3f3",
           "#FF6692",
           "#B6E880",
           "#FF97FF",
           "#FECB52"
          ],
          "font": {
           "color": "#2a3f5f"
          },
          "geo": {
           "bgcolor": "white",
           "lakecolor": "white",
           "landcolor": "#E5ECF6",
           "showlakes": true,
           "showland": true,
           "subunitcolor": "white"
          },
          "hoverlabel": {
           "align": "left"
          },
          "hovermode": "closest",
          "mapbox": {
           "style": "light"
          },
          "paper_bgcolor": "white",
          "plot_bgcolor": "#E5ECF6",
          "polar": {
           "angularaxis": {
            "gridcolor": "white",
            "linecolor": "white",
            "ticks": ""
           },
           "bgcolor": "#E5ECF6",
           "radialaxis": {
            "gridcolor": "white",
            "linecolor": "white",
            "ticks": ""
           }
          },
          "scene": {
           "xaxis": {
            "backgroundcolor": "#E5ECF6",
            "gridcolor": "white",
            "gridwidth": 2,
            "linecolor": "white",
            "showbackground": true,
            "ticks": "",
            "zerolinecolor": "white"
           },
           "yaxis": {
            "backgroundcolor": "#E5ECF6",
            "gridcolor": "white",
            "gridwidth": 2,
            "linecolor": "white",
            "showbackground": true,
            "ticks": "",
            "zerolinecolor": "white"
           },
           "zaxis": {
            "backgroundcolor": "#E5ECF6",
            "gridcolor": "white",
            "gridwidth": 2,
            "linecolor": "white",
            "showbackground": true,
            "ticks": "",
            "zerolinecolor": "white"
           }
          },
          "shapedefaults": {
           "line": {
            "color": "#2a3f5f"
           }
          },
          "ternary": {
           "aaxis": {
            "gridcolor": "white",
            "linecolor": "white",
            "ticks": ""
           },
           "baxis": {
            "gridcolor": "white",
            "linecolor": "white",
            "ticks": ""
           },
           "bgcolor": "#E5ECF6",
           "caxis": {
            "gridcolor": "white",
            "linecolor": "white",
            "ticks": ""
           }
          },
          "title": {
           "x": 0.05
          },
          "xaxis": {
           "automargin": true,
           "gridcolor": "white",
           "linecolor": "white",
           "ticks": "",
           "title": {
            "standoff": 15
           },
           "zerolinecolor": "white",
           "zerolinewidth": 2
          },
          "yaxis": {
           "automargin": true,
           "gridcolor": "white",
           "linecolor": "white",
           "ticks": "",
           "title": {
            "standoff": 15
           },
           "zerolinecolor": "white",
           "zerolinewidth": 2
          }
         }
        },
        "title": {
         "text": "Sales by Day of Week"
        },
        "width": 600
       }
      },
      "image/png": "[encoded data removed]",
      "text/html": [
       "<div>                            <div id=\"6590d8f8-a3d2-4287-81c6-b2f519d8462a\" class=\"plotly-graph-div\" style=\"height:400px; width:600px;\"></div>            <script type=\"text/javascript\">                require([\"plotly\"], function(Plotly) {                    window.PLOTLYENV=window.PLOTLYENV || {};                                    if (document.getElementById(\"6590d8f8-a3d2-4287-81c6-b2f519d8462a\")) {                    Plotly.newPlot(                        \"6590d8f8-a3d2-4287-81c6-b2f519d8462a\",                        [{\"domain\": {\"x\": [0.0, 1.0], \"y\": [0.0, 1.0]}, \"hovertemplate\": \"dayOfWeek=%{label}<br>Count=%{value}<extra></extra>\", \"labels\": [\"Friday\", \"Monday\", \"Saturday\", \"Sunday\", \"Thursday\", \"Tuesday\", \"Wednesday\"], \"legendgroup\": \"\", \"name\": \"\", \"showlegend\": true, \"type\": \"pie\", \"values\": [134368, 135485, 101410, 95117, 143015, 146410, 147848]}],                        {\"height\": 400, \"legend\": {\"tracegroupgap\": 0}, \"margin\": {\"b\": 50, \"l\": 25, \"r\": 20, \"t\": 30}, \"paper_bgcolor\": \"#ffffff\", \"piecolorway\": [\"#14213d\", \"#fca311\", \"#d90429\"], \"template\": {\"data\": {\"bar\": [{\"error_x\": {\"color\": \"#2a3f5f\"}, \"error_y\": {\"color\": \"#2a3f5f\"}, \"marker\": {\"line\": {\"color\": \"#E5ECF6\", \"width\": 0.5}}, \"type\": \"bar\"}], \"barpolar\": [{\"marker\": {\"line\": {\"color\": \"#E5ECF6\", \"width\": 0.5}}, \"type\": \"barpolar\"}], \"carpet\": [{\"aaxis\": {\"endlinecolor\": \"#2a3f5f\", \"gridcolor\": \"white\", \"linecolor\": \"white\", \"minorgridcolor\": \"white\", \"startlinecolor\": \"#2a3f5f\"}, \"baxis\": {\"endlinecolor\": \"#2a3f5f\", \"gridcolor\": \"white\", \"linecolor\": \"white\", \"minorgridcolor\": \"white\", \"startlinecolor\": \"#2a3f5f\"}, \"type\": \"carpet\"}], \"choropleth\": [{\"colorbar\": {\"outlinewidth\": 0, \"ticks\": \"\"}, \"type\": \"choropleth\"}], \"contour\": [{\"colorbar\": {\"outlinewidth\": 0, \"ticks\": \"\"}, \"colorscale\": [[0.0, \"#0d0887\"], [0.1111111111111111, \"#46039f\"], [0.2222222222222222, \"#7201a8\"], [0.3333333333333333, \"#9c179e\"], [0.4444444444444444, \"#bd3786\"], [0.5555555555555556, \"#d8576b\"], [0.6666666666666666, \"#ed7953\"], [0.7777777777777778, \"#fb9f3a\"], [0.8888888888888888, \"#fdca26\"], [1.0, \"#f0f921\"]], \"type\": \"contour\"}], \"contourcarpet\": [{\"colorbar\": {\"outlinewidth\": 0, \"ticks\": \"\"}, \"type\": \"contourcarpet\"}], \"heatmap\": [{\"colorbar\": {\"outlinewidth\": 0, \"ticks\": \"\"}, \"colorscale\": [[0.0, \"#0d0887\"], [0.1111111111111111, \"#46039f\"], [0.2222222222222222, \"#7201a8\"], [0.3333333333333333, \"#9c179e\"], [0.4444444444444444, \"#bd3786\"], [0.5555555555555556, \"#d8576b\"], [0.6666666666666666, \"#ed7953\"], [0.7777777777777778, \"#fb9f3a\"], [0.8888888888888888, \"#fdca26\"], [1.0, \"#f0f921\"]], \"type\": \"heatmap\"}], \"heatmapgl\": [{\"colorbar\": {\"outlinewidth\": 0, \"ticks\": \"\"}, \"colorscale\": [[0.0, \"#0d0887\"], [0.1111111111111111, \"#46039f\"], [0.2222222222222222, \"#7201a8\"], [0.3333333333333333, \"#9c179e\"], [0.4444444444444444, \"#bd3786\"], [0.5555555555555556, \"#d8576b\"], [0.6666666666666666, \"#ed7953\"], [0.7777777777777778, \"#fb9f3a\"], [0.8888888888888888, \"#fdca26\"], [1.0, \"#f0f921\"]], \"type\": \"heatmapgl\"}], \"histogram\": [{\"marker\": {\"colorbar\": {\"outlinewidth\": 0, \"ticks\": \"\"}}, \"type\": \"histogram\"}], \"histogram2d\": [{\"colorbar\": {\"outlinewidth\": 0, \"ticks\": \"\"}, \"colorscale\": [[0.0, \"#0d0887\"], [0.1111111111111111, \"#46039f\"], [0.2222222222222222, \"#7201a8\"], [0.3333333333333333, \"#9c179e\"], [0.4444444444444444, \"#bd3786\"], [0.5555555555555556, \"#d8576b\"], [0.6666666666666666, \"#ed7953\"], [0.7777777777777778, \"#fb9f3a\"], [0.8888888888888888, \"#fdca26\"], [1.0, \"#f0f921\"]], \"type\": \"histogram2d\"}], \"histogram2dcontour\": [{\"colorbar\": {\"outlinewidth\": 0, \"ticks\": \"\"}, \"colorscale\": [[0.0, \"#0d0887\"], [0.1111111111111111, \"#46039f\"], [0.2222222222222222, \"#7201a8\"], [0.3333333333333333, \"#9c179e\"], [0.4444444444444444, \"#bd3786\"], [0.5555555555555556, \"#d8576b\"], [0.6666666666666666, \"#ed7953\"], [0.7777777777777778, \"#fb9f3a\"], [0.8888888888888888, \"#fdca26\"], [1.0, \"#f0f921\"]], \"type\": \"histogram2dcontour\"}], \"mesh3d\": [{\"colorbar\": {\"outlinewidth\": 0, \"ticks\": \"\"}, \"type\": \"mesh3d\"}], \"parcoords\": [{\"line\": {\"colorbar\": {\"outlinewidth\": 0, \"ticks\": \"\"}}, \"type\": \"parcoords\"}], \"pie\": [{\"automargin\": true, \"type\": \"pie\"}], \"scatter\": [{\"marker\": {\"colorbar\": {\"outlinewidth\": 0, \"ticks\": \"\"}}, \"type\": \"scatter\"}], \"scatter3d\": [{\"line\": {\"colorbar\": {\"outlinewidth\": 0, \"ticks\": \"\"}}, \"marker\": {\"colorbar\": {\"outlinewidth\": 0, \"ticks\": \"\"}}, \"type\": \"scatter3d\"}], \"scattercarpet\": [{\"marker\": {\"colorbar\": {\"outlinewidth\": 0, \"ticks\": \"\"}}, \"type\": \"scattercarpet\"}], \"scattergeo\": [{\"marker\": {\"colorbar\": {\"outlinewidth\": 0, \"ticks\": \"\"}}, \"type\": \"scattergeo\"}], \"scattergl\": [{\"marker\": {\"colorbar\": {\"outlinewidth\": 0, \"ticks\": \"\"}}, \"type\": \"scattergl\"}], \"scattermapbox\": [{\"marker\": {\"colorbar\": {\"outlinewidth\": 0, \"ticks\": \"\"}}, \"type\": \"scattermapbox\"}], \"scatterpolar\": [{\"marker\": {\"colorbar\": {\"outlinewidth\": 0, \"ticks\": \"\"}}, \"type\": \"scatterpolar\"}], \"scatterpolargl\": [{\"marker\": {\"colorbar\": {\"outlinewidth\": 0, \"ticks\": \"\"}}, \"type\": \"scatterpolargl\"}], \"scatterternary\": [{\"marker\": {\"colorbar\": {\"outlinewidth\": 0, \"ticks\": \"\"}}, \"type\": \"scatterternary\"}], \"surface\": [{\"colorbar\": {\"outlinewidth\": 0, \"ticks\": \"\"}, \"colorscale\": [[0.0, \"#0d0887\"], [0.1111111111111111, \"#46039f\"], [0.2222222222222222, \"#7201a8\"], [0.3333333333333333, \"#9c179e\"], [0.4444444444444444, \"#bd3786\"], [0.5555555555555556, \"#d8576b\"], [0.6666666666666666, \"#ed7953\"], [0.7777777777777778, \"#fb9f3a\"], [0.8888888888888888, \"#fdca26\"], [1.0, \"#f0f921\"]], \"type\": \"surface\"}], \"table\": [{\"cells\": {\"fill\": {\"color\": \"#EBF0F8\"}, \"line\": {\"color\": \"white\"}}, \"header\": {\"fill\": {\"color\": \"#C8D4E3\"}, \"line\": {\"color\": \"white\"}}, \"type\": \"table\"}]}, \"layout\": {\"annotationdefaults\": {\"arrowcolor\": \"#2a3f5f\", \"arrowhead\": 0, \"arrowwidth\": 1}, \"autotypenumbers\": \"strict\", \"coloraxis\": {\"colorbar\": {\"outlinewidth\": 0, \"ticks\": \"\"}}, \"colorscale\": {\"diverging\": [[0, \"#8e0152\"], [0.1, \"#c51b7d\"], [0.2, \"#de77ae\"], [0.3, \"#f1b6da\"], [0.4, \"#fde0ef\"], [0.5, \"#f7f7f7\"], [0.6, \"#e6f5d0\"], [0.7, \"#b8e186\"], [0.8, \"#7fbc41\"], [0.9, \"#4d9221\"], [1, \"#276419\"]], \"sequential\": [[0.0, \"#0d0887\"], [0.1111111111111111, \"#46039f\"], [0.2222222222222222, \"#7201a8\"], [0.3333333333333333, \"#9c179e\"], [0.4444444444444444, \"#bd3786\"], [0.5555555555555556, \"#d8576b\"], [0.6666666666666666, \"#ed7953\"], [0.7777777777777778, \"#fb9f3a\"], [0.8888888888888888, \"#fdca26\"], [1.0, \"#f0f921\"]], \"sequentialminus\": [[0.0, \"#0d0887\"], [0.1111111111111111, \"#46039f\"], [0.2222222222222222, \"#7201a8\"], [0.3333333333333333, \"#9c179e\"], [0.4444444444444444, \"#bd3786\"], [0.5555555555555556, \"#d8576b\"], [0.6666666666666666, \"#ed7953\"], [0.7777777777777778, \"#fb9f3a\"], [0.8888888888888888, \"#fdca26\"], [1.0, \"#f0f921\"]]}, \"colorway\": [\"#636efa\", \"#EF553B\", \"#00cc96\", \"#ab63fa\", \"#FFA15A\", \"#19d3f3\", \"#FF6692\", \"#B6E880\", \"#FF97FF\", \"#FECB52\"], \"font\": {\"color\": \"#2a3f5f\"}, \"geo\": {\"bgcolor\": \"white\", \"lakecolor\": \"white\", \"landcolor\": \"#E5ECF6\", \"showlakes\": true, \"showland\": true, \"subunitcolor\": \"white\"}, \"hoverlabel\": {\"align\": \"left\"}, \"hovermode\": \"closest\", \"mapbox\": {\"style\": \"light\"}, \"paper_bgcolor\": \"white\", \"plot_bgcolor\": \"#E5ECF6\", \"polar\": {\"angularaxis\": {\"gridcolor\": \"white\", \"linecolor\": \"white\", \"ticks\": \"\"}, \"bgcolor\": \"#E5ECF6\", \"radialaxis\": {\"gridcolor\": \"white\", \"linecolor\": \"white\", \"ticks\": \"\"}}, \"scene\": {\"xaxis\": {\"backgroundcolor\": \"#E5ECF6\", \"gridcolor\": \"white\", \"gridwidth\": 2, \"linecolor\": \"white\", \"showbackground\": true, \"ticks\": \"\", \"zerolinecolor\": \"white\"}, \"yaxis\": {\"backgroundcolor\": \"#E5ECF6\", \"gridcolor\": \"white\", \"gridwidth\": 2, \"linecolor\": \"white\", \"showbackground\": true, \"ticks\": \"\", \"zerolinecolor\": \"white\"}, \"zaxis\": {\"backgroundcolor\": \"#E5ECF6\", \"gridcolor\": \"white\", \"gridwidth\": 2, \"linecolor\": \"white\", \"showbackground\": true, \"ticks\": \"\", \"zerolinecolor\": \"white\"}}, \"shapedefaults\": {\"line\": {\"color\": \"#2a3f5f\"}}, \"ternary\": {\"aaxis\": {\"gridcolor\": \"white\", \"linecolor\": \"white\", \"ticks\": \"\"}, \"baxis\": {\"gridcolor\": \"white\", \"linecolor\": \"white\", \"ticks\": \"\"}, \"bgcolor\": \"#E5ECF6\", \"caxis\": {\"gridcolor\": \"white\", \"linecolor\": \"white\", \"ticks\": \"\"}}, \"title\": {\"x\": 0.05}, \"xaxis\": {\"automargin\": true, \"gridcolor\": \"white\", \"linecolor\": \"white\", \"ticks\": \"\", \"title\": {\"standoff\": 15}, \"zerolinecolor\": \"white\", \"zerolinewidth\": 2}, \"yaxis\": {\"automargin\": true, \"gridcolor\": \"white\", \"linecolor\": \"white\", \"ticks\": \"\", \"title\": {\"standoff\": 15}, \"zerolinecolor\": \"white\", \"zerolinewidth\": 2}}}, \"title\": {\"text\": \"Sales by Day of Week\"}, \"width\": 600},                        {\"responsive\": true}                    ).then(function(){\n",
       "                            \n",
       "var gd = document.getElementById('6590d8f8-a3d2-4287-81c6-b2f519d8462a');\n",
       "var x = new MutationObserver(function (mutations, observer) {{\n",
       "        var display = window.getComputedStyle(gd).display;\n",
       "        if (!display || display === 'none') {{\n",
       "            console.log([gd, 'removed!']);\n",
       "            Plotly.purge(gd);\n",
       "            observer.disconnect();\n",
       "        }}\n",
       "}});\n",
       "\n",
       "// Listen for the removal of the full notebook cells\n",
       "var notebookContainer = gd.closest('#notebook-container');\n",
       "if (notebookContainer) {{\n",
       "    x.observe(notebookContainer, {childList: true});\n",
       "}}\n",
       "\n",
       "// Listen for the clearing of the current output cell\n",
       "var outputEl = gd.closest('.output');\n",
       "if (outputEl) {{\n",
       "    x.observe(outputEl, {childList: true});\n",
       "}}\n",
       "\n",
       "                        })                };                });            </script>        </div>"
      ]
     },
     "metadata": {},
     "output_type": "display_data"
    }
   ],
   "source": [
    "from datetime import datetime\n",
    "\n",
    "def ep_to_day(ep):\n",
    "    return datetime.fromtimestamp(ep).strftime(\"%A\")\n",
    "\n",
    "df_day = df[['visitStartTime', 'transactionRevenue']]\n",
    "df_day['dayOfWeek'] = df['visitStartTime'].apply(lambda x: ep_to_day(x)) \n",
    "agg = df_day.groupby('dayOfWeek').size().rename('Count').reset_index()\n",
    "fig = px.pie(agg, \n",
    "             values='Count', names='dayOfWeek', \n",
    "             color_discrete_sequence=['#14213d','#fca311','#d90429'],\n",
    "            title='Sales by Day of Week',\n",
    "            width=800,\n",
    "            height=500)\n",
    "\n",
    "fig.update_layout(\n",
    "    margin=dict(l=25, r=20, t=30, b=50),\n",
    "    width = 600,\n",
    "    height = 400,\n",
    "    paper_bgcolor=\"#ffffff\",\n",
    ")\n",
    "fig.show()"
   ]
  },
  {
   "cell_type": "code",
   "execution_count": 27,
   "id": "6e68c3be",
   "metadata": {},
   "outputs": [
    {
     "data": {
      "application/vnd.plotly.v1+json": {
       "config": {
        "linkText": "Export to plot.ly",
        "plotlyServerURL": "https://plot.ly",
        "showLink": false
       },
       "data": [
        {
         "autocolorscale": false,
         "colorbar": {
          "autotick": false,
          "tickprefix": "",
          "title": {
           "text": "Number of Visits"
          }
         },
         "colorscale": "YlGnBu",
         "locationmode": "country names",
         "locations": [
          "United States",
          "India",
          "United Kingdom",
          "Canada",
          "Vietnam",
          "Turkey",
          "Thailand",
          "Germany",
          "Brazil",
          "Japan",
          "France",
          "Mexico",
          "Taiwan",
          "Australia",
          "Russia",
          "Spain",
          "Netherlands",
          "Italy",
          "Poland",
          "Indonesia",
          "Philippines",
          "Singapore",
          "Ireland",
          "Malaysia",
          "Romania",
          "Ukraine",
          "Israel",
          "Peru",
          "Sweden",
          "South Korea",
          "Argentina",
          "Colombia",
          "Hong Kong",
          "Belgium",
          "Switzerland",
          "Czechia",
          "Pakistan",
          "China",
          "Greece",
          "Denmark",
          "United Arab Emirates",
          "Saudi Arabia",
          "Austria",
          "Hungary",
          "Portugal",
          "Egypt",
          "Bangladesh",
          "Norway",
          "New Zealand",
          "Venezuela",
          "South Africa",
          "Algeria",
          "Bulgaria",
          "Chile",
          "Morocco",
          "Serbia",
          "Slovakia",
          "Sri Lanka",
          "(not set)",
          "Nigeria",
          "Croatia",
          "Ecuador",
          "Tunisia",
          "Belarus",
          "Kazakhstan",
          "Finland",
          "Dominican Republic",
          "Bosnia & Herzegovina",
          "Georgia",
          "Jordan",
          "Lithuania",
          "Macedonia (FYROM)",
          "Kenya",
          "Puerto Rico",
          "Slovenia",
          "Iraq",
          "Latvia",
          "Estonia",
          "Uruguay",
          "Guatemala",
          "Azerbaijan",
          "Costa Rica",
          "Albania",
          "Qatar",
          "Cambodia",
          "Kuwait",
          "Panama",
          "Cyprus",
          "Kosovo",
          "Lebanon",
          "El Salvador",
          "Ghana",
          "Côte d’Ivoire",
          "Moldova",
          "Bolivia",
          "Oman",
          "Armenia",
          "Tanzania",
          "Bahrain",
          "Mongolia",
          "Nepal",
          "Myanmar (Burma)",
          "Palestine",
          "Honduras",
          "Malta",
          "Cameroon",
          "Uganda",
          "Trinidad & Tobago",
          "Laos",
          "Luxembourg",
          "Jamaica",
          "Senegal",
          "Réunion",
          "Iceland",
          "Ethiopia",
          "Nicaragua",
          "Kyrgyzstan",
          "Paraguay",
          "Macau",
          "Montenegro",
          "Congo - Kinshasa",
          "Uzbekistan",
          "Yemen",
          "Libya",
          "Sudan",
          "Maldives",
          "Mauritius",
          "Mozambique",
          "Brunei",
          "Martinique",
          "Zimbabwe",
          "Angola",
          "Afghanistan",
          "Barbados",
          "Madagascar",
          "Rwanda",
          "Fiji",
          "Benin",
          "Iran",
          "Jersey",
          "Guam",
          "Mauritania",
          "Bahamas",
          "Zambia",
          "Somalia",
          "Bermuda",
          "Haiti",
          "Burkina Faso",
          "Namibia",
          "Mali",
          "Togo",
          "Guinea",
          "Curaçao",
          "Suriname",
          "Guadeloupe",
          "Aruba",
          "Belize",
          "Guyana",
          "Guernsey",
          "Gabon",
          "St. Lucia",
          "New Caledonia",
          "Grenada",
          "U.S. Virgin Islands",
          "Monaco",
          "Chad",
          "French Polynesia",
          "French Guiana",
          "Cape Verde",
          "Faroe Islands",
          "Andorra",
          "Swaziland",
          "Cayman Islands",
          "Turks & Caicos Islands",
          "Mayotte",
          "Botswana",
          "Malawi",
          "Burundi",
          "Tajikistan",
          "Northern Mariana Islands",
          "Papua New Guinea",
          "Djibouti",
          "Niger",
          "Gambia",
          "Gibraltar",
          "Syria",
          "St. Vincent & Grenadines",
          "St. Kitts & Nevis",
          "Liberia",
          "Sint Maarten",
          "Bhutan",
          "Sierra Leone",
          "Timor-Leste",
          "Liechtenstein",
          "Lesotho",
          "British Virgin Islands",
          "Antigua & Barbuda",
          "Greenland",
          "Turkmenistan",
          "Guinea-Bissau",
          "San Marino",
          "Equatorial Guinea",
          "Caribbean Netherlands",
          "Central African Republic",
          "Congo - Brazzaville",
          "Dominica",
          "Cook Islands",
          "Seychelles",
          "Vanuatu",
          "Isle of Man",
          "Marshall Islands",
          "Comoros",
          "São Tomé & Príncipe",
          "American Samoa",
          "Norfolk Island",
          "Åland Islands",
          "Eritrea",
          "St. Pierre & Miquelon",
          "St. Martin",
          "Samoa",
          "St. Barthélemy",
          "Anguilla"
         ],
         "marker": {
          "line": {
           "color": "rgb(180,180,180)",
           "width": 0.5
          }
         },
         "text": [
          "United States",
          "India",
          "United Kingdom",
          "Canada",
          "Vietnam",
          "Turkey",
          "Thailand",
          "Germany",
          "Brazil",
          "Japan",
          "France",
          "Mexico",
          "Taiwan",
          "Australia",
          "Russia",
          "Spain",
          "Netherlands",
          "Italy",
          "Poland",
          "Indonesia",
          "Philippines",
          "Singapore",
          "Ireland",
          "Malaysia",
          "Romania",
          "Ukraine",
          "Israel",
          "Peru",
          "Sweden",
          "South Korea",
          "Argentina",
          "Colombia",
          "Hong Kong",
          "Belgium",
          "Switzerland",
          "Czechia",
          "Pakistan",
          "China",
          "Greece",
          "Denmark",
          "United Arab Emirates",
          "Saudi Arabia",
          "Austria",
          "Hungary",
          "Portugal",
          "Egypt",
          "Bangladesh",
          "Norway",
          "New Zealand",
          "Venezuela",
          "South Africa",
          "Algeria",
          "Bulgaria",
          "Chile",
          "Morocco",
          "Serbia",
          "Slovakia",
          "Sri Lanka",
          "(not set)",
          "Nigeria",
          "Croatia",
          "Ecuador",
          "Tunisia",
          "Belarus",
          "Kazakhstan",
          "Finland",
          "Dominican Republic",
          "Bosnia & Herzegovina",
          "Georgia",
          "Jordan",
          "Lithuania",
          "Macedonia (FYROM)",
          "Kenya",
          "Puerto Rico",
          "Slovenia",
          "Iraq",
          "Latvia",
          "Estonia",
          "Uruguay",
          "Guatemala",
          "Azerbaijan",
          "Costa Rica",
          "Albania",
          "Qatar",
          "Cambodia",
          "Kuwait",
          "Panama",
          "Cyprus",
          "Kosovo",
          "Lebanon",
          "El Salvador",
          "Ghana",
          "Côte d’Ivoire",
          "Moldova",
          "Bolivia",
          "Oman",
          "Armenia",
          "Tanzania",
          "Bahrain",
          "Mongolia",
          "Nepal",
          "Myanmar (Burma)",
          "Palestine",
          "Honduras",
          "Malta",
          "Cameroon",
          "Uganda",
          "Trinidad & Tobago",
          "Laos",
          "Luxembourg",
          "Jamaica",
          "Senegal",
          "Réunion",
          "Iceland",
          "Ethiopia",
          "Nicaragua",
          "Kyrgyzstan",
          "Paraguay",
          "Macau",
          "Montenegro",
          "Congo - Kinshasa",
          "Uzbekistan",
          "Yemen",
          "Libya",
          "Sudan",
          "Maldives",
          "Mauritius",
          "Mozambique",
          "Brunei",
          "Martinique",
          "Zimbabwe",
          "Angola",
          "Afghanistan",
          "Barbados",
          "Madagascar",
          "Rwanda",
          "Fiji",
          "Benin",
          "Iran",
          "Jersey",
          "Guam",
          "Mauritania",
          "Bahamas",
          "Zambia",
          "Somalia",
          "Bermuda",
          "Haiti",
          "Burkina Faso",
          "Namibia",
          "Mali",
          "Togo",
          "Guinea",
          "Curaçao",
          "Suriname",
          "Guadeloupe",
          "Aruba",
          "Belize",
          "Guyana",
          "Guernsey",
          "Gabon",
          "St. Lucia",
          "New Caledonia",
          "Grenada",
          "U.S. Virgin Islands",
          "Monaco",
          "Chad",
          "French Polynesia",
          "French Guiana",
          "Cape Verde",
          "Faroe Islands",
          "Andorra",
          "Swaziland",
          "Cayman Islands",
          "Turks & Caicos Islands",
          "Mayotte",
          "Botswana",
          "Malawi",
          "Burundi",
          "Tajikistan",
          "Northern Mariana Islands",
          "Papua New Guinea",
          "Djibouti",
          "Niger",
          "Gambia",
          "Gibraltar",
          "Syria",
          "St. Vincent & Grenadines",
          "St. Kitts & Nevis",
          "Liberia",
          "Sint Maarten",
          "Bhutan",
          "Sierra Leone",
          "Timor-Leste",
          "Liechtenstein",
          "Lesotho",
          "British Virgin Islands",
          "Antigua & Barbuda",
          "Greenland",
          "Turkmenistan",
          "Guinea-Bissau",
          "San Marino",
          "Equatorial Guinea",
          "Caribbean Netherlands",
          "Central African Republic",
          "Congo - Brazzaville",
          "Dominica",
          "Cook Islands",
          "Seychelles",
          "Vanuatu",
          "Isle of Man",
          "Marshall Islands",
          "Comoros",
          "São Tomé & Príncipe",
          "American Samoa",
          "Norfolk Island",
          "Åland Islands",
          "Eritrea",
          "St. Pierre & Miquelon",
          "St. Martin",
          "Samoa",
          "St. Barthélemy",
          "Anguilla"
         ],
         "type": "choropleth",
         "z": [
          364744,
          51140,
          37393,
          25869,
          24598,
          20522,
          20123,
          19980,
          19783,
          19731,
          15832,
          13225,
          12996,
          12698,
          11662,
          11658,
          11453,
          11332,
          9693,
          9273,
          9244,
          7172,
          6493,
          6439,
          6428,
          5577,
          5563,
          5546,
          5315,
          5237,
          5037,
          4880,
          4718,
          4442,
          4427,
          4247,
          4010,
          3881,
          3370,
          3319,
          3144,
          3132,
          2796,
          2513,
          2376,
          2343,
          2297,
          2250,
          2194,
          2132,
          2099,
          2055,
          2046,
          1950,
          1907,
          1872,
          1788,
          1468,
          1468,
          1446,
          1396,
          1251,
          1194,
          976,
          968,
          959,
          934,
          903,
          888,
          859,
          848,
          846,
          771,
          732,
          729,
          711,
          705,
          656,
          627,
          581,
          569,
          554,
          547,
          535,
          522,
          521,
          476,
          463,
          435,
          398,
          393,
          381,
          320,
          319,
          318,
          305,
          280,
          260,
          256,
          241,
          211,
          196,
          191,
          188,
          175,
          175,
          166,
          164,
          161,
          156,
          153,
          151,
          145,
          142,
          139,
          139,
          134,
          132,
          115,
          110,
          103,
          96,
          96,
          92,
          92,
          89,
          87,
          74,
          65,
          61,
          59,
          58,
          57,
          55,
          47,
          46,
          44,
          42,
          41,
          41,
          41,
          40,
          40,
          40,
          39,
          38,
          37,
          37,
          36,
          35,
          32,
          31,
          30,
          30,
          29,
          29,
          27,
          27,
          25,
          25,
          24,
          23,
          22,
          22,
          21,
          20,
          20,
          18,
          18,
          18,
          17,
          14,
          14,
          14,
          14,
          14,
          12,
          12,
          12,
          12,
          11,
          10,
          10,
          10,
          10,
          10,
          10,
          8,
          8,
          8,
          8,
          8,
          7,
          7,
          6,
          5,
          5,
          5,
          5,
          4,
          4,
          4,
          4,
          4,
          3,
          3,
          3,
          3,
          3,
          3,
          2,
          2,
          1,
          1,
          1,
          1,
          1,
          1,
          1,
          1,
          1,
          1
         ]
        }
       ],
       "layout": {
        "autosize": true,
        "dragmode": "select",
        "geo": {
         "center": {
          "lat": 11.016769092593346,
          "lon": 4.137634244679466
         },
         "projection": {
          "rotation": {
           "lon": -355.8623657553205
          },
          "scale": 0.7578582832551998,
          "type": "natural earth"
         },
         "showcoastlines": true,
         "showframe": false
        },
        "title": {
         "text": "Couting Visits Per Country"
        }
       }
      },
      "image/png": "[encoded data removed]",
      "text/html": [
       "<div>                            <div id=\"0f4522a5-5512-4b9d-aa64-171646f39dca\" class=\"plotly-graph-div\" style=\"height:525px; width:100%;\"></div>            <script type=\"text/javascript\">                require([\"plotly\"], function(Plotly) {                    window.PLOTLYENV=window.PLOTLYENV || {};                                    if (document.getElementById(\"0f4522a5-5512-4b9d-aa64-171646f39dca\")) {                    Plotly.newPlot(                        \"0f4522a5-5512-4b9d-aa64-171646f39dca\",                        [{\"autocolorscale\": false, \"colorbar\": {\"autotick\": false, \"tickprefix\": \"\", \"title\": \"Number of Visits\"}, \"colorscale\": \"YlGnBu\", \"locationmode\": \"country names\", \"locations\": [\"United States\", \"India\", \"United Kingdom\", \"Canada\", \"Vietnam\", \"Turkey\", \"Thailand\", \"Germany\", \"Brazil\", \"Japan\", \"France\", \"Mexico\", \"Taiwan\", \"Australia\", \"Russia\", \"Spain\", \"Netherlands\", \"Italy\", \"Poland\", \"Indonesia\", \"Philippines\", \"Singapore\", \"Ireland\", \"Malaysia\", \"Romania\", \"Ukraine\", \"Israel\", \"Peru\", \"Sweden\", \"South Korea\", \"Argentina\", \"Colombia\", \"Hong Kong\", \"Belgium\", \"Switzerland\", \"Czechia\", \"Pakistan\", \"China\", \"Greece\", \"Denmark\", \"United Arab Emirates\", \"Saudi Arabia\", \"Austria\", \"Hungary\", \"Portugal\", \"Egypt\", \"Bangladesh\", \"Norway\", \"New Zealand\", \"Venezuela\", \"South Africa\", \"Algeria\", \"Bulgaria\", \"Chile\", \"Morocco\", \"Serbia\", \"Slovakia\", \"Sri Lanka\", \"(not set)\", \"Nigeria\", \"Croatia\", \"Ecuador\", \"Tunisia\", \"Belarus\", \"Kazakhstan\", \"Finland\", \"Dominican Republic\", \"Bosnia & Herzegovina\", \"Georgia\", \"Jordan\", \"Lithuania\", \"Macedonia (FYROM)\", \"Kenya\", \"Puerto Rico\", \"Slovenia\", \"Iraq\", \"Latvia\", \"Estonia\", \"Uruguay\", \"Guatemala\", \"Azerbaijan\", \"Costa Rica\", \"Albania\", \"Qatar\", \"Cambodia\", \"Kuwait\", \"Panama\", \"Cyprus\", \"Kosovo\", \"Lebanon\", \"El Salvador\", \"Ghana\", \"C\\u00f4te d\\u2019Ivoire\", \"Moldova\", \"Bolivia\", \"Oman\", \"Armenia\", \"Tanzania\", \"Bahrain\", \"Mongolia\", \"Nepal\", \"Myanmar (Burma)\", \"Palestine\", \"Honduras\", \"Malta\", \"Cameroon\", \"Uganda\", \"Trinidad & Tobago\", \"Laos\", \"Luxembourg\", \"Jamaica\", \"Senegal\", \"R\\u00e9union\", \"Iceland\", \"Ethiopia\", \"Nicaragua\", \"Kyrgyzstan\", \"Paraguay\", \"Macau\", \"Montenegro\", \"Congo - Kinshasa\", \"Uzbekistan\", \"Yemen\", \"Libya\", \"Sudan\", \"Maldives\", \"Mauritius\", \"Mozambique\", \"Brunei\", \"Martinique\", \"Zimbabwe\", \"Angola\", \"Afghanistan\", \"Barbados\", \"Madagascar\", \"Rwanda\", \"Fiji\", \"Benin\", \"Iran\", \"Jersey\", \"Guam\", \"Mauritania\", \"Bahamas\", \"Zambia\", \"Somalia\", \"Bermuda\", \"Haiti\", \"Burkina Faso\", \"Namibia\", \"Mali\", \"Togo\", \"Guinea\", \"Cura\\u00e7ao\", \"Suriname\", \"Guadeloupe\", \"Aruba\", \"Belize\", \"Guyana\", \"Guernsey\", \"Gabon\", \"St. Lucia\", \"New Caledonia\", \"Grenada\", \"U.S. Virgin Islands\", \"Monaco\", \"Chad\", \"French Polynesia\", \"French Guiana\", \"Cape Verde\", \"Faroe Islands\", \"Andorra\", \"Swaziland\", \"Cayman Islands\", \"Turks & Caicos Islands\", \"Mayotte\", \"Botswana\", \"Malawi\", \"Burundi\", \"Tajikistan\", \"Northern Mariana Islands\", \"Papua New Guinea\", \"Djibouti\", \"Niger\", \"Gambia\", \"Gibraltar\", \"Syria\", \"St. Vincent & Grenadines\", \"St. Kitts & Nevis\", \"Liberia\", \"Sint Maarten\", \"Bhutan\", \"Sierra Leone\", \"Timor-Leste\", \"Liechtenstein\", \"Lesotho\", \"British Virgin Islands\", \"Antigua & Barbuda\", \"Greenland\", \"Turkmenistan\", \"Guinea-Bissau\", \"San Marino\", \"Equatorial Guinea\", \"Caribbean Netherlands\", \"Central African Republic\", \"Congo - Brazzaville\", \"Dominica\", \"Cook Islands\", \"Seychelles\", \"Vanuatu\", \"Isle of Man\", \"Marshall Islands\", \"Comoros\", \"S\\u00e3o Tom\\u00e9 & Pr\\u00edncipe\", \"American Samoa\", \"Norfolk Island\", \"\\u00c5land Islands\", \"Eritrea\", \"St. Pierre & Miquelon\", \"St. Martin\", \"Samoa\", \"St. Barth\\u00e9lemy\", \"Anguilla\"], \"marker\": {\"line\": {\"color\": \"rgb(180,180,180)\", \"width\": 0.5}}, \"text\": [\"United States\", \"India\", \"United Kingdom\", \"Canada\", \"Vietnam\", \"Turkey\", \"Thailand\", \"Germany\", \"Brazil\", \"Japan\", \"France\", \"Mexico\", \"Taiwan\", \"Australia\", \"Russia\", \"Spain\", \"Netherlands\", \"Italy\", \"Poland\", \"Indonesia\", \"Philippines\", \"Singapore\", \"Ireland\", \"Malaysia\", \"Romania\", \"Ukraine\", \"Israel\", \"Peru\", \"Sweden\", \"South Korea\", \"Argentina\", \"Colombia\", \"Hong Kong\", \"Belgium\", \"Switzerland\", \"Czechia\", \"Pakistan\", \"China\", \"Greece\", \"Denmark\", \"United Arab Emirates\", \"Saudi Arabia\", \"Austria\", \"Hungary\", \"Portugal\", \"Egypt\", \"Bangladesh\", \"Norway\", \"New Zealand\", \"Venezuela\", \"South Africa\", \"Algeria\", \"Bulgaria\", \"Chile\", \"Morocco\", \"Serbia\", \"Slovakia\", \"Sri Lanka\", \"(not set)\", \"Nigeria\", \"Croatia\", \"Ecuador\", \"Tunisia\", \"Belarus\", \"Kazakhstan\", \"Finland\", \"Dominican Republic\", \"Bosnia & Herzegovina\", \"Georgia\", \"Jordan\", \"Lithuania\", \"Macedonia (FYROM)\", \"Kenya\", \"Puerto Rico\", \"Slovenia\", \"Iraq\", \"Latvia\", \"Estonia\", \"Uruguay\", \"Guatemala\", \"Azerbaijan\", \"Costa Rica\", \"Albania\", \"Qatar\", \"Cambodia\", \"Kuwait\", \"Panama\", \"Cyprus\", \"Kosovo\", \"Lebanon\", \"El Salvador\", \"Ghana\", \"C\\u00f4te d\\u2019Ivoire\", \"Moldova\", \"Bolivia\", \"Oman\", \"Armenia\", \"Tanzania\", \"Bahrain\", \"Mongolia\", \"Nepal\", \"Myanmar (Burma)\", \"Palestine\", \"Honduras\", \"Malta\", \"Cameroon\", \"Uganda\", \"Trinidad & Tobago\", \"Laos\", \"Luxembourg\", \"Jamaica\", \"Senegal\", \"R\\u00e9union\", \"Iceland\", \"Ethiopia\", \"Nicaragua\", \"Kyrgyzstan\", \"Paraguay\", \"Macau\", \"Montenegro\", \"Congo - Kinshasa\", \"Uzbekistan\", \"Yemen\", \"Libya\", \"Sudan\", \"Maldives\", \"Mauritius\", \"Mozambique\", \"Brunei\", \"Martinique\", \"Zimbabwe\", \"Angola\", \"Afghanistan\", \"Barbados\", \"Madagascar\", \"Rwanda\", \"Fiji\", \"Benin\", \"Iran\", \"Jersey\", \"Guam\", \"Mauritania\", \"Bahamas\", \"Zambia\", \"Somalia\", \"Bermuda\", \"Haiti\", \"Burkina Faso\", \"Namibia\", \"Mali\", \"Togo\", \"Guinea\", \"Cura\\u00e7ao\", \"Suriname\", \"Guadeloupe\", \"Aruba\", \"Belize\", \"Guyana\", \"Guernsey\", \"Gabon\", \"St. Lucia\", \"New Caledonia\", \"Grenada\", \"U.S. Virgin Islands\", \"Monaco\", \"Chad\", \"French Polynesia\", \"French Guiana\", \"Cape Verde\", \"Faroe Islands\", \"Andorra\", \"Swaziland\", \"Cayman Islands\", \"Turks & Caicos Islands\", \"Mayotte\", \"Botswana\", \"Malawi\", \"Burundi\", \"Tajikistan\", \"Northern Mariana Islands\", \"Papua New Guinea\", \"Djibouti\", \"Niger\", \"Gambia\", \"Gibraltar\", \"Syria\", \"St. Vincent & Grenadines\", \"St. Kitts & Nevis\", \"Liberia\", \"Sint Maarten\", \"Bhutan\", \"Sierra Leone\", \"Timor-Leste\", \"Liechtenstein\", \"Lesotho\", \"British Virgin Islands\", \"Antigua & Barbuda\", \"Greenland\", \"Turkmenistan\", \"Guinea-Bissau\", \"San Marino\", \"Equatorial Guinea\", \"Caribbean Netherlands\", \"Central African Republic\", \"Congo - Brazzaville\", \"Dominica\", \"Cook Islands\", \"Seychelles\", \"Vanuatu\", \"Isle of Man\", \"Marshall Islands\", \"Comoros\", \"S\\u00e3o Tom\\u00e9 & Pr\\u00edncipe\", \"American Samoa\", \"Norfolk Island\", \"\\u00c5land Islands\", \"Eritrea\", \"St. Pierre & Miquelon\", \"St. Martin\", \"Samoa\", \"St. Barth\\u00e9lemy\", \"Anguilla\"], \"type\": \"choropleth\", \"z\": [364744, 51140, 37393, 25869, 24598, 20522, 20123, 19980, 19783, 19731, 15832, 13225, 12996, 12698, 11662, 11658, 11453, 11332, 9693, 9273, 9244, 7172, 6493, 6439, 6428, 5577, 5563, 5546, 5315, 5237, 5037, 4880, 4718, 4442, 4427, 4247, 4010, 3881, 3370, 3319, 3144, 3132, 2796, 2513, 2376, 2343, 2297, 2250, 2194, 2132, 2099, 2055, 2046, 1950, 1907, 1872, 1788, 1468, 1468, 1446, 1396, 1251, 1194, 976, 968, 959, 934, 903, 888, 859, 848, 846, 771, 732, 729, 711, 705, 656, 627, 581, 569, 554, 547, 535, 522, 521, 476, 463, 435, 398, 393, 381, 320, 319, 318, 305, 280, 260, 256, 241, 211, 196, 191, 188, 175, 175, 166, 164, 161, 156, 153, 151, 145, 142, 139, 139, 134, 132, 115, 110, 103, 96, 96, 92, 92, 89, 87, 74, 65, 61, 59, 58, 57, 55, 47, 46, 44, 42, 41, 41, 41, 40, 40, 40, 39, 38, 37, 37, 36, 35, 32, 31, 30, 30, 29, 29, 27, 27, 25, 25, 24, 23, 22, 22, 21, 20, 20, 18, 18, 18, 17, 14, 14, 14, 14, 14, 12, 12, 12, 12, 11, 10, 10, 10, 10, 10, 10, 8, 8, 8, 8, 8, 7, 7, 6, 5, 5, 5, 5, 4, 4, 4, 4, 4, 3, 3, 3, 3, 3, 3, 2, 2, 1, 1, 1, 1, 1, 1, 1, 1, 1, 1]}],                        {\"geo\": {\"projection\": {\"type\": \"natural earth\"}, \"showcoastlines\": true, \"showframe\": false}, \"title\": \"Couting Visits Per Country\"},                        {\"responsive\": true}                    ).then(function(){\n",
       "                            \n",
       "var gd = document.getElementById('0f4522a5-5512-4b9d-aa64-171646f39dca');\n",
       "var x = new MutationObserver(function (mutations, observer) {{\n",
       "        var display = window.getComputedStyle(gd).display;\n",
       "        if (!display || display === 'none') {{\n",
       "            console.log([gd, 'removed!']);\n",
       "            Plotly.purge(gd);\n",
       "            observer.disconnect();\n",
       "        }}\n",
       "}});\n",
       "\n",
       "// Listen for the removal of the full notebook cells\n",
       "var notebookContainer = gd.closest('#notebook-container');\n",
       "if (notebookContainer) {{\n",
       "    x.observe(notebookContainer, {childList: true});\n",
       "}}\n",
       "\n",
       "// Listen for the clearing of the current output cell\n",
       "var outputEl = gd.closest('.output');\n",
       "if (outputEl) {{\n",
       "    x.observe(outputEl, {childList: true});\n",
       "}}\n",
       "\n",
       "                        })                };                });            </script>        </div>"
      ]
     },
     "metadata": {},
     "output_type": "display_data"
    }
   ],
   "source": [
    "countMaps = pd.DataFrame(df['country'].value_counts()).reset_index()\n",
    "countMaps.columns=['country', 'counts'] #renaming columns\n",
    "countMaps = countMaps.reset_index().drop('index', axis=1) #reseting index and droping the column\n",
    "\n",
    "data = [ dict(\n",
    "        type = 'choropleth',\n",
    "        locations = countMaps['country'],\n",
    "        locationmode = 'country names',\n",
    "        z = countMaps['counts'],\n",
    "        text = countMaps['country'],\n",
    "        colorscale = 'YlGnBu',\n",
    "        autocolorscale = False,\n",
    "        marker = dict(\n",
    "            line = dict (\n",
    "                color = 'rgb(180,180,180)',\n",
    "                width = 0.5\n",
    "            ) ),\n",
    "        colorbar = dict(\n",
    "            autotick = False,\n",
    "            tickprefix = '',\n",
    "            title = 'Number of Visits'),\n",
    "      ) ]\n",
    "\n",
    "layout = dict(\n",
    "    title = 'Visits Per Country',\n",
    "    geo = dict(\n",
    "        showframe = False,\n",
    "        showcoastlines = True,\n",
    "        projection = dict(\n",
    "            type = 'natural earth'\n",
    "        )\n",
    "    )\n",
    ")\n",
    "\n",
    "figure = dict( data=data, layout=layout )\n",
    "iplot(figure, validate=False, filename='map-countrys-count')"
   ]
  },
  {
   "cell_type": "code",
   "execution_count": null,
   "id": "2d693b86",
   "metadata": {},
   "outputs": [],
   "source": []
  },
  {
   "cell_type": "code",
   "execution_count": null,
   "id": "3412f979",
   "metadata": {},
   "outputs": [],
   "source": []
  },
  {
   "cell_type": "code",
   "execution_count": null,
   "id": "4dc90f29",
   "metadata": {},
   "outputs": [],
   "source": []
  }
 ],
 "metadata": {
  "environment": {
   "name": "tf2-gpu.2-3.m65",
   "type": "gcloud",
   "uri": "gcr.io/deeplearning-platform-release/tf2-gpu.2-3:m65"
  },
  "kernelspec": {
   "display_name": "Python 3",
   "language": "python",
   "name": "python3"
  },
  "language_info": {
   "codemirror_mode": {
    "name": "ipython",
    "version": 3
   },
   "file_extension": ".py",
   "mimetype": "text/x-python",
   "name": "python",
   "nbconvert_exporter": "python",
   "pygments_lexer": "ipython3",
   "version": "3.7.10"
  }
 },
 "nbformat": 4,
 "nbformat_minor": 5
}
